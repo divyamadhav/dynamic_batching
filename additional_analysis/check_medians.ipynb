{
 "cells": [
  {
   "cell_type": "code",
   "execution_count": 1,
   "id": "be15b582",
   "metadata": {},
   "outputs": [],
   "source": [
    "import pandas as pd\n",
    "from statistics import median\n",
    "from projects import project_list"
   ]
  },
  {
   "cell_type": "code",
   "execution_count": 2,
   "id": "56e667bb",
   "metadata": {},
   "outputs": [],
   "source": [
    "data = pd.read_csv('ci_skip_all_results.csv')\n",
    "data['builds_saved'] = pd.to_numeric(data['builds_saved'])"
   ]
  },
  {
   "cell_type": "code",
   "execution_count": 3,
   "id": "460af755",
   "metadata": {},
   "outputs": [],
   "source": [
    "data = data[~(data['update_method'] == 'half_exp')]"
   ]
  },
  {
   "cell_type": "code",
   "execution_count": 4,
   "id": "c239f16e",
   "metadata": {},
   "outputs": [],
   "source": [
    "new_d = data[ (data['method'] == 'new_dynamic') & (data['ci_skip'] == 0)]\n",
    "static = data[ (data['method'] == 'baseline_static') & (data['ci_skip'] == 0)]\n",
    "base_d = data[ (data['method'] == 'baseline_dynamic') & (data['ci_skip'] == 0)]\n",
    "ci_skip_lwd = data[ (data['method'] == 'new_dynamic') & (data['ci_skip'] == 1)]\n",
    "ci_skip_bd = data[ (data['method'] == 'baseline_dynamic') & (data['ci_skip'] == 1)]\n",
    "ci_skip_bs = data[ (data['method'] == 'baseline_static') & (data['ci_skip'] == 1)]"
   ]
  },
  {
   "cell_type": "code",
   "execution_count": 5,
   "id": "91817e88",
   "metadata": {},
   "outputs": [],
   "source": [
    "projects = list(set(ci_skip_lwd['project'].tolist()))\n",
    "algorithms = ['BATCHBISECT', 'BATCHSTOP4', 'BATCHDIVIDE4']\n",
    "types = set(ci_skip_lwd['update_method'].tolist())"
   ]
  },
  {
   "cell_type": "code",
   "execution_count": 14,
   "id": "273542d3",
   "metadata": {},
   "outputs": [
    {
     "name": "stdout",
     "output_type": "stream",
     "text": [
      "BATCHBISECT \t stagger overall = 40.69049898925418\n",
      "BATCHBISECT \t stagger \t 2.0 \t 40.45997801184524\n",
      "BATCHBISECT \t stagger \t 3.0 \t 41.29543057547525\n",
      "BATCHBISECT \t random_linear \t -1 \t 38.580345426818454\n",
      "BATCHBISECT \t exponential overall = 40.619217701235556\n",
      "BATCHBISECT \t exponential \t 2.0 \t 39.67088697379154\n",
      "BATCHBISECT \t exponential \t 3.0 \t 41.612943645968194\n",
      "BATCHBISECT \t random_random \t -1 \t 41.58598432457354\n",
      "BATCHBISECT \t stagger_mfu overall = 31.139945771185253\n",
      "BATCHBISECT \t stagger_mfu \t 2.0 \t 26.873267665460183\n",
      "BATCHBISECT \t stagger_mfu \t 3.0 \t 34.430115185693275\n",
      "BATCHBISECT \t random_exponential \t -1 \t 38.88903749549511\n",
      "BATCHBISECT \t linear overall = 41.24027036583557\n",
      "BATCHBISECT \t linear \t 1.0 \t 41.556822032250714\n",
      "BATCHBISECT \t linear \t 2.0 \t 42.064758662269035\n",
      "BATCHBISECT \t linear \t 3.0 \t 40.22059084299748\n",
      "BATCHBISECT \t linear \t 4.0 \t 41.22431122124572\n",
      "BATCHSTOP4 \t stagger overall = 47.19799750158653\n",
      "BATCHSTOP4 \t stagger \t 2.0 \t 46.48479404388709\n",
      "BATCHSTOP4 \t stagger \t 3.0 \t 47.58284345109908\n",
      "BATCHSTOP4 \t random_linear \t -1 \t 47.40670767848266\n",
      "BATCHSTOP4 \t exponential overall = 46.55866434849587\n",
      "BATCHSTOP4 \t exponential \t 2.0 \t 44.93656719595256\n",
      "BATCHSTOP4 \t exponential \t 3.0 \t 49.49470542381606\n",
      "BATCHSTOP4 \t random_random \t -1 \t 46.950452777292746\n",
      "BATCHSTOP4 \t stagger_mfu overall = 40.765168416618565\n",
      "BATCHSTOP4 \t stagger_mfu \t 2.0 \t 40.382239999389355\n",
      "BATCHSTOP4 \t stagger_mfu \t 3.0 \t 43.529695293180765\n",
      "BATCHSTOP4 \t random_exponential \t -1 \t 46.63385243394134\n",
      "BATCHSTOP4 \t linear overall = 48.01713858234057\n",
      "BATCHSTOP4 \t linear \t 1.0 \t 47.570909220448556\n",
      "BATCHSTOP4 \t linear \t 2.0 \t 48.639020825721595\n",
      "BATCHSTOP4 \t linear \t 3.0 \t 47.342525357307515\n",
      "BATCHSTOP4 \t linear \t 4.0 \t 49.902144307983434\n",
      "BATCHDIVIDE4 \t stagger overall = 40.696117804551534\n",
      "BATCHDIVIDE4 \t stagger \t 2.0 \t 40.17725177634964\n",
      "BATCHDIVIDE4 \t stagger \t 3.0 \t 41.45103440749332\n",
      "BATCHDIVIDE4 \t random_linear \t -1 \t 43.20728291316526\n",
      "BATCHDIVIDE4 \t exponential overall = 42.50636173846567\n",
      "BATCHDIVIDE4 \t exponential \t 2.0 \t 39.50161740533606\n",
      "BATCHDIVIDE4 \t exponential \t 3.0 \t 49.44934185798057\n",
      "BATCHDIVIDE4 \t random_random \t -1 \t 39.605387248201254\n",
      "BATCHDIVIDE4 \t stagger_mfu overall = 35.09123767115915\n",
      "BATCHDIVIDE4 \t stagger_mfu \t 2.0 \t 31.002512373908246\n",
      "BATCHDIVIDE4 \t stagger_mfu \t 3.0 \t 36.323536729216244\n",
      "BATCHDIVIDE4 \t random_exponential \t -1 \t 44.24889741989274\n",
      "BATCHDIVIDE4 \t linear overall = 41.74179071163847\n",
      "BATCHDIVIDE4 \t linear \t 1.0 \t 42.19502462119011\n",
      "BATCHDIVIDE4 \t linear \t 2.0 \t 41.40417880673019\n",
      "BATCHDIVIDE4 \t linear \t 3.0 \t 40.93320058947274\n",
      "BATCHDIVIDE4 \t linear \t 4.0 \t 41.74179071163847\n"
     ]
    }
   ],
   "source": [
    "for alg in algorithms:\n",
    "    new_alg = new_d[ new_d['algorithm'] == alg]\n",
    "        \n",
    "    for t in types:\n",
    "        new_t = new_alg[ new_alg['update_method'] == t]\n",
    "        \n",
    "        factors = set(new_t['factor'].tolist())\n",
    "        if len(factors) > 1:\n",
    "            print(alg, '\\t', t, 'overall =', median(new_t['builds_saved'].tolist()))\n",
    "            for f in factors:\n",
    "                new_f = new_t[ new_t['factor'] == f]\n",
    "                print(alg, '\\t', t, '\\t',f, '\\t',median(new_f['builds_saved'].tolist()))\n",
    "        else:\n",
    "            print(alg, '\\t',t,'\\t', -1,'\\t', median(new_t['builds_saved'].tolist()))"
   ]
  },
  {
   "cell_type": "code",
   "execution_count": 6,
   "id": "c106c124",
   "metadata": {},
   "outputs": [],
   "source": [
    "higher_ci_skip = []"
   ]
  },
  {
   "cell_type": "code",
   "execution_count": 7,
   "id": "abf16db2",
   "metadata": {},
   "outputs": [
    {
     "name": "stdout",
     "output_type": "stream",
     "text": [
      "650 650\n",
      "650 650\n",
      "650 650\n"
     ]
    }
   ],
   "source": [
    "for alg in algorithms:\n",
    "    wo_alg = new_d[ new_d['algorithm'] == alg]\n",
    "    w_alg = ci_skip_lwd[ ci_skip_lwd['algorithm'] == alg]\n",
    "    \n",
    "    print(len(wo_alg), len(w_alg))\n",
    "    \n",
    "    for t in types:\n",
    "        wo_t = wo_alg[ wo_alg['update_method'] == t]\n",
    "        w_t = w_alg[ w_alg['update_method'] == t]\n",
    "        \n",
    "        wo_t = wo_t.sort_values(by='project')\n",
    "        w_t = w_t.sort_values(by='project')\n",
    "        \n",
    "        \n",
    "        for x in range(len(wo_t)):\n",
    "            wo_row = wo_t.iloc[x]\n",
    "            w_row = w_t.iloc[x]\n",
    "            \n",
    "            if w_row['builds_saved'] > wo_row['builds_saved']:\n",
    "                higher_ci_skip.append(w_row['builds_saved'] - wo_row['builds_saved'])"
   ]
  },
  {
   "cell_type": "code",
   "execution_count": 8,
   "id": "17ea43ef",
   "metadata": {},
   "outputs": [
    {
     "data": {
      "text/plain": [
       "0.6743365310014369"
      ]
     },
     "execution_count": 8,
     "metadata": {},
     "output_type": "execute_result"
    }
   ],
   "source": [
    "median(higher_ci_skip)"
   ]
  },
  {
   "cell_type": "code",
   "execution_count": 9,
   "id": "d8635cbf",
   "metadata": {},
   "outputs": [
    {
     "name": "stdout",
     "output_type": "stream",
     "text": [
      "200 200\n",
      "150 150\n",
      "150 150\n"
     ]
    }
   ],
   "source": [
    "higher_ci_skip = []\n",
    "\n",
    "for alg in algorithms:\n",
    "    wo_alg = static[ static['algorithm'] == alg]\n",
    "    w_alg = ci_skip_bs[ ci_skip_bs['algorithm'] == alg]\n",
    "    \n",
    "    print(len(wo_alg), len(w_alg))\n",
    "    \n",
    "    batch_sizes = set(wo_alg['batch_size'].tolist())\n",
    "    \n",
    "    for b in batch_sizes:\n",
    "        \n",
    "        wo_b = wo_alg[ wo_alg['batch_size'] == b]\n",
    "        w_b = w_alg[ w_alg['batch_size'] == b]\n",
    "        \n",
    "        wo_b = wo_b.sort_values(by='project')\n",
    "        w_b = w_b.sort_values(by='project')\n",
    "\n",
    "        for x in range(len(w_b)):\n",
    "            wo_row = wo_alg.iloc[x]\n",
    "            w_row = w_alg.iloc[x]\n",
    "\n",
    "            if w_row['builds_saved'] > wo_row['builds_saved']:\n",
    "                higher_ci_skip.append(w_row['builds_saved'] - wo_row['builds_saved'])\n",
    "                "
   ]
  },
  {
   "cell_type": "code",
   "execution_count": 10,
   "id": "67d2172d",
   "metadata": {},
   "outputs": [
    {
     "data": {
      "text/plain": [
       "0.6799129891086579"
      ]
     },
     "execution_count": 10,
     "metadata": {},
     "output_type": "execute_result"
    }
   ],
   "source": [
    "median(higher_ci_skip)"
   ]
  },
  {
   "cell_type": "code",
   "execution_count": 11,
   "id": "c102d3e5",
   "metadata": {},
   "outputs": [],
   "source": [
    "higher_ci_skip = []\n",
    "\n",
    "for alg in algorithms:\n",
    "    wo_alg = base_d[ base_d['algorithm'] == alg]\n",
    "    w_alg = ci_skip_bd[ ci_skip_bd['algorithm'] == alg]\n",
    "    \n",
    "    p_wo = wo_alg['project'].tolist()\n",
    "    w_alg = w_alg[w_alg['project'].isin(p_wo)]\n",
    "    \n",
    "    wo_alg = wo_alg.sort_values(by='project')\n",
    "    w_alg = w_alg.sort_values(by='project')\n",
    "        \n",
    "    for x in range(len(wo_alg)):\n",
    "        wo_row = wo_alg.iloc[x]\n",
    "        w_row = w_alg.iloc[x]\n",
    "\n",
    "        if w_row['builds_saved'] > wo_row['builds_saved']:\n",
    "            higher_ci_skip.append(w_row['builds_saved'] - wo_row['builds_saved'])\n",
    "                "
   ]
  },
  {
   "cell_type": "code",
   "execution_count": 12,
   "id": "be9edb9d",
   "metadata": {},
   "outputs": [
    {
     "data": {
      "text/plain": [
       "0.400387800792096"
      ]
     },
     "execution_count": 12,
     "metadata": {},
     "output_type": "execute_result"
    }
   ],
   "source": [
    "median(higher_ci_skip)"
   ]
  },
  {
   "cell_type": "code",
   "execution_count": 13,
   "id": "00971be1",
   "metadata": {},
   "outputs": [],
   "source": [
    "differences = {}"
   ]
  },
  {
   "cell_type": "code",
   "execution_count": 14,
   "id": "76e94167",
   "metadata": {},
   "outputs": [],
   "source": [
    "for alg in algorithms:\n",
    "    differences[alg] = []\n",
    "    base_alg = static[ static['algorithm'] == alg]\n",
    "    new_alg = new_d[ new_d['algorithm'] == alg]\n",
    "    batch_sizes = set(base_alg['batch_size'].tolist())\n",
    "    \n",
    "    for b in batch_sizes:\n",
    "        base_b = base_alg[ base_alg['batch_size'] == b]\n",
    "        \n",
    "        for t in types:\n",
    "            new_t = new_alg[ new_alg['update_method'] == t]\n",
    "            factors = set(new_t['factor'].tolist())\n",
    "            \n",
    "            if len(factors) > 1:\n",
    "                for f in factors:\n",
    "                    new_f = new_t[ new_t['factor'] == f]\n",
    "                    \n",
    "                    new_f_l = new_f.sort_values(by='project', ascending=True)['builds_saved'].tolist()\n",
    "                    base_b_l = base_b.sort_values(by='project', ascending=True)['builds_saved'].tolist()\n",
    "                    diff = [new_f_l[d] - base_b_l[d] for d in range(len(new_f_l))]\n",
    "                    differences[alg].extend(diff)\n",
    "            else:\n",
    "                new_t_l = new_t.sort_values(by='project', ascending=True)['builds_saved'].tolist()\n",
    "                base_b_l = base_b.sort_values(by='project', ascending=True)['builds_saved'].tolist()\n",
    "                \n",
    "                diff = [new_t_l[d] - base_b_l[d] for d in range(len(new_t_l))]\n",
    "                differences[alg].extend(diff)\n",
    "                \n",
    "        "
   ]
  },
  {
   "cell_type": "code",
   "execution_count": 15,
   "id": "eaf9108b",
   "metadata": {},
   "outputs": [
    {
     "name": "stdout",
     "output_type": "stream",
     "text": [
      "BATCHBISECT 11.945096280638339\n",
      "BATCHSTOP4 7.758870011821394\n",
      "BATCHDIVIDE4 4.342687602737854\n"
     ]
    }
   ],
   "source": [
    "for alg in algorithms:\n",
    "    print(alg, median(differences[alg]))"
   ]
  },
  {
   "cell_type": "code",
   "execution_count": 57,
   "id": "0e55520d",
   "metadata": {},
   "outputs": [
    {
     "name": "stdout",
     "output_type": "stream",
     "text": [
      "7.758870011821394\n"
     ]
    }
   ],
   "source": [
    "print(median([median(differences[alg]) for alg in algorithms]))"
   ]
  },
  {
   "cell_type": "code",
   "execution_count": null,
   "id": "c4d2eec1",
   "metadata": {},
   "outputs": [],
   "source": []
  },
  {
   "cell_type": "code",
   "execution_count": 12,
   "id": "7ee7da5d",
   "metadata": {},
   "outputs": [],
   "source": [
    "bd_differences = {}"
   ]
  },
  {
   "cell_type": "code",
   "execution_count": 52,
   "id": "17c0f400",
   "metadata": {},
   "outputs": [],
   "source": [
    "for alg in algorithms:\n",
    "    differences[alg] = []\n",
    "    new_alg = new_d[ new_d['algorithm'] == alg]\n",
    "    ci_alg = ci_skip_lwd[ ci_skip_lwd['algorithm'] == alg]\n",
    "        \n",
    "    for t in types:\n",
    "        new_t = new_alg[ new_alg['update_method'] == t]\n",
    "        ci_t = ci_alg[ ci_alg['update_method'] == t]\n",
    "        \n",
    "        factors = set(new_t['factor'].tolist())\n",
    "\n",
    "        if len(factors) > 1:\n",
    "            for f in factors:\n",
    "                new_f = new_t[ new_t['factor'] == f]\n",
    "                ci_f = ci_t[ ci_t['factor'] == f]\n",
    "                \n",
    "                new_f_l = new_f.sort_values(by='project', ascending=True)['builds_saved'].tolist()\n",
    "                ci_f_l = ci_f.sort_values(by='project', ascending=True)['builds_saved'].tolist()\n",
    "                \n",
    "                diff = [new_f_l[d] - ci_f_l[d] for d in range(len(new_f_l))]\n",
    "                differences[alg].extend(diff)\n",
    "        else:\n",
    "            new_t_l = new_t.sort_values(by='project', ascending=True)['builds_saved'].tolist()\n",
    "            ci_t_l = ci_t.sort_values(by='project', ascending=True)['builds_saved'].tolist()\n",
    "\n",
    "            diff = [new_t_l[d] - ci_t_l[d] for d in range(len(new_t_l))]\n",
    "            differences[alg].extend(diff)\n",
    "                \n",
    "        "
   ]
  },
  {
   "cell_type": "code",
   "execution_count": 53,
   "id": "fc532198",
   "metadata": {},
   "outputs": [
    {
     "name": "stdout",
     "output_type": "stream",
     "text": [
      "BATCHBISECT 0.16155572812684582\n",
      "BATCHSTOP4 0.13064713910889925\n",
      "BATCHDIVIDE4 0.11798173630899811\n"
     ]
    }
   ],
   "source": [
    "for alg in algorithms:\n",
    "    print(alg, median(differences[alg]))"
   ]
  },
  {
   "cell_type": "code",
   "execution_count": null,
   "id": "04474cc4",
   "metadata": {},
   "outputs": [],
   "source": []
  },
  {
   "cell_type": "code",
   "execution_count": 47,
   "id": "ff190db9",
   "metadata": {},
   "outputs": [],
   "source": [
    "differences = {}"
   ]
  },
  {
   "cell_type": "code",
   "execution_count": 48,
   "id": "60f2cd6e",
   "metadata": {},
   "outputs": [],
   "source": [
    "for alg in algorithms:\n",
    "    differences[alg] = []\n",
    "    base_alg = base_d[ base_d['algorithm'] == alg]\n",
    "    new_alg = new_d[ new_d['algorithm'] == alg]\n",
    "    batch_sizes = set(base_alg['batch_size'].tolist())\n",
    "    \n",
    "        \n",
    "    for t in types:\n",
    "        new_t = new_alg[ new_alg['update_method'] == t]\n",
    "        factors = set(new_t['factor'].tolist())\n",
    "\n",
    "        if len(factors) > 1:\n",
    "            for f in factors:\n",
    "                new_f = new_t[ new_t['factor'] == f]\n",
    "\n",
    "                new_f_l = new_f.sort_values(by='project', ascending=True)['builds_saved'].tolist()\n",
    "                base_alg_l = base_alg.sort_values(by='project', ascending=True)['builds_saved'].tolist()\n",
    "                diff = [new_f_l[d] - base_alg_l[d] for d in range(len(new_f_l))]\n",
    "                differences[alg].extend(diff)\n",
    "        else:\n",
    "            new_t_l = new_t.sort_values(by='project', ascending=True)['builds_saved'].tolist()\n",
    "            base_alg_l = base_alg.sort_values(by='project', ascending=True)['builds_saved'].tolist()\n",
    "\n",
    "            diff = [new_t_l[d] - base_alg_l[d] for d in range(len(new_t_l))]\n",
    "            differences[alg].extend(diff)"
   ]
  },
  {
   "cell_type": "code",
   "execution_count": 50,
   "id": "d57d753b",
   "metadata": {},
   "outputs": [
    {
     "name": "stdout",
     "output_type": "stream",
     "text": [
      "0.7610939112487065\n",
      "2.1822847960627847\n",
      "-4.143726456099671\n"
     ]
    }
   ],
   "source": [
    "for alg in algorithms:\n",
    "    print(median(differences[alg]))"
   ]
  },
  {
   "cell_type": "code",
   "execution_count": null,
   "id": "83126284",
   "metadata": {},
   "outputs": [],
   "source": []
  },
  {
   "cell_type": "code",
   "execution_count": null,
   "id": "91f814ce",
   "metadata": {},
   "outputs": [],
   "source": []
  },
  {
   "cell_type": "code",
   "execution_count": 22,
   "id": "f483241e",
   "metadata": {},
   "outputs": [
    {
     "name": "stdout",
     "output_type": "stream",
     "text": [
      "BATCHBISECT\n",
      "baseline_dynamic \t\t\t 39.66995847022551\n",
      "random_random \t\t\t -1 \t\t 41.58598432457354\n",
      "random_exponential \t\t\t -1 \t\t 38.88903749549511\n",
      "linear \t\t\t 1.0 \t\t 41.556822032250714\n",
      "linear \t\t\t 2.0 \t\t 42.064758662269035\n",
      "linear \t\t\t 3.0 \t\t 40.22059084299748\n",
      "linear \t\t\t 4.0 \t\t 41.22431122124572\n",
      "stagger \t\t\t 2.0 \t\t 40.45997801184524\n",
      "stagger \t\t\t 3.0 \t\t 41.29543057547525\n",
      "random_linear \t\t\t -1 \t\t 38.580345426818454\n",
      "stagger_mfu \t\t\t 2.0 \t\t 26.873267665460183\n",
      "stagger_mfu \t\t\t 3.0 \t\t 34.430115185693275\n",
      "exponential \t\t\t 2.0 \t\t 39.67088697379154\n",
      "exponential \t\t\t 3.0 \t\t 41.612943645968194\n",
      "BATCHSTOP4\n",
      "baseline_dynamic \t\t\t 44.3179241984737\n",
      "random_random \t\t\t -1 \t\t 46.950452777292746\n",
      "random_exponential \t\t\t -1 \t\t 46.63385243394134\n",
      "linear \t\t\t 1.0 \t\t 47.570909220448556\n",
      "linear \t\t\t 2.0 \t\t 48.639020825721595\n",
      "linear \t\t\t 3.0 \t\t 47.342525357307515\n",
      "linear \t\t\t 4.0 \t\t 49.902144307983434\n",
      "stagger \t\t\t 2.0 \t\t 46.48479404388709\n",
      "stagger \t\t\t 3.0 \t\t 47.58284345109908\n",
      "random_linear \t\t\t -1 \t\t 47.40670767848266\n",
      "stagger_mfu \t\t\t 2.0 \t\t 40.382239999389355\n",
      "stagger_mfu \t\t\t 3.0 \t\t 43.529695293180765\n",
      "exponential \t\t\t 2.0 \t\t 44.93656719595256\n",
      "exponential \t\t\t 3.0 \t\t 49.49470542381606\n",
      "BATCHDIVIDE4\n",
      "baseline_dynamic \t\t\t 45.270090021923444\n",
      "random_random \t\t\t -1 \t\t 39.605387248201254\n",
      "random_exponential \t\t\t -1 \t\t 44.24889741989274\n",
      "linear \t\t\t 1.0 \t\t 42.19502462119011\n",
      "linear \t\t\t 2.0 \t\t 41.40417880673019\n",
      "linear \t\t\t 3.0 \t\t 40.93320058947274\n",
      "linear \t\t\t 4.0 \t\t 41.74179071163847\n",
      "stagger \t\t\t 2.0 \t\t 40.17725177634964\n",
      "stagger \t\t\t 3.0 \t\t 41.45103440749332\n",
      "random_linear \t\t\t -1 \t\t 43.20728291316526\n",
      "stagger_mfu \t\t\t 2.0 \t\t 31.002512373908246\n",
      "stagger_mfu \t\t\t 3.0 \t\t 36.323536729216244\n",
      "exponential \t\t\t 2.0 \t\t 39.50161740533606\n",
      "exponential \t\t\t 3.0 \t\t 49.44934185798057\n"
     ]
    }
   ],
   "source": [
    "for alg in algorithms:\n",
    "    print(alg)\n",
    "    a_d = new_d[new_d['algorithm'] == alg]\n",
    "    a_base = base_d[base_d['algorithm'] == alg]\n",
    "    print('baseline_dynamic \\t\\t\\t', median(a_base['builds_saved'].tolist()))\n",
    "    for t in types:\n",
    "        d_t = a_d[ a_d['update_method'] == t]\n",
    "        factors = set(d_t['factor'].tolist())\n",
    "        if len(factors) > 1:\n",
    "            for f in factors:\n",
    "                f_t = d_t[ d_t['factor'] == f]\n",
    "                builds_saved = f_t['builds_saved'].tolist()\n",
    "                print(t, '\\t\\t\\t', f, '\\t\\t',median(builds_saved))\n",
    "        else:\n",
    "            builds_saved = d_t['builds_saved'].tolist()\n",
    "            print(t, '\\t\\t\\t', -1, '\\t\\t',median(builds_saved))"
   ]
  },
  {
   "cell_type": "code",
   "execution_count": 50,
   "id": "a0d8160e",
   "metadata": {},
   "outputs": [
    {
     "name": "stdout",
     "output_type": "stream",
     "text": [
      "BATCHBISECT \t\t 39.815217969534224\n",
      "BATCHSTOP4 \t\t 46.88148340248962\n",
      "BATCHDIVIDE4 \t\t 40.7501382340958\n"
     ]
    }
   ],
   "source": [
    "for alg in algorithms:\n",
    "    a_d = new_d[new_d['algorithm'] == alg]\n",
    "    builds_saved = a_d['builds_saved'].tolist()\n",
    "    print(alg, '\\t\\t',median(builds_saved))"
   ]
  },
  {
   "cell_type": "code",
   "execution_count": 53,
   "id": "1da93aed",
   "metadata": {},
   "outputs": [
    {
     "name": "stdout",
     "output_type": "stream",
     "text": [
      "BATCHBISECT 8 \t\t 25.642507871423533\n",
      "BATCHBISECT 16 \t\t 24.287399629930704\n",
      "BATCHBISECT 2 \t\t 20.73354451369034\n",
      "BATCHBISECT 4 \t\t 26.15485172271487\n",
      "BATCHSTOP4 8 \t\t 38.717668377684795\n",
      "BATCHSTOP4 16 \t\t 38.2995328478506\n",
      "BATCHSTOP4 4 \t\t 37.75175249727814\n",
      "BATCHDIVIDE4 8 \t\t 38.717668377684795\n",
      "BATCHDIVIDE4 16 \t\t 28.447407757259306\n",
      "BATCHDIVIDE4 4 \t\t 37.75175249727814\n"
     ]
    }
   ],
   "source": [
    "for alg in algorithms:\n",
    "    a_d = static[static['algorithm'] == alg]\n",
    "    batch_sizes = set(a_d['batch_size'].tolist())\n",
    "    \n",
    "    for b in batch_sizes:\n",
    "        b_d = a_d[ a_d['batch_size'] == b]\n",
    "        builds_saved = b_d['builds_saved'].tolist()\n",
    "        \n",
    "        print(alg, b, '\\t\\t',median(builds_saved))"
   ]
  },
  {
   "cell_type": "code",
   "execution_count": 15,
   "id": "79334ed7",
   "metadata": {},
   "outputs": [],
   "source": [
    "# min_max_db = {}\n",
    "# db = {}\n",
    "# for alg in algorithms:\n",
    "#     print(alg)\n",
    "#     db[alg] = {}\n",
    "#     min_max_db[alg] = {}\n",
    "    \n",
    "#     skip_alg = ci_skip[ ci_skip['algorithm'] == alg]\n",
    "#     base_alg = base[ base['algorithm'] == alg]\n",
    "    \n",
    "# #     print(base_alg)\n",
    "    \n",
    "#     builds = base_alg['builds_saved'].tolist()\n",
    "#     projects = base_alg['project'].tolist()\n",
    "    \n",
    "#     for i in range(len(projects)):\n",
    "#         db[alg][projects[i]] = [builds[i], 0]\n",
    "        \n",
    "#     for t in types:\n",
    "#         print(t)\n",
    "#         skip_alg_t = skip_alg[ skip_alg['update_method']==t]\n",
    "#         skip_alg_t = skip_alg_t.sort_values(by=['project'])\n",
    "        \n",
    "# #         print(skip_alg_t)\n",
    "        \n",
    "#         builds = skip_alg_t['builds_saved'].tolist()\n",
    "#         projects = skip_alg_t['project'].tolist()\n",
    "        \n",
    "#         for i in range(len(projects)):\n",
    "#             db[alg][projects[i]][1] = builds[i]\n",
    "        \n",
    "#         l = []\n",
    "        \n",
    "#         for p in db[alg]:\n",
    "#             l.append(abs(db[alg][p][0]-db[alg][p][1]))\n",
    "        \n",
    "#         projects = list(db[alg].keys())\n",
    "        \n",
    "#         print('Min: {} {}'.format(min(l), projects[l.index(min(l))]))\n",
    "#         print('Max: {} {}'.format(max(l), projects[l.index(max(l))]))\n",
    "#         min_max_db[alg][t] = [(min(l), projects[l.index(min(l))]), (max(l), projects[l.index(max(l))])]\n",
    "        \n",
    "# #         print(db[alg])"
   ]
  },
  {
   "cell_type": "code",
   "execution_count": 16,
   "id": "55500795",
   "metadata": {},
   "outputs": [],
   "source": [
    "# for alg in db:\n",
    "#     keys = list(db[alg].keys())\n",
    "#     vals = list(db[alg].values())\n",
    "    \n",
    "#     print('For {}, \\nMinimum {} = {}, \\nMaximum = {} = {}'.format(alg, keys[vals.index(min(vals))], min(vals), keys[vals.index(max(vals))], max(vals)))\n",
    "    "
   ]
  },
  {
   "cell_type": "code",
   "execution_count": 17,
   "id": "83d58a80",
   "metadata": {},
   "outputs": [],
   "source": [
    "# med_medians = []\n",
    "\n",
    "# for alg in algorithms:\n",
    "    \n",
    "    \n",
    "    \n",
    "#     print(alg)\n",
    "    \n",
    "#     skip_alg = ci_skip[ ci_skip['algorithm'] == alg]\n",
    "#     base_alg = base[ base['algorithm'] == alg]\n",
    "    \n",
    "#     batch_sizes = set(base_alg['batch_size'].tolist())\n",
    "    \n",
    "#     for b in batch_sizes:\n",
    "#         print(b)\n",
    "#         base_alg_b = base_alg[ base_alg['batch_size'] == b]\n",
    "        \n",
    "#         builds = base_alg_b['builds_saved'].tolist()\n",
    "#         base_median = median(builds)\n",
    "#         print(base_median)\n",
    "        \n",
    "#         for t in types:\n",
    "#             meds = []\n",
    "#             print(t)\n",
    "#             skip_alg_t = skip_alg[ skip_alg['update_method']==t]\n",
    "#             factors = set(skip_alg_t['factor'].tolist())\n",
    "\n",
    "#             if len(factors) > 1:\n",
    "\n",
    "#                 for f in factors:\n",
    "\n",
    "#                     skip_alg_t_f = skip_alg_t[ skip_alg_t['factor'] == f]\n",
    "#                     builds = skip_alg_t_f['builds_saved'].tolist()\n",
    "#                     print(len(builds))\n",
    "#                     skip_t_f_median = median(builds)\n",
    "\n",
    "#                     print(base_median, skip_t_f_median, skip_t_f_median-base_median)\n",
    "#                     meds.append(skip_t_f_median-base_median)\n",
    "#             else:\n",
    "\n",
    "#                 builds = skip_alg_t['builds_saved'].tolist()\n",
    "#                 skip_t_median = median(builds)\n",
    "\n",
    "#                 print(base_median, skip_t_median, skip_t_median-base_median)\n",
    "#                 meds.append(skip_t_median-base_median)\n",
    "#             medians.append(meds)"
   ]
  }
 ],
 "metadata": {
  "kernelspec": {
   "display_name": "Python 3 (ipykernel)",
   "language": "python",
   "name": "python3"
  },
  "language_info": {
   "codemirror_mode": {
    "name": "ipython",
    "version": 3
   },
   "file_extension": ".py",
   "mimetype": "text/x-python",
   "name": "python",
   "nbconvert_exporter": "python",
   "pygments_lexer": "ipython3",
   "version": "3.9.7"
  }
 },
 "nbformat": 4,
 "nbformat_minor": 5
}
