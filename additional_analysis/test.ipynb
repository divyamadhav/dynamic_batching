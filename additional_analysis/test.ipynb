{
 "cells": [
  {
   "cell_type": "code",
   "execution_count": 1,
   "id": "3d415818",
   "metadata": {},
   "outputs": [],
   "source": [
    "from batching_algs import *"
   ]
  },
  {
   "cell_type": "code",
   "execution_count": 3,
   "id": "c466c8a1",
   "metadata": {},
   "outputs": [
    {
     "name": "stdout",
     "output_type": "stream",
     "text": [
      "7\n",
      "hello\n",
      "0\n",
      "7\n"
     ]
    }
   ],
   "source": [
    "batch = [1,1,0,0,1,1,1,1]\n",
    "print(batchstop4(batch))\n",
    "print(batchdivide4(batch))"
   ]
  },
  {
   "cell_type": "code",
   "execution_count": 4,
   "id": "0a95c03b",
   "metadata": {},
   "outputs": [
    {
     "name": "stdout",
     "output_type": "stream",
     "text": [
      "hello\n",
      "0\n"
     ]
    },
    {
     "data": {
      "text/plain": [
       "7"
      ]
     },
     "execution_count": 4,
     "metadata": {},
     "output_type": "execute_result"
    }
   ],
   "source": [
    "batch = [1,1,1,1,0,0,0,0]\n",
    "batchdivide4(batch)"
   ]
  },
  {
   "cell_type": "code",
   "execution_count": null,
   "id": "c71a8945",
   "metadata": {},
   "outputs": [],
   "source": []
  }
 ],
 "metadata": {
  "kernelspec": {
   "display_name": "Python 3 (ipykernel)",
   "language": "python",
   "name": "python3"
  },
  "language_info": {
   "codemirror_mode": {
    "name": "ipython",
    "version": 3
   },
   "file_extension": ".py",
   "mimetype": "text/x-python",
   "name": "python",
   "nbconvert_exporter": "python",
   "pygments_lexer": "ipython3",
   "version": "3.9.7"
  }
 },
 "nbformat": 4,
 "nbformat_minor": 5
}
