{
 "cells": [
  {
   "cell_type": "code",
   "execution_count": 1,
   "id": "70aa984d",
   "metadata": {},
   "outputs": [],
   "source": [
    "import pandas as pd\n",
    "from projects import project_list\n",
    "from batching_algs import *\n",
    "from collections import Counter\n",
    "import csv"
   ]
  },
  {
   "cell_type": "code",
   "execution_count": 2,
   "id": "ddb80982",
   "metadata": {},
   "outputs": [],
   "source": [
    "algorithms = {'BATCHBISECT':batchbisect, 'BATCHSTOP4':batchstop4, 'BATCHDIVIDE4':batchdivide4}"
   ]
  },
  {
   "cell_type": "code",
   "execution_count": 3,
   "id": "7eb4d6bb",
   "metadata": {},
   "outputs": [],
   "source": [
    "# r_file_name = 'mfu_s.csv'\n",
    "# result_file = open(r_file_name, 'w')\n",
    "# result_headers = ['project', 'algorithm', 'batch_size', 'update_method', 'factor', 'num_of_builds', 'builds_saved', 'testall_size']\n",
    "# writer = csv.writer(result_file)\n",
    "# writer.writerow(result_headers)"
   ]
  },
  {
   "cell_type": "code",
   "execution_count": 4,
   "id": "246fc4ec",
   "metadata": {},
   "outputs": [],
   "source": [
    "def output_values(tr_results):\n",
    "    l = []\n",
    "    i = 0\n",
    "    while i < len(tr_results):\n",
    "        if tr_results[i] == 'passed':\n",
    "            l.append(1)\n",
    "        else:\n",
    "            l.append(0)\n",
    "        i += 1\n",
    "    \n",
    "    return l"
   ]
  },
  {
   "cell_type": "code",
   "execution_count": 5,
   "id": "3481df41",
   "metadata": {},
   "outputs": [],
   "source": [
    "def mfu(results, factor, algorithm):\n",
    "    \n",
    "    max_batch_size = 16\n",
    "    min_batch_size = 1\n",
    "    batch_sizes = []\n",
    "    \n",
    "    i = 0\n",
    "    builds = 0\n",
    "    length = len(results)\n",
    "    \n",
    "    cur_batch_size = max_batch_size\n",
    "    \n",
    "    while i < length:\n",
    "        \n",
    "        batch = results[i:i+cur_batch_size]\n",
    "        i = i+cur_batch_size\n",
    "        batch_sizes.append(cur_batch_size)\n",
    "        \n",
    "        batch_total = algorithm(batch)\n",
    "        builds += batch_total\n",
    "        \n",
    "        if 0 in batch:\n",
    "            res = 0\n",
    "        else:\n",
    "            res = 1\n",
    "        \n",
    "        fails_per = 100*batch.count(0)/len(batch)\n",
    "        #print(cur_batch_size, batch, batch_total, fails_per)\n",
    "        \n",
    "        if res == 0:\n",
    "        \n",
    "            if cur_batch_size <= factor:\n",
    "                cur_batch_size = min_batch_size\n",
    "\n",
    "            elif fails_per < 20:\n",
    "                cur_batch_size -= factor\n",
    "\n",
    "            elif fails_per < 50:\n",
    "                cur_batch_size //= factor\n",
    "\n",
    "            else:\n",
    "                cur_batch_size = Counter(batch_sizes).most_common(1)[0][0]\n",
    "        \n",
    "        else:\n",
    "            \n",
    "            if cur_batch_size >= 16:\n",
    "                cur_batch_size = max_batch_size\n",
    "            else:\n",
    "                cur_batch_size = min(cur_batch_size * factor, 16)\n",
    "        \n",
    "    \n",
    "    builds_saved = 100-(100*builds/length)\n",
    "    return builds, builds_saved"
   ]
  },
  {
   "cell_type": "code",
   "execution_count": 6,
   "id": "7da27d28",
   "metadata": {},
   "outputs": [
    {
     "name": "stderr",
     "output_type": "stream",
     "text": [
      "/opt/homebrew/Caskroom/miniforge/base/envs/new_env/lib/python3.9/site-packages/IPython/core/interactiveshell.py:3444: DtypeWarning: Columns (61) have mixed types.Specify dtype option on import or set low_memory=False.\n",
      "  exec(code_obj, self.user_global_ns, self.user_ns)\n",
      "/opt/homebrew/Caskroom/miniforge/base/envs/new_env/lib/python3.9/site-packages/IPython/core/interactiveshell.py:3444: DtypeWarning: Columns (5,8,20) have mixed types.Specify dtype option on import or set low_memory=False.\n",
      "  exec(code_obj, self.user_global_ns, self.user_ns)\n",
      "/opt/homebrew/Caskroom/miniforge/base/envs/new_env/lib/python3.9/site-packages/IPython/core/interactiveshell.py:3444: DtypeWarning: Columns (5,8,20,51,53,61) have mixed types.Specify dtype option on import or set low_memory=False.\n",
      "  exec(code_obj, self.user_global_ns, self.user_ns)\n"
     ]
    }
   ],
   "source": [
    "i = 1\n",
    "final_file = []\n",
    "r_file_name = 'mfu_s.csv'\n",
    "result_file = open(r_file_name, 'a+')\n",
    "writer = csv.writer(result_file)\n",
    "\n",
    "for p in project_list:\n",
    "        \n",
    "    #print(p)\n",
    "    pname = p.split('/')[1]\n",
    "    if (pname == 'BuildCraft-BuildCraft.csv') | (pname == 'RS485-LogisticsPipes.csv') | (pname == 'datastax-java-driver.csv') :\n",
    "        continue\n",
    "    \n",
    "    data = pd.read_csv('ci_skip_data/extracted_project_travis/' + pname)\n",
    "    \n",
    "    branch_type = data['git_branch'].tolist()\n",
    "    if 'master' in branch_type:\n",
    "        data = data[ data['git_branch'] == 'master']\n",
    "    else:\n",
    "        data = data[ data['git_branch'] == 'trunk']\n",
    "    \n",
    "    #data = data[ data.verdict == 0]       #------> we are omitting ci skip builds if this line is uncommented\n",
    "    final_data = data.iloc[100:]\n",
    "    \n",
    "    if len(final_data) == 0:\n",
    "        print(p)\n",
    "        continue\n",
    "    \n",
    "    results = output_values(final_data['tr_status'].tolist())\n",
    "    for alg in algorithms:\n",
    "        builds, saved = mfu(results, 2, algorithms[alg])\n",
    "        final_file.append([pname, str(alg), 0, '-1', 'new_dynamic', 'stagger_mfu', 2, builds, saved, len(results)])\n",
    "        \n",
    "        builds, saved = mfu(results, 3, algorithms[alg])\n",
    "        final_file.append([pname, str(alg), 0, '-1', 'new_dynamic', 'stagger_mfu', 3, builds, saved, len(results)])\n",
    "    \n",
    "    \n",
    "    final_data = data[ data.verdict == 0]       #------> we are omitting ci skip builds if this line is uncommented\n",
    "    final_data = final_data.iloc[100:]\n",
    "    \n",
    "    if len(final_data) == 0:\n",
    "        print(p)\n",
    "        continue\n",
    "    \n",
    "    results = output_values(final_data['tr_status'].tolist())\n",
    "    for alg in algorithms:\n",
    "        builds, saved = mfu(results, 2, algorithms[alg])\n",
    "        final_file.append([pname, str(alg), 1, '-1', 'new_dynamic', 'stagger_mfu', 2, builds, saved, len(results)])\n",
    "        \n",
    "        builds, saved = mfu(results, 3, algorithms[alg])\n",
    "        final_file.append([pname, str(alg), 1, '-1', 'new_dynamic', 'stagger_mfu', 3, builds, saved, len(results)])\n",
    "    \n",
    "    \n",
    "    \n",
    "    "
   ]
  },
  {
   "cell_type": "code",
   "execution_count": 7,
   "id": "d334eefe",
   "metadata": {},
   "outputs": [],
   "source": [
    "df = pd.DataFrame(final_file, columns=['project', 'algorithm', 'ci_skip', 'batch_size', 'method', 'update_method', 'factor', 'num_of_builds', 'builds_saved', 'testall_size'])"
   ]
  },
  {
   "cell_type": "code",
   "execution_count": 8,
   "id": "45222241",
   "metadata": {},
   "outputs": [],
   "source": [
    "df.to_csv('mfu.csv')"
   ]
  },
  {
   "cell_type": "code",
   "execution_count": null,
   "id": "f4404e17",
   "metadata": {},
   "outputs": [],
   "source": []
  }
 ],
 "metadata": {
  "kernelspec": {
   "display_name": "Python 3 (ipykernel)",
   "language": "python",
   "name": "python3"
  },
  "language_info": {
   "codemirror_mode": {
    "name": "ipython",
    "version": 3
   },
   "file_extension": ".py",
   "mimetype": "text/x-python",
   "name": "python",
   "nbconvert_exporter": "python",
   "pygments_lexer": "ipython3",
   "version": "3.9.7"
  }
 },
 "nbformat": 4,
 "nbformat_minor": 5
}
