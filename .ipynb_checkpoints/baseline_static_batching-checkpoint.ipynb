{
 "cells": [
  {
   "cell_type": "code",
   "execution_count": 12,
   "id": "6ab30ed5",
   "metadata": {},
   "outputs": [],
   "source": [
    "import pandas as pd\n",
    "import csv\n",
    "from statistics import median"
   ]
  },
  {
   "cell_type": "code",
   "execution_count": 13,
   "id": "44c7f74b",
   "metadata": {},
   "outputs": [],
   "source": [
    "project_list = [\n",
    "    'ruby.csv',\n",
    "    'metasploit-framework.csv',\n",
    "    'graylog2-server.csv',\n",
    "    'android.csv',\n",
    "    'vagrant.csv',\n",
    "    'gradle.csv',\n",
    "    'puppet.csv',\n",
    "    'opal.csv',\n",
    "    'rspec-core.csv',\n",
    "    'rails.csv',\n",
    "    'okhttp.csv',\n",
    "    'cloudify.csv',\n",
    "]"
   ]
  },
  {
   "cell_type": "code",
   "execution_count": 14,
   "id": "64726fa9",
   "metadata": {},
   "outputs": [
    {
     "data": {
      "text/plain": [
       "69"
      ]
     },
     "execution_count": 14,
     "metadata": {},
     "output_type": "execute_result"
    }
   ],
   "source": [
    "r_file_name = 'static_baseline_batching.csv'\n",
    "result_file = open(r_file_name, 'w')\n",
    "result_headers = ['project', 'algorithm', 'batch_size', 'builds_saved', 'median_delay', 'testall_size']\n",
    "writer = csv.writer(result_file)\n",
    "writer.writerow(result_headers)"
   ]
  },
  {
   "cell_type": "code",
   "execution_count": 15,
   "id": "53da87a8",
   "metadata": {},
   "outputs": [],
   "source": [
    "batch_total = 0"
   ]
  },
  {
   "cell_type": "code",
   "execution_count": 16,
   "id": "24b54a89",
   "metadata": {},
   "outputs": [],
   "source": [
    "def output_values(tr_results):\n",
    "    l = []\n",
    "    i = 0\n",
    "    while i < len(tr_results):\n",
    "        if tr_results[i] == 'passed':\n",
    "            l.append(1)\n",
    "        else:\n",
    "            l.append(0)\n",
    "        i += 1\n",
    "    \n",
    "    return l"
   ]
  },
  {
   "cell_type": "code",
   "execution_count": 17,
   "id": "80bbd011",
   "metadata": {},
   "outputs": [],
   "source": [
    "def batch_bisect(batch_results):\n",
    "    global batch_total\n",
    "    \n",
    "    batch_total += 1\n",
    "    \n",
    "    if len(batch_results) == 1:\n",
    "        return\n",
    "    \n",
    "    if 0 in batch_results:\n",
    "        half_batch = len(batch_results)//2\n",
    "        batch_bisect(batch_results[:half_batch])\n",
    "        batch_bisect(batch_results[half_batch:])"
   ]
  },
  {
   "cell_type": "code",
   "execution_count": 18,
   "id": "4e355098",
   "metadata": {},
   "outputs": [],
   "source": [
    "def batch_stop_4(batch_results):\n",
    "    global batch_total\n",
    "    \n",
    "    batch_total += 1\n",
    "    \n",
    "    if len(batch_results) <= 4:\n",
    "        if 0 in batch_results:\n",
    "            batch_total += 4\n",
    "        return\n",
    "    \n",
    "    if 0 in batch_results:\n",
    "        half_batch = len(batch_results)//2\n",
    "        batch_stop_4(batch_results[:half_batch])\n",
    "        batch_stop_4(batch_results[half_batch:])"
   ]
  },
  {
   "cell_type": "code",
   "execution_count": 19,
   "id": "d1cd2038",
   "metadata": {},
   "outputs": [],
   "source": [
    "def bb_batching(project, data):\n",
    "    global batch_total\n",
    "    \n",
    "    result_file = open('static_baseline_batching.csv', 'a+')\n",
    "    writer = csv.writer(result_file)\n",
    "    \n",
    "    results = output_values(data['tr_status'].tolist())\n",
    "    length = len(results)\n",
    "    \n",
    "    batch_sizes = [2, 4, 8, 16]\n",
    "    for b in batch_sizes:\n",
    "        builds = 0\n",
    "        delays = []\n",
    "        \n",
    "        i = 0\n",
    "        while i < length:\n",
    "            if length - i > b:\n",
    "                batch = results[i:i+b]\n",
    "                delays.extend([b-x-1 for x in range(b)])\n",
    "            else:\n",
    "                batch = results[i:]\n",
    "                delays.extend([b-x-1 for x in range(length-i)])\n",
    "            batch_total = 0\n",
    "            batch_bisect(batch)\n",
    "            builds += batch_total\n",
    "            \n",
    "            i += b\n",
    "        \n",
    "        builds_saved = 100-(100*builds/length)\n",
    "        median_delay = median(delays)\n",
    "        \n",
    "        writer.writerow([p, 'BATCHBISECT', b, builds_saved, median_delay, length])"
   ]
  },
  {
   "cell_type": "code",
   "execution_count": 20,
   "id": "3dc524d5",
   "metadata": {},
   "outputs": [],
   "source": [
    "def bs4_batching(project, data):\n",
    "    global batch_total\n",
    "    \n",
    "    result_file = open('static_baseline_batching.csv', 'a+')\n",
    "    writer = csv.writer(result_file)\n",
    "    \n",
    "    results = output_values(data['tr_status'].tolist())\n",
    "    length = len(results)\n",
    "    \n",
    "    batch_sizes = [8, 16]\n",
    "    for b in batch_sizes:\n",
    "        builds = 0\n",
    "        delays = []\n",
    "        \n",
    "        i = 0\n",
    "        while i < length:\n",
    "            if length - i > b:\n",
    "                batch = results[i:i+b]\n",
    "                delays.extend([b-x-1 for x in range(b)])\n",
    "            else:\n",
    "                batch = results[i:]\n",
    "                delays.extend([b-x-1 for x in range(length-i)])\n",
    "            batch_total = 0\n",
    "            batch_stop_4(batch)\n",
    "            builds += batch_total\n",
    "            \n",
    "            i += b\n",
    "        \n",
    "        builds_saved = 100-(100*builds/length)\n",
    "        median_delay = median(delays)\n",
    "        \n",
    "        writer.writerow([p, 'BATCHSTOP4', b, builds_saved, median_delay, length])"
   ]
  },
  {
   "cell_type": "code",
   "execution_count": 23,
   "id": "acd544f9",
   "metadata": {},
   "outputs": [
    {
     "name": "stdout",
     "output_type": "stream",
     "text": [
      "ruby.csv 14280\n",
      "metasploit-framework.csv 7836\n",
      "graylog2-server.csv 2205\n",
      "android.csv 982\n",
      "vagrant.csv 4136\n",
      "gradle.csv 3686\n",
      "puppet.csv 2411\n",
      "opal.csv 2651\n",
      "rspec-core.csv 1918\n",
      "rails.csv 15251\n",
      "okhttp.csv 2013\n",
      "cloudify.csv 5238\n"
     ]
    }
   ],
   "source": [
    "for p in project_list:\n",
    "    data = pd.read_csv('data/extracted_project_travis/'+p)\n",
    "    if p == 'ruby.csv':\n",
    "        data = data[ data['git_branch'] == 'trunk']\n",
    "    else:\n",
    "        data = data[ data['git_branch'] == 'master']\n",
    "    print(p, len(data))\n",
    "    data = data.iloc[100:]\n",
    "    \n",
    "    bb_batching(p, data)\n",
    "    bs4_batching(p, data)\n",
    "    "
   ]
  },
  {
   "cell_type": "code",
   "execution_count": null,
   "id": "32fc3a87",
   "metadata": {},
   "outputs": [],
   "source": []
  },
  {
   "cell_type": "code",
   "execution_count": null,
   "id": "2288991d",
   "metadata": {},
   "outputs": [],
   "source": []
  }
 ],
 "metadata": {
  "kernelspec": {
   "display_name": "Python 3 (ipykernel)",
   "language": "python",
   "name": "python3"
  },
  "language_info": {
   "codemirror_mode": {
    "name": "ipython",
    "version": 3
   },
   "file_extension": ".py",
   "mimetype": "text/x-python",
   "name": "python",
   "nbconvert_exporter": "python",
   "pygments_lexer": "ipython3",
   "version": "3.9.7"
  }
 },
 "nbformat": 4,
 "nbformat_minor": 5
}
