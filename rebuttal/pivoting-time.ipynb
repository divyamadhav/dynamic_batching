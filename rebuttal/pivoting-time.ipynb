{
 "cells": [
  {
   "cell_type": "code",
   "execution_count": 1,
   "id": "9d32fa31",
   "metadata": {},
   "outputs": [],
   "source": [
    "from statistics import median, mean\n",
    "import pandas as pd"
   ]
  },
  {
   "cell_type": "code",
   "execution_count": 2,
   "id": "6f715af5",
   "metadata": {},
   "outputs": [],
   "source": [
    "data = pd.read_csv('all_time_savings.csv')"
   ]
  },
  {
   "cell_type": "code",
   "execution_count": 3,
   "id": "ecd838a4",
   "metadata": {},
   "outputs": [],
   "source": [
    "bd = data[ data['final_methods'].isna()]\n",
    "data = data[~(data['final_methods'].isna())]"
   ]
  },
  {
   "cell_type": "code",
   "execution_count": 4,
   "id": "87b60b24",
   "metadata": {},
   "outputs": [],
   "source": [
    "bs = data[ data['final_methods'].isin([\"2\", \"4\", \"8\", \"16\"])]\n",
    "data = data[~(data['final_methods'].isin([\"2\", \"4\", \"8\", \"16\"]))]"
   ]
  },
  {
   "cell_type": "code",
   "execution_count": 5,
   "id": "2919819e",
   "metadata": {},
   "outputs": [],
   "source": [
    "lwd = data"
   ]
  },
  {
   "cell_type": "code",
   "execution_count": 6,
   "id": "c3a2d334",
   "metadata": {},
   "outputs": [],
   "source": [
    "lwd_methods = list(set(lwd['final_methods'].tolist()))\n",
    "bs_methods = list(set(bs['final_methods'].tolist()))"
   ]
  },
  {
   "cell_type": "code",
   "execution_count": 7,
   "id": "a6116fcc",
   "metadata": {},
   "outputs": [],
   "source": [
    "bs_frames = []"
   ]
  },
  {
   "cell_type": "code",
   "execution_count": 8,
   "id": "7ff20363",
   "metadata": {},
   "outputs": [],
   "source": [
    "for m in bs_methods:\n",
    "    bs_subset = bs[ bs['final_methods'] == m]\n",
    "    new_column_name = 'BS_' + m + '_timesaved'\n",
    "    bs_subset = bs_subset.rename(columns={'time_saved':new_column_name})\n",
    "    bs_subset = bs_subset.loc[:, bs_subset.columns.isin(['project',new_column_name])]\n",
    "    bs_frames.append(bs_subset)"
   ]
  },
  {
   "cell_type": "code",
   "execution_count": 13,
   "id": "8c20bcd0",
   "metadata": {},
   "outputs": [],
   "source": [
    "final_df = pd.concat(bs_frames, ignore_index=True, sort=False)"
   ]
  },
  {
   "cell_type": "code",
   "execution_count": 14,
   "id": "13b263f5",
   "metadata": {},
   "outputs": [
    {
     "data": {
      "text/html": [
       "<div>\n",
       "<style scoped>\n",
       "    .dataframe tbody tr th:only-of-type {\n",
       "        vertical-align: middle;\n",
       "    }\n",
       "\n",
       "    .dataframe tbody tr th {\n",
       "        vertical-align: top;\n",
       "    }\n",
       "\n",
       "    .dataframe thead th {\n",
       "        text-align: right;\n",
       "    }\n",
       "</style>\n",
       "<table border=\"1\" class=\"dataframe\">\n",
       "  <thead>\n",
       "    <tr style=\"text-align: right;\">\n",
       "      <th></th>\n",
       "      <th>project</th>\n",
       "      <th>BS_16_timesaved</th>\n",
       "      <th>BS_8_timesaved</th>\n",
       "      <th>BS_2_timesaved</th>\n",
       "      <th>BS_4_timesaved</th>\n",
       "    </tr>\n",
       "  </thead>\n",
       "  <tbody>\n",
       "    <tr>\n",
       "      <th>0</th>\n",
       "      <td>junit-team-junit5.csv</td>\n",
       "      <td>71.308556</td>\n",
       "      <td>NaN</td>\n",
       "      <td>NaN</td>\n",
       "      <td>NaN</td>\n",
       "    </tr>\n",
       "    <tr>\n",
       "      <th>1</th>\n",
       "      <td>junit-team-junit5.csv</td>\n",
       "      <td>72.115513</td>\n",
       "      <td>NaN</td>\n",
       "      <td>NaN</td>\n",
       "      <td>NaN</td>\n",
       "    </tr>\n",
       "    <tr>\n",
       "      <th>2</th>\n",
       "      <td>junit-team-junit5.csv</td>\n",
       "      <td>85.116423</td>\n",
       "      <td>NaN</td>\n",
       "      <td>NaN</td>\n",
       "      <td>NaN</td>\n",
       "    </tr>\n",
       "    <tr>\n",
       "      <th>3</th>\n",
       "      <td>ratpack-ratpack.csv</td>\n",
       "      <td>-33.670871</td>\n",
       "      <td>NaN</td>\n",
       "      <td>NaN</td>\n",
       "      <td>NaN</td>\n",
       "    </tr>\n",
       "    <tr>\n",
       "      <th>4</th>\n",
       "      <td>ratpack-ratpack.csv</td>\n",
       "      <td>-13.978625</td>\n",
       "      <td>NaN</td>\n",
       "      <td>NaN</td>\n",
       "      <td>NaN</td>\n",
       "    </tr>\n",
       "    <tr>\n",
       "      <th>...</th>\n",
       "      <td>...</td>\n",
       "      <td>...</td>\n",
       "      <td>...</td>\n",
       "      <td>...</td>\n",
       "      <td>...</td>\n",
       "    </tr>\n",
       "    <tr>\n",
       "      <th>415</th>\n",
       "      <td>apache-sling.csv</td>\n",
       "      <td>NaN</td>\n",
       "      <td>NaN</td>\n",
       "      <td>NaN</td>\n",
       "      <td>-21.687387</td>\n",
       "    </tr>\n",
       "    <tr>\n",
       "      <th>416</th>\n",
       "      <td>apache-sling.csv</td>\n",
       "      <td>NaN</td>\n",
       "      <td>NaN</td>\n",
       "      <td>NaN</td>\n",
       "      <td>-21.687387</td>\n",
       "    </tr>\n",
       "    <tr>\n",
       "      <th>417</th>\n",
       "      <td>checkstyle-checkstyle.csv</td>\n",
       "      <td>NaN</td>\n",
       "      <td>NaN</td>\n",
       "      <td>NaN</td>\n",
       "      <td>63.298392</td>\n",
       "    </tr>\n",
       "    <tr>\n",
       "      <th>418</th>\n",
       "      <td>checkstyle-checkstyle.csv</td>\n",
       "      <td>NaN</td>\n",
       "      <td>NaN</td>\n",
       "      <td>NaN</td>\n",
       "      <td>66.958878</td>\n",
       "    </tr>\n",
       "    <tr>\n",
       "      <th>419</th>\n",
       "      <td>checkstyle-checkstyle.csv</td>\n",
       "      <td>NaN</td>\n",
       "      <td>NaN</td>\n",
       "      <td>NaN</td>\n",
       "      <td>66.958878</td>\n",
       "    </tr>\n",
       "  </tbody>\n",
       "</table>\n",
       "<p>420 rows × 5 columns</p>\n",
       "</div>"
      ],
      "text/plain": [
       "                       project  BS_16_timesaved  BS_8_timesaved  \\\n",
       "0        junit-team-junit5.csv        71.308556             NaN   \n",
       "1        junit-team-junit5.csv        72.115513             NaN   \n",
       "2        junit-team-junit5.csv        85.116423             NaN   \n",
       "3          ratpack-ratpack.csv       -33.670871             NaN   \n",
       "4          ratpack-ratpack.csv       -13.978625             NaN   \n",
       "..                         ...              ...             ...   \n",
       "415           apache-sling.csv              NaN             NaN   \n",
       "416           apache-sling.csv              NaN             NaN   \n",
       "417  checkstyle-checkstyle.csv              NaN             NaN   \n",
       "418  checkstyle-checkstyle.csv              NaN             NaN   \n",
       "419  checkstyle-checkstyle.csv              NaN             NaN   \n",
       "\n",
       "     BS_2_timesaved  BS_4_timesaved  \n",
       "0               NaN             NaN  \n",
       "1               NaN             NaN  \n",
       "2               NaN             NaN  \n",
       "3               NaN             NaN  \n",
       "4               NaN             NaN  \n",
       "..              ...             ...  \n",
       "415             NaN      -21.687387  \n",
       "416             NaN      -21.687387  \n",
       "417             NaN       63.298392  \n",
       "418             NaN       66.958878  \n",
       "419             NaN       66.958878  \n",
       "\n",
       "[420 rows x 5 columns]"
      ]
     },
     "execution_count": 14,
     "metadata": {},
     "output_type": "execute_result"
    }
   ],
   "source": [
    "final_df"
   ]
  },
  {
   "cell_type": "code",
   "execution_count": null,
   "id": "034fb706",
   "metadata": {},
   "outputs": [],
   "source": []
  }
 ],
 "metadata": {
  "kernelspec": {
   "display_name": "Python 3 (ipykernel)",
   "language": "python",
   "name": "python3"
  },
  "language_info": {
   "codemirror_mode": {
    "name": "ipython",
    "version": 3
   },
   "file_extension": ".py",
   "mimetype": "text/x-python",
   "name": "python",
   "nbconvert_exporter": "python",
   "pygments_lexer": "ipython3",
   "version": "3.9.7"
  }
 },
 "nbformat": 4,
 "nbformat_minor": 5
}
