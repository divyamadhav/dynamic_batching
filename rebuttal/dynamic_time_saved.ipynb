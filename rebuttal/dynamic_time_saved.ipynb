{
 "cells": [
  {
   "cell_type": "code",
   "execution_count": 1,
   "id": "70197bf0",
   "metadata": {},
   "outputs": [],
   "source": [
    "import pandas as pd"
   ]
  },
  {
   "cell_type": "code",
   "execution_count": 2,
   "id": "3e67df20",
   "metadata": {},
   "outputs": [],
   "source": [
    "static = pd.read_csv('static_batching_duration.csv')\n",
    "dynamic = pd.read_csv('baseline_dynamic_batching.csv')"
   ]
  },
  {
   "cell_type": "code",
   "execution_count": 3,
   "id": "577a5bb0",
   "metadata": {},
   "outputs": [],
   "source": [
    "static_sample = static[ (static['algorithm'] == 'BATCHBISECT') & (static['batch_size'] == 2)]"
   ]
  },
  {
   "cell_type": "code",
   "execution_count": 4,
   "id": "fbf8d627",
   "metadata": {},
   "outputs": [],
   "source": [
    "static_times = {}\n",
    "\n",
    "for i in range(len(static_sample)):\n",
    "    row = static_sample.iloc[i]\n",
    "    static_times[row['project']] = row['testall_duration']"
   ]
  },
  {
   "cell_type": "code",
   "execution_count": 5,
   "id": "aba72dbd",
   "metadata": {},
   "outputs": [],
   "source": [
    "testalls = []\n",
    "timesaved = []"
   ]
  },
  {
   "cell_type": "code",
   "execution_count": 6,
   "id": "2987e494",
   "metadata": {},
   "outputs": [],
   "source": [
    "for i in range(len(dynamic)):\n",
    "    row = dynamic.iloc[i]\n",
    "    \n",
    "    try:\n",
    "        testall_p = static_times[row['project']]\n",
    "    except:\n",
    "        testalls.append(0)\n",
    "        timesaved.append(0)\n",
    "        continue\n",
    "        \n",
    "    time_saved_p = 100 * row['duration']/testall_p\n",
    "    \n",
    "    testalls.append(testall_p)\n",
    "    timesaved.append(time_saved_p)"
   ]
  },
  {
   "cell_type": "code",
   "execution_count": 7,
   "id": "27adb21e",
   "metadata": {},
   "outputs": [
    {
     "data": {
      "text/plain": [
       "(165, 165, 165)"
      ]
     },
     "execution_count": 7,
     "metadata": {},
     "output_type": "execute_result"
    }
   ],
   "source": [
    "len(testalls), len(timesaved), len(dynamic)"
   ]
  },
  {
   "cell_type": "code",
   "execution_count": 8,
   "id": "ba92e2a6",
   "metadata": {},
   "outputs": [],
   "source": [
    "dynamic['testall_duration'] = testalls\n",
    "dynamic['time_saved'] = timesaved"
   ]
  },
  {
   "cell_type": "code",
   "execution_count": 9,
   "id": "915ae5dc",
   "metadata": {},
   "outputs": [],
   "source": [
    "dynamic.to_csv('dynamic_time_saved.csv')"
   ]
  },
  {
   "cell_type": "code",
   "execution_count": null,
   "id": "0739f0b7",
   "metadata": {},
   "outputs": [],
   "source": []
  }
 ],
 "metadata": {
  "kernelspec": {
   "display_name": "Python 3 (ipykernel)",
   "language": "python",
   "name": "python3"
  },
  "language_info": {
   "codemirror_mode": {
    "name": "ipython",
    "version": 3
   },
   "file_extension": ".py",
   "mimetype": "text/x-python",
   "name": "python",
   "nbconvert_exporter": "python",
   "pygments_lexer": "ipython3",
   "version": "3.9.7"
  }
 },
 "nbformat": 4,
 "nbformat_minor": 5
}
