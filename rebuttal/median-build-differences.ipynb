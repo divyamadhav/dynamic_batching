{
 "cells": [
  {
   "cell_type": "code",
   "execution_count": 1,
   "id": "92023957",
   "metadata": {},
   "outputs": [],
   "source": [
    "import pandas as pd\n",
    "from statistics import median"
   ]
  },
  {
   "cell_type": "code",
   "execution_count": 2,
   "id": "e24ea15d",
   "metadata": {},
   "outputs": [],
   "source": [
    "df = pd.read_csv('ci_skip_all_results.csv')"
   ]
  },
  {
   "cell_type": "code",
   "execution_count": 3,
   "id": "bb63c60e",
   "metadata": {},
   "outputs": [],
   "source": [
    "df['final_methods'] = df['algorithm'] + ' ' + df['update_method'] + ' ' + df['factor'].astype(str)"
   ]
  },
  {
   "cell_type": "code",
   "execution_count": 4,
   "id": "bab849ee",
   "metadata": {},
   "outputs": [],
   "source": [
    "bd = df[ df['method'] == 'baseline_dynamic']\n",
    "bs = df[ df['method'] == 'baseline_static']\n",
    "ld = df[ df['method'] == 'new_dynamic']"
   ]
  },
  {
   "cell_type": "code",
   "execution_count": 5,
   "id": "7cbf7617",
   "metadata": {},
   "outputs": [],
   "source": [
    "algorithms = ['BATCHBISECT', 'BATCHSTOP4', 'BATCHDIVIDE4']"
   ]
  },
  {
   "cell_type": "code",
   "execution_count": 6,
   "id": "43cb07bb",
   "metadata": {},
   "outputs": [],
   "source": [
    "dyn_df = pd.DataFrame()\n",
    "sta_df = pd.DataFrame()"
   ]
  },
  {
   "cell_type": "code",
   "execution_count": 7,
   "id": "e83bbd26",
   "metadata": {},
   "outputs": [],
   "source": [
    "ld = ld.sort_values(by='project')\n",
    "project_list = list(set(ld['project'].tolist()))"
   ]
  },
  {
   "cell_type": "code",
   "execution_count": 8,
   "id": "df37921e",
   "metadata": {},
   "outputs": [],
   "source": [
    "bd = bd[bd['project'].isin(project_list)]"
   ]
  },
  {
   "cell_type": "code",
   "execution_count": 9,
   "id": "8241cb01",
   "metadata": {},
   "outputs": [],
   "source": [
    "dyn_df['project'] = project_list\n",
    "sta_df['project'] = project_list"
   ]
  },
  {
   "cell_type": "code",
   "execution_count": 10,
   "id": "cfe92ea8",
   "metadata": {},
   "outputs": [],
   "source": [
    "median_differences_dyn = {}\n",
    "median_differences_sta = {}"
   ]
  },
  {
   "cell_type": "code",
   "execution_count": 11,
   "id": "979919bc",
   "metadata": {},
   "outputs": [],
   "source": [
    "for alg in algorithms:\n",
    "    \n",
    "    \n",
    "    median_differences_dyn[alg] = []\n",
    "    median_differences_sta[alg] = {}\n",
    "    \n",
    "    bd_alg = bd[ (bd['algorithm'] == alg) & (bd['ci_skip'] == 0)]\n",
    "    bs_alg = bs[ (bs['algorithm'] == alg) & (bs['ci_skip'] == 0)]\n",
    "    ld_alg = ld[ (ld['algorithm'] == alg) & (ld['ci_skip'] == 0)]\n",
    "    \n",
    "    bd_alg = bd_alg.sort_values(by='project')\n",
    "    final_methods_lwd = list(set(ld_alg['final_methods'].tolist())) \n",
    "    \n",
    "    dyn_col_name = 'Dynamic Baseline ' + alg\n",
    "    dyn_df[dyn_col_name] = bd_alg['builds_saved'].tolist()\n",
    "    \n",
    "    batch_sizes = list(set(bs_alg['batch_size'].tolist()))\n",
    "    \n",
    "    for b in batch_sizes:\n",
    "        \n",
    "        median_differences_sta[alg][b] = []\n",
    "        \n",
    "        bs_alg_b = bs_alg[ bs_alg['batch_size'] == b]\n",
    "        \n",
    "        bs_alg_b = bs_alg_b.sort_values(by='project')\n",
    "        \n",
    "        static_col_name = 'Static Baseline ' + alg + ' ' + str(b)\n",
    "        sta_df[static_col_name] = bs_alg_b['builds_saved'].tolist()\n",
    "    \n",
    "    \n",
    "        for f in final_methods_lwd:\n",
    "\n",
    "            ld_alg_f = ld_alg[ ld_alg['final_methods'] == f]\n",
    "\n",
    "            dyn_df[f] = ld_alg_f['builds_saved'].tolist()\n",
    "            sta_df[f] = ld_alg_f['builds_saved'].tolist()\n",
    "            \n",
    "            median_dyn = median(dyn_df[dyn_col_name] - dyn_df[f])\n",
    "            median_sta = median(sta_df[static_col_name] - sta_df[f])\n",
    "            \n",
    "            median_differences_dyn[alg].append(median_dyn)\n",
    "            median_differences_sta[alg][b].append(median_sta)\n",
    "            \n",
    "            "
   ]
  },
  {
   "cell_type": "code",
   "execution_count": 12,
   "id": "e5ea53e4",
   "metadata": {},
   "outputs": [],
   "source": [
    "dyn_df.to_csv('dyn_lwd_builds_saved.csv')\n",
    "sta_df.to_csv('static_lwd_builds_saved.csv')"
   ]
  },
  {
   "cell_type": "code",
   "execution_count": 13,
   "id": "5ed42c9b",
   "metadata": {},
   "outputs": [
    {
     "name": "stdout",
     "output_type": "stream",
     "text": [
      "Alg BATCHBISECT = -0.8985084692307828\n",
      "Alg BATCHSTOP4 = -3.0648708081363374\n",
      "Alg BATCHDIVIDE4 = 3.69738149123296\n"
     ]
    }
   ],
   "source": [
    "for alg in median_differences_dyn:\n",
    "    print('Alg {} = {}'.format(alg, median(median_differences_dyn[alg])))"
   ]
  },
  {
   "cell_type": "code",
   "execution_count": 15,
   "id": "59fa1341",
   "metadata": {},
   "outputs": [
    {
     "name": "stdout",
     "output_type": "stream",
     "text": [
      "Alg BATCHBISECT Batch 8 = -10.040590392910659\n",
      "Alg BATCHBISECT Batch 16 = -10.450696232134295\n",
      "Alg BATCHBISECT Batch 2 = -20.35451181649609\n",
      "Alg BATCHBISECT Batch 4 = -11.022451830245268\n",
      "\n",
      "\n",
      "\n",
      "BATCHBISECT Median = -10.736574031189782 \n",
      "\n",
      "\n",
      "Alg BATCHSTOP4 Batch 8 = -7.391298712600516\n",
      "Alg BATCHSTOP4 Batch 16 = -8.867907989161509\n",
      "Alg BATCHSTOP4 Batch 4 = -8.729705803750392\n",
      "\n",
      "\n",
      "\n",
      "BATCHSTOP4 Median = -8.729705803750392 \n",
      "\n",
      "\n",
      "Alg BATCHDIVIDE4 Batch 8 = -1.3981765103470103\n",
      "Alg BATCHDIVIDE4 Batch 16 = -10.944708818152797\n",
      "Alg BATCHDIVIDE4 Batch 4 = -1.6384071270301632\n",
      "\n",
      "\n",
      "\n",
      "BATCHDIVIDE4 Median = -1.6384071270301632 \n",
      "\n",
      "\n"
     ]
    }
   ],
   "source": [
    "for alg in median_differences_sta:\n",
    "    medians = []\n",
    "    for b in median_differences_sta[alg]:\n",
    "        \n",
    "        print('Alg {} Batch {} = {}'.format(alg, b, median(median_differences_sta[alg][b])))\n",
    "        medians.append(median(median_differences_sta[alg][b]))\n",
    "    \n",
    "    print('\\n\\n')\n",
    "    print('{} Median = {} \\n\\n'.format(alg, median(medians)))"
   ]
  },
  {
   "cell_type": "code",
   "execution_count": null,
   "id": "5d4d79d9",
   "metadata": {},
   "outputs": [],
   "source": []
  }
 ],
 "metadata": {
  "kernelspec": {
   "display_name": "Python 3 (ipykernel)",
   "language": "python",
   "name": "python3"
  },
  "language_info": {
   "codemirror_mode": {
    "name": "ipython",
    "version": 3
   },
   "file_extension": ".py",
   "mimetype": "text/x-python",
   "name": "python",
   "nbconvert_exporter": "python",
   "pygments_lexer": "ipython3",
   "version": "3.9.7"
  }
 },
 "nbformat": 4,
 "nbformat_minor": 5
}
