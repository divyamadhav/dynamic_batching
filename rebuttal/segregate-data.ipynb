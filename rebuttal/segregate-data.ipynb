{
 "cells": [
  {
   "cell_type": "code",
   "execution_count": 1,
   "id": "a75fdf2d",
   "metadata": {},
   "outputs": [],
   "source": [
    "import pandas as pd"
   ]
  },
  {
   "cell_type": "code",
   "execution_count": 2,
   "id": "1bf11477",
   "metadata": {},
   "outputs": [],
   "source": [
    "dataset = pd.read_csv('dataset_analysis.csv')"
   ]
  },
  {
   "cell_type": "code",
   "execution_count": 7,
   "id": "5fbc6f33",
   "metadata": {},
   "outputs": [],
   "source": [
    "low_fr = dataset[ dataset['failure_rate'] <= 33]\n",
    "med_fr = dataset[ (dataset['failure_rate'] > 33) &  (dataset['failure_rate'] <= 66) ]\n",
    "high_fr = dataset[ dataset['failure_rate'] > 66]\n"
   ]
  },
  {
   "cell_type": "code",
   "execution_count": 15,
   "id": "7cb7e363",
   "metadata": {},
   "outputs": [],
   "source": [
    "lt_5k = dataset[ dataset['total'] <= 5000]\n",
    "lt_10k = dataset[ (dataset['total'] > 5000) &  (dataset['total'] <= 10000) ]\n",
    "lt_20k = dataset[ (dataset['total'] > 10000) &  (dataset['total'] <= 20000) ]\n",
    "gt_20k = dataset[ (dataset['total'] > 20000)]"
   ]
  },
  {
   "cell_type": "code",
   "execution_count": 16,
   "id": "c6670fa6",
   "metadata": {},
   "outputs": [],
   "source": [
    "results = pd.read_csv('standard_dynamic_batching.csv')"
   ]
  },
  {
   "cell_type": "code",
   "execution_count": 17,
   "id": "e0ca6538",
   "metadata": {},
   "outputs": [],
   "source": [
    "low_fr_projects = list(set(low_fr['project'].tolist()))\n",
    "med_fr_projects = list(set(med_fr['project'].tolist()))\n",
    "high_fr_projects = list(set(high_fr['project'].tolist()))\n",
    "lt_5k_projects = list(set(lt_5k['project'].tolist()))\n",
    "lt_10k_projects = list(set(lt_10k['project'].tolist()))\n",
    "lt_20k_projects = list(set(lt_20k['project'].tolist()))\n",
    "gt_20k_projects = list(set(gt_20k['project'].tolist()))"
   ]
  },
  {
   "cell_type": "code",
   "execution_count": 22,
   "id": "42c43d1b",
   "metadata": {},
   "outputs": [],
   "source": [
    "fr_set = []\n",
    "size_set = []"
   ]
  },
  {
   "cell_type": "code",
   "execution_count": 23,
   "id": "55b67e5c",
   "metadata": {},
   "outputs": [],
   "source": [
    "for i in range(len(results)):\n",
    "    row = results.iloc[i]\n",
    "    p = row['project']\n",
    "    \n",
    "    if p in low_fr_projects:\n",
    "        fr_set.append('low')\n",
    "    elif p in high_fr_projects:\n",
    "        fr_set.append('high')\n",
    "    else:\n",
    "        fr_set.append('med')\n",
    "    \n",
    "    \n",
    "    if p in lt_5k_projects:\n",
    "        size_set.append('lt 5k')\n",
    "    elif p in lt_10k_projects:\n",
    "        size_set.append('lt 10k')\n",
    "    elif p in lt_20k_projects:\n",
    "        size_set.append('lt 20k')    \n",
    "    else:\n",
    "        size_set.append('gt 20k')"
   ]
  },
  {
   "cell_type": "code",
   "execution_count": 24,
   "id": "e0b0ad56",
   "metadata": {},
   "outputs": [
    {
     "data": {
      "text/plain": [
       "1950"
      ]
     },
     "execution_count": 24,
     "metadata": {},
     "output_type": "execute_result"
    }
   ],
   "source": [
    "len(fr_set)"
   ]
  },
  {
   "cell_type": "code",
   "execution_count": 25,
   "id": "fe771003",
   "metadata": {},
   "outputs": [
    {
     "data": {
      "text/plain": [
       "1950"
      ]
     },
     "execution_count": 25,
     "metadata": {},
     "output_type": "execute_result"
    }
   ],
   "source": [
    "len(size_set)"
   ]
  },
  {
   "cell_type": "code",
   "execution_count": 26,
   "id": "d5c280a3",
   "metadata": {},
   "outputs": [
    {
     "data": {
      "text/plain": [
       "1950"
      ]
     },
     "execution_count": 26,
     "metadata": {},
     "output_type": "execute_result"
    }
   ],
   "source": [
    "len(results)"
   ]
  },
  {
   "cell_type": "code",
   "execution_count": 27,
   "id": "2b6c9c60",
   "metadata": {},
   "outputs": [],
   "source": [
    "results['fr_bracket'] = fr_set\n",
    "results['size_bracket'] = size_set"
   ]
  },
  {
   "cell_type": "code",
   "execution_count": 28,
   "id": "a911efef",
   "metadata": {},
   "outputs": [],
   "source": [
    "results.to_csv('std_dynbatch_brackets.csv')"
   ]
  },
  {
   "cell_type": "code",
   "execution_count": null,
   "id": "5824205d",
   "metadata": {},
   "outputs": [],
   "source": []
  }
 ],
 "metadata": {
  "kernelspec": {
   "display_name": "Python 3 (ipykernel)",
   "language": "python",
   "name": "python3"
  },
  "language_info": {
   "codemirror_mode": {
    "name": "ipython",
    "version": 3
   },
   "file_extension": ".py",
   "mimetype": "text/x-python",
   "name": "python",
   "nbconvert_exporter": "python",
   "pygments_lexer": "ipython3",
   "version": "3.9.7"
  }
 },
 "nbformat": 4,
 "nbformat_minor": 5
}
