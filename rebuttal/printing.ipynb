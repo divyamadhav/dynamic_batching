{
 "cells": [
  {
   "cell_type": "code",
   "execution_count": 1,
   "id": "fa3dbc21",
   "metadata": {},
   "outputs": [],
   "source": [
    "import pandas as pd"
   ]
  },
  {
   "cell_type": "code",
   "execution_count": 2,
   "id": "d39eb2c4",
   "metadata": {},
   "outputs": [],
   "source": [
    "data = pd.read_csv('stat-times.csv')"
   ]
  },
  {
   "cell_type": "code",
   "execution_count": 3,
   "id": "eb309689",
   "metadata": {},
   "outputs": [
    {
     "name": "stdout",
     "output_type": "stream",
     "text": [
      "\\textbf{1.1E-12} & \\textbf{2.7e-09} & \\textbf{7.8e-07} & \\textbf{1.7e-08} & \\textbf{0.0017} & \\textbf{9.6e-06} & \\textbf{7.1e-09} & \\textbf{1.0} & \\textbf{1.0} & \\textbf{1.0} & \n",
      "\n",
      "\n",
      "\\textbf{< 2e-16       } & \\textbf{2.6e-14} & \\textbf{2.3e-11} & \\textbf{2.3e-13} & \\textbf{0.0045} & \\textbf{3.2e-05} & \\textbf{2.9e-08} & \\textbf{1.0} & \\textbf{1.0} & \\textbf{1.0} & \n",
      "\n",
      "\n",
      "\\textbf{1.1E-09} & \\textbf{1.2e-06} & \\textbf{0.00015} & \\textbf{5.8e-06} & \\textbf{1.0} & \\textbf{1.0} & \\textbf{0.0202} & \\textbf{0.00324} & \\textbf{0.0097} & \\textbf{0.00276} & \n",
      "\n",
      "\n",
      "\\textbf{< 2e-16       } & \\textbf{1e-14} & \\textbf{9.9e-12} & \\textbf{9.5e-14} & \\textbf{0.0269} & \\textbf{0.0003} & \\textbf{4.5e-07} & \\textbf{1.0} & \\textbf{1.0} & \\textbf{1.0} & \n",
      "\n",
      "\n",
      "\\textbf{3E-11} & \\textbf{5e-08} & \\textbf{1e-05} & \\textbf{2.9e-07} & \\textbf{0.1499} & \\textbf{0.0028} & \\textbf{7.1e-06} & \\textbf{1.0} & \\textbf{1.0} & \\textbf{1.0} & \n",
      "\n",
      "\n"
     ]
    }
   ],
   "source": [
    "for i in range(len(data)):\n",
    "    row = data.iloc[i]\n",
    "    \n",
    "    s = ''\n",
    "    for i in range(1, 11):\n",
    "        s = s + '\\\\textbf{' + str(row[i]) + '} & '\n",
    "    \n",
    "    print(s)\n",
    "    print('\\n')\n",
    "    "
   ]
  },
  {
   "cell_type": "code",
   "execution_count": null,
   "id": "aa70e3dc",
   "metadata": {},
   "outputs": [],
   "source": []
  }
 ],
 "metadata": {
  "kernelspec": {
   "display_name": "Python 3 (ipykernel)",
   "language": "python",
   "name": "python3"
  },
  "language_info": {
   "codemirror_mode": {
    "name": "ipython",
    "version": 3
   },
   "file_extension": ".py",
   "mimetype": "text/x-python",
   "name": "python",
   "nbconvert_exporter": "python",
   "pygments_lexer": "ipython3",
   "version": "3.9.7"
  }
 },
 "nbformat": 4,
 "nbformat_minor": 5
}
