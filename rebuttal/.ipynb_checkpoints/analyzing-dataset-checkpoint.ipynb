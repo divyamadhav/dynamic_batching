{
 "cells": [
  {
   "cell_type": "code",
   "execution_count": 7,
   "id": "e03ccd11",
   "metadata": {},
   "outputs": [],
   "source": [
    "import pandas as pd"
   ]
  },
  {
   "cell_type": "code",
   "execution_count": 10,
   "id": "30752a09",
   "metadata": {},
   "outputs": [],
   "source": [
    "from projects_50 import project_list"
   ]
  },
  {
   "cell_type": "code",
   "execution_count": 11,
   "id": "0db5ae85",
   "metadata": {},
   "outputs": [],
   "source": [
    "datasets = []"
   ]
  },
  {
   "cell_type": "code",
   "execution_count": 12,
   "id": "582a860f",
   "metadata": {},
   "outputs": [],
   "source": [
    "excluding_projects = []\n",
    "include_projects = []"
   ]
  },
  {
   "cell_type": "code",
   "execution_count": 13,
   "id": "d4feb5bc",
   "metadata": {},
   "outputs": [],
   "source": [
    "all_p = []"
   ]
  },
  {
   "cell_type": "code",
   "execution_count": 14,
   "id": "6a575dd6",
   "metadata": {},
   "outputs": [
    {
     "name": "stdout",
     "output_type": "stream",
     "text": [
      "1696 1606 90\n",
      "1876 1145 731\n",
      "1288 790 498\n",
      "BuildCraft-BuildCraft/BuildCraft-BuildCraft.csv\n",
      "1287 1013 274\n",
      "1064 436 628\n",
      "1576 1493 83\n",
      "1271 900 371\n",
      "1428 1276 152\n",
      "1062 705 357\n",
      "1122 1062 60\n",
      "1267 1123 144\n",
      "2020 1865 155\n",
      "89 30 59\n",
      "2151 1989 162\n",
      "2142 1814 328\n",
      "2241 1580 661\n",
      "1709 1556 153\n",
      "1840 206 1634\n",
      "1783 1400 383\n",
      "2653 1967 686\n",
      "2325 2121 204\n",
      "2208 1821 387\n",
      "1592 1371 221\n",
      "2654 1334 1320\n",
      "3476 1876 1600\n",
      "2862 2620 242\n",
      "3451 2622 829\n",
      "2512 1375 1137\n",
      "3652 3305 347\n",
      "3133 2545 588\n",
      "3797 3485 312\n",
      "4415 2897 1518\n",
      "4561 2468 2093\n",
      "2169 1807 362\n",
      "4290 2190 2100\n",
      "5148 3910 1238\n",
      "3715 3083 632\n",
      "4613 2068 2545\n",
      "4573 2927 1646\n",
      "5371 2679 2692\n",
      "2934 2403 531\n",
      "5827 3712 2115\n",
      "3154 2932 222\n",
      "286 261 25\n"
     ]
    },
    {
     "name": "stderr",
     "output_type": "stream",
     "text": [
      "/opt/homebrew/Caskroom/miniforge/base/envs/new_env/lib/python3.9/site-packages/IPython/core/interactiveshell.py:3444: DtypeWarning: Columns (61) have mixed types.Specify dtype option on import or set low_memory=False.\n",
      "  exec(code_obj, self.user_global_ns, self.user_ns)\n"
     ]
    },
    {
     "name": "stdout",
     "output_type": "stream",
     "text": [
      "7584 4050 3534\n",
      "8988 4212 4776\n",
      "14296 252 14044\n",
      "12241 9606 2635\n",
      "6399 3286 3113\n"
     ]
    },
    {
     "name": "stderr",
     "output_type": "stream",
     "text": [
      "/opt/homebrew/Caskroom/miniforge/base/envs/new_env/lib/python3.9/site-packages/IPython/core/interactiveshell.py:3444: DtypeWarning: Columns (5,8,20) have mixed types.Specify dtype option on import or set low_memory=False.\n",
      "  exec(code_obj, self.user_global_ns, self.user_ns)\n",
      "/opt/homebrew/Caskroom/miniforge/base/envs/new_env/lib/python3.9/site-packages/IPython/core/interactiveshell.py:3444: DtypeWarning: Columns (5,8,20,51,53,61) have mixed types.Specify dtype option on import or set low_memory=False.\n",
      "  exec(code_obj, self.user_global_ns, self.user_ns)\n"
     ]
    },
    {
     "name": "stdout",
     "output_type": "stream",
     "text": [
      "46743 41853 4890\n"
     ]
    }
   ],
   "source": [
    "for p in project_list:\n",
    "    p_name = p.split('/')[1]\n",
    "    all_p.append(p_name)\n",
    "    data = pd.read_csv('../dynamic batching/ci_skip_data/extracted_project_travis/' + p_name)\n",
    "    status = data['tr_status'].tolist()\n",
    "    total = len(status)\n",
    "    passed = status.count('passed')\n",
    "    not_passed = total - passed\n",
    "    \n",
    "    failure_rate = (not_passed/total)*100\n",
    "    \n",
    "    branch_type = data['git_branch'].tolist()\n",
    "    if 'master' in branch_type:\n",
    "        new_data = data[ data['git_branch'] == 'master']\n",
    "    else:\n",
    "        new_data = data[ data['git_branch'] == 'trunk']\n",
    "        \n",
    "    new_data = new_data[100:]\n",
    "    \n",
    "    if len(new_data) == 0:\n",
    "        print(p)\n",
    "        excluding_projects.append(p_name)\n",
    "        continue\n",
    "    \n",
    "    include_projects.append(p_name)\n",
    "    new_status = new_data['tr_status'].tolist()\n",
    "    new_total = len(new_status)\n",
    "    #print(new_total)\n",
    "    new_passed = new_status.count('passed')\n",
    "    \n",
    "    new_not_passed = new_total - new_passed\n",
    "    \n",
    "    print(new_total, new_passed, new_not_passed)\n",
    "    \n",
    "    new_failure_rate = (new_not_passed/new_total)*100\n",
    "    \n",
    "    datasets.append([p_name, total, passed, not_passed, failure_rate, new_total, new_passed, new_not_passed, new_failure_rate])"
   ]
  },
  {
   "cell_type": "code",
   "execution_count": 15,
   "id": "51281af1",
   "metadata": {},
   "outputs": [],
   "source": [
    "df = pd.DataFrame(datasets, columns=['project', 'total', 'passed', 'not_passed', 'failure_rate', 'total_main', 'passed_in_main', 'not_passed_in_main', 'main_failure_rate'])"
   ]
  },
  {
   "cell_type": "code",
   "execution_count": 16,
   "id": "f406bc74",
   "metadata": {},
   "outputs": [],
   "source": [
    "df.to_csv('dataset_analysis.csv')"
   ]
  },
  {
   "cell_type": "code",
   "execution_count": 17,
   "id": "341c21fb",
   "metadata": {},
   "outputs": [
    {
     "data": {
      "text/plain": [
       "50"
      ]
     },
     "execution_count": 17,
     "metadata": {},
     "output_type": "execute_result"
    }
   ],
   "source": [
    "len(df)"
   ]
  },
  {
   "cell_type": "code",
   "execution_count": 18,
   "id": "dc49787f",
   "metadata": {},
   "outputs": [],
   "source": [
    "df = df[~(df['main_failure_rate'] > 50)]"
   ]
  },
  {
   "cell_type": "code",
   "execution_count": 19,
   "id": "d4e94452",
   "metadata": {},
   "outputs": [
    {
     "data": {
      "text/plain": [
       "43"
      ]
     },
     "execution_count": 19,
     "metadata": {},
     "output_type": "execute_result"
    }
   ],
   "source": [
    "len(df)"
   ]
  },
  {
   "cell_type": "code",
   "execution_count": 20,
   "id": "e9d1b68d",
   "metadata": {},
   "outputs": [],
   "source": [
    "new_proj_list = list(set(df['project'].tolist()))"
   ]
  },
  {
   "cell_type": "code",
   "execution_count": 22,
   "id": "4f8f1ade",
   "metadata": {},
   "outputs": [
    {
     "data": {
      "text/plain": [
       "['junit-team-junit5.csv',\n",
       " 'ratpack-ratpack.csv',\n",
       " 'p6spy-p6spy.csv',\n",
       " 'BuildCraft-BuildCraft.csv',\n",
       " 'apache-tajo.csv',\n",
       " 'osmdroid-osmdroid.csv',\n",
       " 'DSpace-DSpace.csv',\n",
       " 'apache-nifi.csv',\n",
       " 'caelum-vraptor4.csv',\n",
       " 'grails-grails-core.csv',\n",
       " 'square-wire.csv',\n",
       " 'puniverse-quasar.csv',\n",
       " 'dropwizard-dropwizard.csv',\n",
       " 'essentials-Essentials.csv',\n",
       " 'mybatis-mybatis-3.csv',\n",
       " 'naver-pinpoint.csv',\n",
       " 'FasterXML-jackson-databind.csv',\n",
       " 'samtools-htsjdk.csv',\n",
       " 'deeplearning4j-deeplearning4j.csv',\n",
       " 'open-keychain-open-keychain.csv',\n",
       " 'yegor256-takes.csv',\n",
       " 'keycloak-keycloak.csv',\n",
       " 'rackerlabs-blueflood.csv',\n",
       " 'xetorthio-jedis.csv',\n",
       " 'orbeon-orbeon-forms.csv',\n",
       " 'linkedin-gobblin.csv',\n",
       " 'JabRef-jabref.csv',\n",
       " 'jOOQ-jOOQ.csv',\n",
       " 'structr-structr.csv',\n",
       " 'floragunncom-search-guard.csv',\n",
       " 'SpongePowered-SpongeForge.csv',\n",
       " 'sakaiproject-sakai.csv',\n",
       " 'dreamhead-moco.csv',\n",
       " 'nutzam-nutz.csv',\n",
       " 'CloudSlang-cloud-slang.csv',\n",
       " 'geotools-geotools.csv',\n",
       " 'CloudifySource-cloudify.csv',\n",
       " 'SpongePowered-SpongeCommon.csv',\n",
       " 'apache-zeppelin.csv',\n",
       " 'typetools-checker-framework.csv',\n",
       " 'geoserver-geoserver.csv',\n",
       " 'ngageoint-geowave.csv',\n",
       " 'sparklemotion-nokogiri.csv',\n",
       " 'Graylog2-graylog2-server.csv',\n",
       " 'cloudfoundry-uaa.csv',\n",
       " 'apache-jackrabbit-oak.csv',\n",
       " 'apache-pdfbox.csv',\n",
       " 'apache-sling.csv',\n",
       " 'SonarSource-sonar-java.csv',\n",
       " 'killbill-killbill.csv',\n",
       " 'checkstyle-checkstyle.csv']"
      ]
     },
     "execution_count": 22,
     "metadata": {},
     "output_type": "execute_result"
    }
   ],
   "source": [
    "all_p"
   ]
  },
  {
   "cell_type": "code",
   "execution_count": null,
   "id": "785b8557",
   "metadata": {},
   "outputs": [],
   "source": []
  }
 ],
 "metadata": {
  "kernelspec": {
   "display_name": "Python 3 (ipykernel)",
   "language": "python",
   "name": "python3"
  },
  "language_info": {
   "codemirror_mode": {
    "name": "ipython",
    "version": 3
   },
   "file_extension": ".py",
   "mimetype": "text/x-python",
   "name": "python",
   "nbconvert_exporter": "python",
   "pygments_lexer": "ipython3",
   "version": "3.9.7"
  }
 },
 "nbformat": 4,
 "nbformat_minor": 5
}
