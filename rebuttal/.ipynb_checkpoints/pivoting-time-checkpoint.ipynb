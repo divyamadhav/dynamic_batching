{
 "cells": [
  {
   "cell_type": "code",
   "execution_count": 1,
   "id": "72c9250f",
   "metadata": {},
   "outputs": [],
   "source": [
    "from statistics import median, mean\n",
    "import pandas as pd"
   ]
  },
  {
   "cell_type": "code",
   "execution_count": 2,
   "id": "6bcfdb6a",
   "metadata": {},
   "outputs": [],
   "source": [
    "data = pd.read_csv('all_time_savings.csv')"
   ]
  },
  {
   "cell_type": "code",
   "execution_count": 4,
   "id": "82f868bc",
   "metadata": {},
   "outputs": [],
   "source": [
    "bd = data[ data['final_methods'].isna()]"
   ]
  },
  {
   "cell_type": "code",
   "execution_count": 6,
   "id": "a46e260b",
   "metadata": {},
   "outputs": [],
   "source": [
    "bs = data[ data['final_methods'].isin([2, 4, 8, 16])]"
   ]
  },
  {
   "cell_type": "code",
   "execution_count": null,
   "id": "d4aa9f75",
   "metadata": {},
   "outputs": [],
   "source": []
  },
  {
   "cell_type": "code",
   "execution_count": null,
   "id": "f2c2ba38",
   "metadata": {},
   "outputs": [],
   "source": []
  }
 ],
 "metadata": {
  "kernelspec": {
   "display_name": "Python 3 (ipykernel)",
   "language": "python",
   "name": "python3"
  },
  "language_info": {
   "codemirror_mode": {
    "name": "ipython",
    "version": 3
   },
   "file_extension": ".py",
   "mimetype": "text/x-python",
   "name": "python",
   "nbconvert_exporter": "python",
   "pygments_lexer": "ipython3",
   "version": "3.9.7"
  }
 },
 "nbformat": 4,
 "nbformat_minor": 5
}
