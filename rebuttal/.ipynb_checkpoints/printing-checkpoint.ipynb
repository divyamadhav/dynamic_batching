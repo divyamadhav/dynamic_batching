{
 "cells": [
  {
   "cell_type": "code",
   "execution_count": 5,
   "id": "fa3dbc21",
   "metadata": {},
   "outputs": [],
   "source": [
    "import pandas as pd"
   ]
  },
  {
   "cell_type": "code",
   "execution_count": 6,
   "id": "d39eb2c4",
   "metadata": {},
   "outputs": [],
   "source": [
    "data = pd.read_csv('stat-times.csv')"
   ]
  },
  {
   "cell_type": "code",
   "execution_count": 7,
   "id": "eb309689",
   "metadata": {},
   "outputs": [
    {
     "name": "stdout",
     "output_type": "stream",
     "text": [
      "\\textbf{5.7e-09} & \\textbf{9e-05} & \\textbf{0.0261} & \\textbf{0.0005} & \\textbf{2.1e-05} & \\textbf{1.0} & \\textbf{2.3e-06} & \\textbf{0.00088} & \\textbf{1.0} & \\textbf{7.3e-07} & \n",
      "\n",
      "\n",
      "\\textbf{2.4e-08} & \\textbf{0.00012} & \\textbf{0.04957} & \\textbf{0.00086} & \\textbf{0.00024} & \\textbf{0.25731} & \\textbf{6.6e-08} & \\textbf{0.00024} & \\textbf{0.31296} & \\textbf{4.4e-08} & \n",
      "\n",
      "\n",
      "\\textbf{1e-07} & \\textbf{0.00065} & \\textbf{0.09089} & \\textbf{0.00146} & \\textbf{4.9e-06} & \\textbf{1.0} & \\textbf{1.5e-05} & \\textbf{3.3e-07} & \\textbf{1.0} & \\textbf{8.8e-05} & \n",
      "\n",
      "\n",
      "\\textbf{7.9e-07} & \\textbf{0.0052} & \\textbf{0.6242} & \\textbf{0.0167} & \\textbf{1.5e-09} & \\textbf{0.138} & \\textbf{0.071} & \\textbf{2.2e-07} & \\textbf{1.0} & \\textbf{0.00024} & \n",
      "\n",
      "\n",
      "\\textbf{2.9e-07} & \\textbf{0.0019} & \\textbf{0.3271} & \\textbf{0.0066} & \\textbf{1.2e-11} & \\textbf{0.0053} & \\textbf{1.0} & \\textbf{0.00046} & \\textbf{0.13822} & \\textbf{1.9e-08} & \n",
      "\n",
      "\n"
     ]
    }
   ],
   "source": [
    "for i in range(len(data)):\n",
    "    row = data.iloc[i]\n",
    "    \n",
    "    s = ''\n",
    "    for i in range(1, 11):\n",
    "        s = s + '\\\\textbf{' + str(row[i]) + '} & '\n",
    "    \n",
    "    print(s)\n",
    "    print('\\n')\n",
    "    "
   ]
  },
  {
   "cell_type": "code",
   "execution_count": null,
   "id": "aa70e3dc",
   "metadata": {},
   "outputs": [],
   "source": []
  }
 ],
 "metadata": {
  "kernelspec": {
   "display_name": "Python 3 (ipykernel)",
   "language": "python",
   "name": "python3"
  },
  "language_info": {
   "codemirror_mode": {
    "name": "ipython",
    "version": 3
   },
   "file_extension": ".py",
   "mimetype": "text/x-python",
   "name": "python",
   "nbconvert_exporter": "python",
   "pygments_lexer": "ipython3",
   "version": "3.9.7"
  }
 },
 "nbformat": 4,
 "nbformat_minor": 5
}
