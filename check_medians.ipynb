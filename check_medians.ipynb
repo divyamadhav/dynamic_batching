{
 "cells": [
  {
   "cell_type": "code",
   "execution_count": 1,
   "id": "be15b582",
   "metadata": {},
   "outputs": [],
   "source": [
    "import pandas as pd\n",
    "from statistics import median"
   ]
  },
  {
   "cell_type": "code",
   "execution_count": 2,
   "id": "56e667bb",
   "metadata": {},
   "outputs": [],
   "source": [
    "ci_skip = pd.read_csv('ci_skipped_dynamic_variants.csv')\n",
    "base = pd.read_csv('baseline_dynamic_batching.csv')"
   ]
  },
  {
   "cell_type": "code",
   "execution_count": 3,
   "id": "91817e88",
   "metadata": {},
   "outputs": [],
   "source": [
    "projects = list(set(ci_skip['project'].tolist()))"
   ]
  },
  {
   "cell_type": "code",
   "execution_count": 4,
   "id": "fa7b5bf8",
   "metadata": {},
   "outputs": [],
   "source": [
    "algorithms = ['BATCHBISECT', 'BATCHSTOP4', 'BATCHDIVIDE4']\n",
    "types = set(ci_skip['update_method'].tolist())"
   ]
  },
  {
   "cell_type": "code",
   "execution_count": 5,
   "id": "7fe3381c",
   "metadata": {},
   "outputs": [],
   "source": [
    "db = {}"
   ]
  },
  {
   "cell_type": "code",
   "execution_count": 6,
   "id": "71e3c7d4",
   "metadata": {},
   "outputs": [],
   "source": [
    "min_max_db = {}"
   ]
  },
  {
   "cell_type": "code",
   "execution_count": 9,
   "id": "79334ed7",
   "metadata": {},
   "outputs": [
    {
     "name": "stdout",
     "output_type": "stream",
     "text": [
      "BATCHBISECT\n",
      "linear\n",
      "Min: 0.009102033798868092 dropwizard-dropwizard.csv\n",
      "Max: 48.05294751423735 essentials-Essentials.csv\n",
      "exponential\n",
      "Min: 0.00829084276416836 caelum-vraptor4.csv\n",
      "Max: 17.915961212867476 essentials-Essentials.csv\n",
      "random_linear\n",
      "Min: 0.007916748886628966 yegor256-takes.csv\n",
      "Max: 15.176235185470226 essentials-Essentials.csv\n",
      "random_exponential\n",
      "Min: 0.04947712440299057 xetorthio-jedis.csv\n",
      "Max: 9.835336003560311 apache-pdfbox.csv\n",
      "stagger\n",
      "Min: 0.16187188339086944 linkedin-gobblin.csv\n",
      "Max: 11.066646144374339 essentials-Essentials.csv\n",
      "BATCHSTOP4\n",
      "linear\n",
      "Min: 0.24737520074210817 apache-sling.csv\n",
      "Max: 11.44674997134014 cloudfoundry-uaa.csv\n",
      "exponential\n",
      "Min: 0.17021470691494311 apache-sling.csv\n",
      "Max: 10.041259037114406 grails-grails-core.csv\n",
      "random_linear\n",
      "Min: 0.24036061039418655 apache-sling.csv\n",
      "Max: 10.220101585347095 essentials-Essentials.csv\n",
      "random_exponential\n",
      "Min: 0.06499585169609201 apache-sling.csv\n",
      "Max: 10.220101585347095 essentials-Essentials.csv\n",
      "stagger\n",
      "Min: 0.18424388761078614 apache-sling.csv\n",
      "Max: 10.556749778539668 apache-tajo.csv\n",
      "BATCHDIVIDE4\n",
      "linear\n",
      "Min: 0.0543478260869672 deeplearning4j-deeplearning4j.csv\n",
      "Max: 12.876713727674613 checkstyle-checkstyle.csv\n",
      "exponential\n",
      "Min: 0.026154569383451065 apache-sling.csv\n",
      "Max: 9.340468615691215 mybatis-mybatis-3.csv\n",
      "random_linear\n",
      "Min: 0.11032965355853763 apache-sling.csv\n",
      "Max: 12.73435006884609 mybatis-mybatis-3.csv\n",
      "random_exponential\n",
      "Min: 0.04449069002495776 samtools-htsjdk.csv\n",
      "Max: 7.199099972444735 DSpace-DSpace.csv\n",
      "stagger\n",
      "Min: 0.11734424390645914 apache-sling.csv\n",
      "Max: 12.295401147595854 checkstyle-checkstyle.csv\n"
     ]
    }
   ],
   "source": [
    "for alg in algorithms:\n",
    "    print(alg)\n",
    "    db[alg] = {}\n",
    "    min_max_db[alg] = {}\n",
    "    \n",
    "    skip_alg = ci_skip[ ci_skip['algorithm'] == alg]\n",
    "    base_alg = base[ base['algorithm'] == alg]\n",
    "    \n",
    "#     print(base_alg)\n",
    "    \n",
    "    builds = base_alg['builds_saved'].tolist()\n",
    "    projects = base_alg['project'].tolist()\n",
    "    \n",
    "    for i in range(len(projects)):\n",
    "        db[alg][projects[i]] = [builds[i], 0]\n",
    "        \n",
    "    for t in types:\n",
    "        print(t)\n",
    "        skip_alg_t = skip_alg[ skip_alg['update_method']==t]\n",
    "        skip_alg_t = skip_alg_t.sort_values(by=['project'])\n",
    "        \n",
    "#         print(skip_alg_t)\n",
    "        \n",
    "        builds = skip_alg_t['builds_saved'].tolist()\n",
    "        projects = skip_alg_t['project'].tolist()\n",
    "        \n",
    "        for i in range(len(projects)):\n",
    "            db[alg][projects[i]][1] = builds[i]\n",
    "        \n",
    "        l = []\n",
    "        \n",
    "        for p in db[alg]:\n",
    "            l.append(abs(db[alg][p][0]-db[alg][p][1]))\n",
    "        \n",
    "        projects = list(db[alg].keys())\n",
    "        \n",
    "        print('Min: {} {}'.format(min(l), projects[l.index(min(l))]))\n",
    "        print('Max: {} {}'.format(max(l), projects[l.index(max(l))]))\n",
    "        min_max_db[alg][t] = [(min(l), projects[l.index(min(l))]), (max(l), projects[l.index(max(l))])]\n",
    "        \n",
    "#         print(db[alg])"
   ]
  },
  {
   "cell_type": "code",
   "execution_count": 10,
   "id": "55500795",
   "metadata": {},
   "outputs": [
    {
     "name": "stdout",
     "output_type": "stream",
     "text": [
      "For BATCHBISECT, \n",
      "Minimum essentials-Essentials.csv = [-6.741573033707859, -17.808219178082197], \n",
      "Maximum = checkstyle-checkstyle.csv = [77.31211090430654, 81.58306838134105]\n",
      "For BATCHSTOP4, \n",
      "Minimum essentials-Essentials.csv = [-3.370786516853941, 4.109589041095887], \n",
      "Maximum = checkstyle-checkstyle.csv = [78.49089703271078, 83.17515303943435]\n",
      "For BATCHDIVIDE4, \n",
      "Minimum essentials-Essentials.csv = [-3.370786516853941, -5.479452054794521], \n",
      "Maximum = checkstyle-checkstyle.csv = [78.55079905012515, 66.2553979025293]\n"
     ]
    }
   ],
   "source": [
    "for alg in db:\n",
    "    keys = list(db[alg].keys())\n",
    "    vals = list(db[alg].values())\n",
    "    \n",
    "    print('For {}, \\nMinimum {} = {}, \\nMaximum = {} = {}'.format(alg, keys[vals.index(min(vals))], min(vals), keys[vals.index(max(vals))], max(vals)))\n",
    "    "
   ]
  },
  {
   "cell_type": "code",
   "execution_count": 10,
   "id": "84b50608",
   "metadata": {},
   "outputs": [
    {
     "data": {
      "text/plain": [
       "3"
      ]
     },
     "execution_count": 10,
     "metadata": {},
     "output_type": "execute_result"
    }
   ],
   "source": [
    "vals.index(min(vals))"
   ]
  },
  {
   "cell_type": "code",
   "execution_count": 11,
   "id": "96873ba6",
   "metadata": {},
   "outputs": [
    {
     "data": {
      "text/plain": [
       "'apache-sling.csv-stagger-linear'"
      ]
     },
     "execution_count": 11,
     "metadata": {},
     "output_type": "execute_result"
    }
   ],
   "source": [
    "keys[3]"
   ]
  },
  {
   "cell_type": "code",
   "execution_count": null,
   "id": "83d58a80",
   "metadata": {},
   "outputs": [],
   "source": []
  }
 ],
 "metadata": {
  "kernelspec": {
   "display_name": "Python 3 (ipykernel)",
   "language": "python",
   "name": "python3"
  },
  "language_info": {
   "codemirror_mode": {
    "name": "ipython",
    "version": 3
   },
   "file_extension": ".py",
   "mimetype": "text/x-python",
   "name": "python",
   "nbconvert_exporter": "python",
   "pygments_lexer": "ipython3",
   "version": "3.9.7"
  }
 },
 "nbformat": 4,
 "nbformat_minor": 5
}
