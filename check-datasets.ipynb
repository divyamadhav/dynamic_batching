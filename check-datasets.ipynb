{
 "cells": [
  {
   "cell_type": "code",
   "execution_count": 1,
   "id": "39fdeaef",
   "metadata": {},
   "outputs": [],
   "source": [
    "import pandas as pd\n",
    "from statistics import mean, median\n",
    "from projects import project_list"
   ]
  },
  {
   "cell_type": "code",
   "execution_count": 12,
   "id": "a44d307e",
   "metadata": {},
   "outputs": [],
   "source": [
    "db = {}"
   ]
  },
  {
   "cell_type": "code",
   "execution_count": 13,
   "id": "e7dd02f0",
   "metadata": {},
   "outputs": [],
   "source": [
    "for i in range(0, 100, 10):\n",
    "    ul = i + 10\n",
    "    db[ul] = []"
   ]
  },
  {
   "cell_type": "code",
   "execution_count": 14,
   "id": "013917a3",
   "metadata": {},
   "outputs": [
    {
     "name": "stdout",
     "output_type": "stream",
     "text": [
      "48.589 BuildCraft-BuildCraft/BuildCraft-BuildCraft.csv\n",
      "23.258         apache-tajo/apache-tajo.csv\n",
      "66.963 osmdroid-osmdroid/osmdroid-osmdroid.csv\n",
      "8.742     DSpace-DSpace/DSpace-DSpace.csv\n",
      "37.357         apache-nifi/apache-nifi.csv\n",
      "12.345 caelum-vraptor4/caelum-vraptor4.csv\n",
      "32.056 grails-grails-core/grails-grails-core.csv\n",
      "5.845         square-wire/square-wire.csv\n",
      "21.799 puniverse-quasar/puniverse-quasar.csv\n",
      "8.486 dropwizard-dropwizard/dropwizard-dropwizard.csv\n",
      "15.721 essentials-Essentials/essentials-Essentials.csv\n",
      "8.234 mybatis-mybatis-3/mybatis-mybatis-3.csv\n",
      "15.984   naver-pinpoint/naver-pinpoint.csv\n",
      "29.294 FasterXML-jackson-databind/FasterXML-jackson-databind.csv\n",
      "10.426 samtools-htsjdk/samtools-htsjdk.csv\n",
      "90.355 deeplearning4j-deeplearning4j/deeplearning4j-deeplearning4j.csv\n",
      "22.015 open-keychain-open-keychain/open-keychain-open-keychain.csv\n",
      "25.464   yegor256-takes/yegor256-takes.csv\n",
      "8.436 keycloak-keycloak/keycloak-keycloak.csv\n",
      "30.634 RS485-LogisticsPipes/RS485-LogisticsPipes.csv\n",
      "18.348 rackerlabs-blueflood/rackerlabs-blueflood.csv\n",
      "15.991 xetorthio-jedis/xetorthio-jedis.csv\n",
      "49.238 orbeon-orbeon-forms/orbeon-orbeon-forms.csv\n",
      "45.269 linkedin-gobblin/linkedin-gobblin.csv\n",
      "11.194     JabRef-jabref/JabRef-jabref.csv\n",
      "29.196 datastax-java-driver/datastax-java-driver.csv\n",
      "24.98             jOOQ-jOOQ/jOOQ-jOOQ.csv\n",
      "47.964 structr-structr/structr-structr.csv\n",
      "10.51 floragunncom-search-guard/floragunncom-search-guard.csv\n",
      "20.272 SpongePowered-SpongeForge/SpongePowered-SpongeForge.csv\n",
      "9.302 sakaiproject-sakai/sakaiproject-sakai.csv\n",
      "34.208   dreamhead-moco/dreamhead-moco.csv\n",
      "45.392         nutzam-nutz/nutzam-nutz.csv\n",
      "17.739 CloudSlang-cloud-slang/CloudSlang-cloud-slang.csv\n",
      "46.374 geotools-geotools/geotools-geotools.csv\n",
      "25.73 CloudifySource-cloudify/CloudifySource-cloudify.csv\n",
      "24.174 SpongePowered-SpongeCommon/SpongePowered-SpongeCommon.csv\n",
      "58.56 apache-zeppelin/apache-zeppelin.csv\n",
      "45.345 typetools-checker-framework/typetools-checker-framework.csv\n",
      "53.041 geoserver-geoserver/geoserver-geoserver.csv\n",
      "26.585 ngageoint-geowave/ngageoint-geowave.csv\n",
      "37.949 sparklemotion-nokogiri/sparklemotion-nokogiri.csv\n",
      "10.02 Graylog2-graylog2-server/Graylog2-graylog2-server.csv\n",
      "11.55 cloudfoundry-uaa/cloudfoundry-uaa.csv\n",
      "46.023 apache-jackrabbit-oak/apache-jackrabbit-oak.csv\n",
      "56.112     apache-pdfbox/apache-pdfbox.csv\n",
      "98.325       apache-sling/apache-sling.csv\n",
      "22.656 SonarSource-sonar-java/SonarSource-sonar-java.csv\n",
      "60.911 killbill-killbill/killbill-killbill.csv\n",
      "10.429 checkstyle-checkstyle/checkstyle-checkstyle.csv\n"
     ]
    }
   ],
   "source": [
    "for p in project_list:\n",
    "    data = pd.read_csv('data/25_1_travis_data/' + p)\n",
    "    outcomes = data['tr_status'].tolist()\n",
    "    failures = len(outcomes) - outcomes.count('passed')\n",
    "    fp = 100 * failures/len(outcomes)\n",
    "    print('{} {:>35}'.format(round(fp, 3), p))\n",
    "    bracket = 10*(1 + int(fp//10))\n",
    "    db[bracket].append((fp, p))"
   ]
  },
  {
   "cell_type": "code",
   "execution_count": 20,
   "id": "ca9eea5b",
   "metadata": {},
   "outputs": [
    {
     "name": "stdout",
     "output_type": "stream",
     "text": [
      "(5.84524810765349, 'square-wire/square-wire.csv')\n",
      "(8.234362628661916, 'mybatis-mybatis-3/mybatis-mybatis-3.csv')\n",
      "(8.436482084690553, 'keycloak-keycloak/keycloak-keycloak.csv')\n",
      "(8.48585690515807, 'dropwizard-dropwizard/dropwizard-dropwizard.csv')\n",
      "(8.74190564292322, 'DSpace-DSpace/DSpace-DSpace.csv')\n",
      "(9.30232558139535, 'sakaiproject-sakai/sakaiproject-sakai.csv')\n",
      "(10.02031144211239, 'Graylog2-graylog2-server/Graylog2-graylog2-server.csv')\n",
      "(10.425685425685426, 'samtools-htsjdk/samtools-htsjdk.csv')\n",
      "(10.428885239608437, 'checkstyle-checkstyle/checkstyle-checkstyle.csv')\n",
      "(10.510435001257228, 'floragunncom-search-guard/floragunncom-search-guard.csv')\n",
      "(11.194229227892064, 'JabRef-jabref/JabRef-jabref.csv')\n",
      "(11.550456671864557, 'cloudfoundry-uaa/cloudfoundry-uaa.csv')\n",
      "(12.344582593250443, 'caelum-vraptor4/caelum-vraptor4.csv')\n",
      "(15.720702327480604, 'essentials-Essentials/essentials-Essentials.csv')\n",
      "(15.984251968503937, 'naver-pinpoint/naver-pinpoint.csv')\n",
      "(15.991405770411296, 'xetorthio-jedis/xetorthio-jedis.csv')\n",
      "(17.739273927392738, 'CloudSlang-cloud-slang/CloudSlang-cloud-slang.csv')\n",
      "(18.34833902514747, 'rackerlabs-blueflood/rackerlabs-blueflood.csv')\n",
      "(20.27194066749073, 'SpongePowered-SpongeForge/SpongePowered-SpongeForge.csv')\n",
      "(21.799163179916317, 'puniverse-quasar/puniverse-quasar.csv')\n",
      "(22.015449438202246, 'open-keychain-open-keychain/open-keychain-open-keychain.csv')\n",
      "(22.65634598845067, 'SonarSource-sonar-java/SonarSource-sonar-java.csv')\n",
      "(23.258049014896685, 'apache-tajo/apache-tajo.csv')\n",
      "(24.174487313173444, 'SpongePowered-SpongeCommon/SpongePowered-SpongeCommon.csv')\n",
      "(24.980299448384553, 'jOOQ-jOOQ/jOOQ-jOOQ.csv')\n",
      "(25.463743676222595, 'yegor256-takes/yegor256-takes.csv')\n",
      "(25.73018080667594, 'CloudifySource-cloudify/CloudifySource-cloudify.csv')\n",
      "(26.585014409221902, 'ngageoint-geowave/ngageoint-geowave.csv')\n",
      "(29.196499602227526, 'datastax-java-driver/datastax-java-driver.csv')\n",
      "(29.293708992666925, 'FasterXML-jackson-databind/FasterXML-jackson-databind.csv')\n",
      "(30.634023854362837, 'RS485-LogisticsPipes/RS485-LogisticsPipes.csv')\n",
      "(32.05619412515964, 'grails-grails-core/grails-grails-core.csv')\n",
      "(34.20762618470355, 'dreamhead-moco/dreamhead-moco.csv')\n",
      "(37.35711019661637, 'apache-nifi/apache-nifi.csv')\n",
      "(37.94914317302377, 'sparklemotion-nokogiri/sparklemotion-nokogiri.csv')\n",
      "(45.26916802610114, 'linkedin-gobblin/linkedin-gobblin.csv')\n",
      "(45.34496431403648, 'typetools-checker-framework/typetools-checker-framework.csv')\n",
      "(45.39219888555508, 'nutzam-nutz/nutzam-nutz.csv')\n",
      "(46.02332979851538, 'apache-jackrabbit-oak/apache-jackrabbit-oak.csv')\n",
      "(46.37370489460522, 'geotools-geotools/geotools-geotools.csv')\n",
      "(47.9639175257732, 'structr-structr/structr-structr.csv')\n",
      "(48.58949416342413, 'BuildCraft-BuildCraft/BuildCraft-BuildCraft.csv')\n",
      "(49.23842999414177, 'orbeon-orbeon-forms/orbeon-orbeon-forms.csv')\n",
      "(53.04064075941857, 'geoserver-geoserver/geoserver-geoserver.csv')\n",
      "(56.11199849666448, 'apache-pdfbox/apache-pdfbox.csv')\n",
      "(58.55960264900662, 'apache-zeppelin/apache-zeppelin.csv')\n",
      "(60.91059602649007, 'killbill-killbill/killbill-killbill.csv')\n",
      "(66.96344892221181, 'osmdroid-osmdroid/osmdroid-osmdroid.csv')\n",
      "(90.35496593761205, 'deeplearning4j-deeplearning4j/deeplearning4j-deeplearning4j.csv')\n",
      "(98.32457948274715, 'apache-sling/apache-sling.csv')\n"
     ]
    }
   ],
   "source": [
    "for d in db:\n",
    "    l = sorted(db[d])\n",
    "    for el in l:\n",
    "        print(el)    "
   ]
  },
  {
   "cell_type": "code",
   "execution_count": 30,
   "id": "a0e3a166",
   "metadata": {},
   "outputs": [],
   "source": [
    "fps = [el[0] for d in db for el in sorted(db[d])]"
   ]
  },
  {
   "cell_type": "code",
   "execution_count": 32,
   "id": "f7753f33",
   "metadata": {},
   "outputs": [],
   "source": [
    "less_20 = sum(el < 20 for el in fps)"
   ]
  },
  {
   "cell_type": "code",
   "execution_count": 33,
   "id": "e82d55d0",
   "metadata": {},
   "outputs": [
    {
     "data": {
      "text/plain": [
       "18"
      ]
     },
     "execution_count": 33,
     "metadata": {},
     "output_type": "execute_result"
    }
   ],
   "source": [
    "less_20"
   ]
  },
  {
   "cell_type": "code",
   "execution_count": 34,
   "id": "32411da9",
   "metadata": {},
   "outputs": [],
   "source": [
    "b_20_50 = sum((el >= 20) & (el < 50) for el in fps)"
   ]
  },
  {
   "cell_type": "code",
   "execution_count": 35,
   "id": "89637905",
   "metadata": {},
   "outputs": [
    {
     "data": {
      "text/plain": [
       "25"
      ]
     },
     "execution_count": 35,
     "metadata": {},
     "output_type": "execute_result"
    }
   ],
   "source": [
    "b_20_50"
   ]
  },
  {
   "cell_type": "code",
   "execution_count": 36,
   "id": "9d188244",
   "metadata": {},
   "outputs": [],
   "source": [
    "more_50 = sum( el >= 50 for el in fps)"
   ]
  },
  {
   "cell_type": "code",
   "execution_count": 37,
   "id": "bfc71094",
   "metadata": {},
   "outputs": [
    {
     "data": {
      "text/plain": [
       "7"
      ]
     },
     "execution_count": 37,
     "metadata": {},
     "output_type": "execute_result"
    }
   ],
   "source": [
    "more_50"
   ]
  },
  {
   "cell_type": "code",
   "execution_count": null,
   "id": "d7015a4c",
   "metadata": {},
   "outputs": [],
   "source": []
  }
 ],
 "metadata": {
  "kernelspec": {
   "display_name": "Python 3 (ipykernel)",
   "language": "python",
   "name": "python3"
  },
  "language_info": {
   "codemirror_mode": {
    "name": "ipython",
    "version": 3
   },
   "file_extension": ".py",
   "mimetype": "text/x-python",
   "name": "python",
   "nbconvert_exporter": "python",
   "pygments_lexer": "ipython3",
   "version": "3.9.7"
  }
 },
 "nbformat": 4,
 "nbformat_minor": 5
}
