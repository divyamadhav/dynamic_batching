{
 "cells": [
  {
   "cell_type": "code",
   "execution_count": 1,
   "id": "3f4babde",
   "metadata": {},
   "outputs": [],
   "source": [
    "import pandas as pd\n",
    "import csv\n",
    "import os"
   ]
  },
  {
   "cell_type": "code",
   "execution_count": 3,
   "id": "892adf30",
   "metadata": {},
   "outputs": [
    {
     "name": "stderr",
     "output_type": "stream",
     "text": [
      "/opt/homebrew/Caskroom/miniforge/base/envs/new_env/lib/python3.9/site-packages/IPython/core/interactiveshell.py:3444: DtypeWarning: Columns (3,6,18) have mixed types.Specify dtype option on import or set low_memory=False.\n",
      "  exec(code_obj, self.user_global_ns, self.user_ns)\n"
     ]
    }
   ],
   "source": [
    "data = pd.read_csv('data/25_1_travis_data/final-2017-01-25.csv')"
   ]
  },
  {
   "cell_type": "code",
   "execution_count": 4,
   "id": "89d7893f",
   "metadata": {},
   "outputs": [],
   "source": [
    "java = data[ data['gh_lang'] == 'java']"
   ]
  },
  {
   "cell_type": "code",
   "execution_count": 5,
   "id": "8dbf12ec",
   "metadata": {},
   "outputs": [],
   "source": [
    "projects = set(java['gh_project_name'].tolist())"
   ]
  },
  {
   "cell_type": "code",
   "execution_count": 6,
   "id": "96947a83",
   "metadata": {},
   "outputs": [],
   "source": [
    "proj_db = []"
   ]
  },
  {
   "cell_type": "code",
   "execution_count": 7,
   "id": "249bf5dd",
   "metadata": {},
   "outputs": [],
   "source": [
    "for p in projects:\n",
    "    d = java[ java['gh_project_name'] == p]\n",
    "    if len(d) >= 2000:\n",
    "        proj_db.append((len(d), p))\n",
    "    "
   ]
  },
  {
   "cell_type": "code",
   "execution_count": 8,
   "id": "57a65433",
   "metadata": {},
   "outputs": [],
   "source": [
    "proj_db.sort()"
   ]
  },
  {
   "cell_type": "code",
   "execution_count": 9,
   "id": "4af6ee70",
   "metadata": {},
   "outputs": [],
   "source": [
    "proj_db = proj_db[3:]"
   ]
  },
  {
   "cell_type": "code",
   "execution_count": 11,
   "id": "416a79b1",
   "metadata": {},
   "outputs": [],
   "source": [
    "for p in proj_db:\n",
    "    proj_name = '-'.join(p[1].split('/'))\n",
    "    dirname = 'data/travis_datasets'\n",
    "    #os.mkdir(dirname)\n",
    "    \n",
    "    filename = p[1]\n",
    "    d = java[ java['gh_project_name'] == filename]\n",
    "    \n",
    "    d.to_csv(dirname + '/' + proj_name + '.csv')"
   ]
  },
  {
   "cell_type": "code",
   "execution_count": 63,
   "id": "56cace2b",
   "metadata": {},
   "outputs": [],
   "source": [
    "project_list = []"
   ]
  },
  {
   "cell_type": "code",
   "execution_count": 64,
   "id": "aa127cf4",
   "metadata": {},
   "outputs": [],
   "source": [
    "for p in proj_db:\n",
    "    proj_name = '-'.join(p[1].split('/'))\n",
    "    filename = proj_name + '/' + proj_name + '.csv'\n",
    "    project_list.append(filename)"
   ]
  },
  {
   "cell_type": "code",
   "execution_count": 68,
   "id": "79128eb0",
   "metadata": {},
   "outputs": [],
   "source": [
    "with open('data/projects.py', 'w') as file:\n",
    "    string = 'project_list = ' + str(project_list)\n",
    "    file.write(string)"
   ]
  },
  {
   "cell_type": "code",
   "execution_count": 69,
   "id": "c4d06be4",
   "metadata": {},
   "outputs": [
    {
     "data": {
      "text/plain": [
       "[(2056, 'BuildCraft/BuildCraft'),\n",
       " (2081, 'apache/tajo'),\n",
       " (2134, 'osmdroid/osmdroid'),\n",
       " (2162, 'DSpace/DSpace'),\n",
       " (2187, 'apache/nifi'),\n",
       " (2252, 'caelum/vraptor4'),\n",
       " (2349, 'grails/grails-core'),\n",
       " (2378, 'square/wire'),\n",
       " (2390, 'puniverse/quasar'),\n",
       " (2404, 'dropwizard/dropwizard'),\n",
       " (2449, 'essentials/Essentials'),\n",
       " (2526, 'mybatis/mybatis-3'),\n",
       " (2540, 'naver/pinpoint'),\n",
       " (2591, 'FasterXML/jackson-databind'),\n",
       " (2772, 'samtools/htsjdk'),\n",
       " (2789, 'deeplearning4j/deeplearning4j'),\n",
       " (2848, 'open-keychain/open-keychain'),\n",
       " (2965, 'yegor256/takes'),\n",
       " (3070, 'keycloak/keycloak'),\n",
       " (3186, 'RS485/LogisticsPipes'),\n",
       " (3221, 'rackerlabs/blueflood'),\n",
       " (3258, 'xetorthio/jedis'),\n",
       " (3414, 'orbeon/orbeon-forms'),\n",
       " (3678, 'linkedin/gobblin'),\n",
       " (3743, 'JabRef/jabref'),\n",
       " (3771, 'datastax/java-driver'),\n",
       " (3807, 'jOOQ/jOOQ'),\n",
       " (3880, 'structr/structr'),\n",
       " (3977, 'floragunncom/search-guard'),\n",
       " (4045, 'SpongePowered/SpongeForge'),\n",
       " (4214, 'sakaiproject/sakai'),\n",
       " (4537, 'dreamhead/moco'),\n",
       " (4666, 'nutzam/nutz'),\n",
       " (4848, 'CloudSlang/cloud-slang'),\n",
       " (5598, 'geotools/geotools'),\n",
       " (5752, 'CloudifySource/cloudify'),\n",
       " (5754, 'SpongePowered/SpongeCommon'),\n",
       " (6040, 'apache/zeppelin'),\n",
       " (6305, 'typetools/checker-framework'),\n",
       " (6742, 'geoserver/geoserver'),\n",
       " (6940, 'ngageoint/geowave'),\n",
       " (7236, 'sparklemotion/nokogiri'),\n",
       " (8862, 'Graylog2/graylog2-server'),\n",
       " (8978, 'cloudfoundry/uaa'),\n",
       " (9430, 'apache/jackrabbit-oak'),\n",
       " (10643, 'apache/pdfbox'),\n",
       " (15041, 'apache/sling'),\n",
       " (16278, 'SonarSource/sonar-java'),\n",
       " (18120, 'killbill/killbill'),\n",
       " (46889, 'checkstyle/checkstyle')]"
      ]
     },
     "execution_count": 69,
     "metadata": {},
     "output_type": "execute_result"
    }
   ],
   "source": [
    "proj_db"
   ]
  },
  {
   "cell_type": "code",
   "execution_count": null,
   "id": "d79395f2",
   "metadata": {},
   "outputs": [],
   "source": []
  }
 ],
 "metadata": {
  "kernelspec": {
   "display_name": "Python 3 (ipykernel)",
   "language": "python",
   "name": "python3"
  },
  "language_info": {
   "codemirror_mode": {
    "name": "ipython",
    "version": 3
   },
   "file_extension": ".py",
   "mimetype": "text/x-python",
   "name": "python",
   "nbconvert_exporter": "python",
   "pygments_lexer": "ipython3",
   "version": "3.9.7"
  }
 },
 "nbformat": 4,
 "nbformat_minor": 5
}
