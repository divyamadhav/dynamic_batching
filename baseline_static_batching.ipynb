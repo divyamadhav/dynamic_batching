{
 "cells": [
  {
   "cell_type": "code",
   "execution_count": 25,
   "id": "6ab30ed5",
   "metadata": {},
   "outputs": [],
   "source": [
    "import pandas as pd\n",
    "import csv\n",
    "from statistics import median\n",
    "from projects import project_list\n",
    "from batching_algs import *"
   ]
  },
  {
   "cell_type": "code",
   "execution_count": 26,
   "id": "64726fa9",
   "metadata": {},
   "outputs": [
    {
     "data": {
      "text/plain": [
       "69"
      ]
     },
     "execution_count": 26,
     "metadata": {},
     "output_type": "execute_result"
    }
   ],
   "source": [
    "r_file_name = 'ci_skipped_static_baseline_batching.csv'\n",
    "result_file = open(r_file_name, 'w')\n",
    "result_headers = ['project', 'algorithm', 'batch_size', 'builds_saved', 'median_delay', 'testall_size']\n",
    "writer = csv.writer(result_file)\n",
    "writer.writerow(result_headers)"
   ]
  },
  {
   "cell_type": "code",
   "execution_count": 27,
   "id": "53da87a8",
   "metadata": {},
   "outputs": [],
   "source": [
    "batch_total = 0"
   ]
  },
  {
   "cell_type": "code",
   "execution_count": 28,
   "id": "24b54a89",
   "metadata": {},
   "outputs": [],
   "source": [
    "def output_values(tr_results):\n",
    "    l = []\n",
    "    i = 0\n",
    "    while i < len(tr_results):\n",
    "        if tr_results[i] == 'passed':\n",
    "            l.append(1)\n",
    "        else:\n",
    "            l.append(0)\n",
    "        i += 1\n",
    "    \n",
    "    return l"
   ]
  },
  {
   "cell_type": "code",
   "execution_count": 29,
   "id": "d1cd2038",
   "metadata": {},
   "outputs": [],
   "source": [
    "def batching(project, data, algorithm, string):\n",
    "    global batch_total\n",
    "    \n",
    "    p_name = project.split('/')[1]\n",
    "    \n",
    "    result_file = open('ci_skipped_static_baseline_batching.csv', 'a+')\n",
    "    writer = csv.writer(result_file)\n",
    "    \n",
    "    results = output_values(data['tr_status'].tolist())\n",
    "    length = len(results)\n",
    "    \n",
    "    if string == 'BATCHBISECT':\n",
    "        batch_sizes = [2, 4, 8, 16]\n",
    "    elif string == 'BATCHSTOP4':\n",
    "        batch_sizes = [4, 8, 16]\n",
    "    else:\n",
    "        batch_sizes = [4, 8, 16]\n",
    "    \n",
    "    \n",
    "       \n",
    "    for b in batch_sizes:\n",
    "        builds = 0\n",
    "        delays = []\n",
    "        \n",
    "        i = 0\n",
    "        while i < length:\n",
    "            if length - i > b:\n",
    "                batch = results[i:i+b]\n",
    "                delays.extend([b-x-1 for x in range(b)])\n",
    "            else:\n",
    "                batch = results[i:]\n",
    "                delays.extend([b-x-1 for x in range(length-i)])\n",
    "            batch_total = algorithm(batch)\n",
    "            builds += batch_total\n",
    "            #print(b, batch, batch_total, builds)\n",
    "            \n",
    "            i += b\n",
    "        \n",
    "        builds_saved = 100-(100*builds/length)\n",
    "        median_delay = median(delays)\n",
    "        \n",
    "        writer.writerow([p_name, string, b, builds_saved, median_delay, length])"
   ]
  },
  {
   "cell_type": "code",
   "execution_count": 30,
   "id": "acd544f9",
   "metadata": {},
   "outputs": [
    {
     "name": "stdout",
     "output_type": "stream",
     "text": [
      "Could not continue for BuildCraft-BuildCraft/BuildCraft-BuildCraft.csv\n"
     ]
    }
   ],
   "source": [
    "discard_list = []\n",
    "for p in project_list:\n",
    "    p_name = p.split('/')[1]\n",
    "    try:\n",
    "        data = pd.read_csv('ci_skip_data/extracted_project_travis/'+p_name)\n",
    "    except:\n",
    "        continue\n",
    "    \n",
    "    branch_type = data['git_branch'].tolist()\n",
    "    if 'master' in branch_type:\n",
    "        data = data[ data['git_branch'] == 'master']\n",
    "    else:\n",
    "        data = data[ data['git_branch'] == 'trunk']\n",
    "    \n",
    "    data = data[ data['verdict'] == 0]\n",
    "    data = data.iloc[100:]\n",
    "    if len(data) == 0:\n",
    "        print('Could not continue for {}'.format(p))\n",
    "        discard_list.append(p)\n",
    "        continue\n",
    "    \n",
    "    batching(p, data, batchbisect, 'BATCHBISECT')\n",
    "    batching(p, data, batchstop4, 'BATCHSTOP4')\n",
    "    batching(p, data, batchdivide4, 'BATCHDIVIDE4')    "
   ]
  },
  {
   "cell_type": "code",
   "execution_count": null,
   "id": "7712a6d8",
   "metadata": {},
   "outputs": [],
   "source": []
  },
  {
   "cell_type": "code",
   "execution_count": null,
   "id": "b85267cd",
   "metadata": {},
   "outputs": [],
   "source": []
  },
  {
   "cell_type": "code",
   "execution_count": null,
   "id": "0ef2399b",
   "metadata": {},
   "outputs": [],
   "source": []
  }
 ],
 "metadata": {
  "kernelspec": {
   "display_name": "Python 3 (ipykernel)",
   "language": "python",
   "name": "python3"
  },
  "language_info": {
   "codemirror_mode": {
    "name": "ipython",
    "version": 3
   },
   "file_extension": ".py",
   "mimetype": "text/x-python",
   "name": "python",
   "nbconvert_exporter": "python",
   "pygments_lexer": "ipython3",
   "version": "3.9.7"
  }
 },
 "nbformat": 4,
 "nbformat_minor": 5
}
