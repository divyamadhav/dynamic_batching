{
 "cells": [
  {
   "cell_type": "code",
   "execution_count": 18,
   "id": "6ab30ed5",
   "metadata": {},
   "outputs": [],
   "source": [
    "import pandas as pd\n",
    "import csv\n",
    "from statistics import median\n",
    "from projects import project_list"
   ]
  },
  {
   "cell_type": "code",
   "execution_count": 19,
   "id": "64726fa9",
   "metadata": {},
   "outputs": [
    {
     "data": {
      "text/plain": [
       "69"
      ]
     },
     "execution_count": 19,
     "metadata": {},
     "output_type": "execute_result"
    }
   ],
   "source": [
    "r_file_name = 'static_baseline_batching.csv'\n",
    "result_file = open(r_file_name, 'w')\n",
    "result_headers = ['project', 'algorithm', 'batch_size', 'builds_saved', 'median_delay', 'testall_size']\n",
    "writer = csv.writer(result_file)\n",
    "writer.writerow(result_headers)"
   ]
  },
  {
   "cell_type": "code",
   "execution_count": 20,
   "id": "53da87a8",
   "metadata": {},
   "outputs": [],
   "source": [
    "batch_total = 0"
   ]
  },
  {
   "cell_type": "code",
   "execution_count": 21,
   "id": "24b54a89",
   "metadata": {},
   "outputs": [],
   "source": [
    "def output_values(tr_results):\n",
    "    l = []\n",
    "    i = 0\n",
    "    while i < len(tr_results):\n",
    "        if tr_results[i] == 'passed':\n",
    "            l.append(1)\n",
    "        else:\n",
    "            l.append(0)\n",
    "        i += 1\n",
    "    \n",
    "    return l"
   ]
  },
  {
   "cell_type": "code",
   "execution_count": 22,
   "id": "80bbd011",
   "metadata": {},
   "outputs": [],
   "source": [
    "def batch_bisect(batch_results):\n",
    "    global batch_total\n",
    "    \n",
    "    batch_total += 1\n",
    "    \n",
    "    if len(batch_results) == 1:\n",
    "        return\n",
    "    \n",
    "    if 0 in batch_results:\n",
    "        half_batch = len(batch_results)//2\n",
    "        batch_bisect(batch_results[:half_batch])\n",
    "        batch_bisect(batch_results[half_batch:])"
   ]
  },
  {
   "cell_type": "code",
   "execution_count": 23,
   "id": "4e355098",
   "metadata": {},
   "outputs": [],
   "source": [
    "def batch_stop_4(batch_results):\n",
    "    global batch_total\n",
    "    \n",
    "    batch_total += 1\n",
    "    \n",
    "    if len(batch_results) <= 4:\n",
    "        if 0 in batch_results:\n",
    "            batch_total += 4\n",
    "        return\n",
    "    \n",
    "    if 0 in batch_results:\n",
    "        half_batch = len(batch_results)//2\n",
    "        batch_stop_4(batch_results[:half_batch])\n",
    "        batch_stop_4(batch_results[half_batch:])"
   ]
  },
  {
   "cell_type": "code",
   "execution_count": 24,
   "id": "d1cd2038",
   "metadata": {},
   "outputs": [],
   "source": [
    "def bb_batching(project, data):\n",
    "    global batch_total\n",
    "    \n",
    "    p_name = project.split('/')[1]\n",
    "    \n",
    "    result_file = open('static_baseline_batching.csv', 'a+')\n",
    "    writer = csv.writer(result_file)\n",
    "    \n",
    "    results = output_values(data['tr_status'].tolist())\n",
    "    length = len(results)\n",
    "    \n",
    "    batch_sizes = [2, 4, 8, 16]\n",
    "    for b in batch_sizes:\n",
    "        builds = 0\n",
    "        delays = []\n",
    "        \n",
    "        i = 0\n",
    "        while i < length:\n",
    "            if length - i > b:\n",
    "                batch = results[i:i+b]\n",
    "                delays.extend([b-x-1 for x in range(b)])\n",
    "            else:\n",
    "                batch = results[i:]\n",
    "                delays.extend([b-x-1 for x in range(length-i)])\n",
    "            batch_total = 0\n",
    "            batch_bisect(batch)\n",
    "            builds += batch_total\n",
    "            \n",
    "            i += b\n",
    "        \n",
    "        builds_saved = 100-(100*builds/length)\n",
    "        median_delay = median(delays)\n",
    "        \n",
    "        writer.writerow([p_name, 'BATCHBISECT', b, builds_saved, median_delay, length])"
   ]
  },
  {
   "cell_type": "code",
   "execution_count": 25,
   "id": "3dc524d5",
   "metadata": {},
   "outputs": [],
   "source": [
    "def bs4_batching(project, data):\n",
    "    global batch_total\n",
    "    \n",
    "    p_name = project.split('/')[1]\n",
    "    \n",
    "    result_file = open('static_baseline_batching.csv', 'a+')\n",
    "    writer = csv.writer(result_file)\n",
    "    \n",
    "    results = output_values(data['tr_status'].tolist())\n",
    "    length = len(results)\n",
    "    \n",
    "    batch_sizes = [8, 16]\n",
    "    for b in batch_sizes:\n",
    "        builds = 0\n",
    "        delays = []\n",
    "        \n",
    "        i = 0\n",
    "        while i < length:\n",
    "            if length - i > b:\n",
    "                batch = results[i:i+b]\n",
    "                delays.extend([b-x-1 for x in range(b)])\n",
    "            else:\n",
    "                batch = results[i:]\n",
    "                delays.extend([b-x-1 for x in range(length-i)])\n",
    "            batch_total = 0\n",
    "            batch_stop_4(batch)\n",
    "            builds += batch_total\n",
    "            \n",
    "            i += b\n",
    "        \n",
    "        builds_saved = 100-(100*builds/length)\n",
    "        median_delay = median(delays)\n",
    "        \n",
    "        writer.writerow([p_name, 'BATCHSTOP4', b, builds_saved, median_delay, length])"
   ]
  },
  {
   "cell_type": "code",
   "execution_count": 26,
   "id": "acd544f9",
   "metadata": {},
   "outputs": [
    {
     "name": "stdout",
     "output_type": "stream",
     "text": [
      "Could not continue for BuildCraft-BuildCraft/BuildCraft-BuildCraft.csv\n",
      "Could not continue for RS485-LogisticsPipes/RS485-LogisticsPipes.csv\n",
      "Could not continue for datastax-java-driver/datastax-java-driver.csv\n"
     ]
    }
   ],
   "source": [
    "discard_list = []\n",
    "for p in project_list:\n",
    "    data = pd.read_csv('data/25_1_travis_data/'+p)\n",
    "    \n",
    "    branch_type = data['git_branch'].tolist()\n",
    "    if 'master' in branch_type:\n",
    "        data = data[ data['git_branch'] == 'master']\n",
    "    else:\n",
    "        data = data[ data['git_branch'] == 'trunk']\n",
    "    \n",
    "    \n",
    "    data = data.iloc[100:]\n",
    "    if len(data) == 0:\n",
    "        print('Could not continue for {}'.format(p))\n",
    "        discard_list.append(p)\n",
    "        continue\n",
    "    \n",
    "    bb_batching(p, data)\n",
    "    bs4_batching(p, data)\n",
    "    "
   ]
  },
  {
   "cell_type": "code",
   "execution_count": 27,
   "id": "32fc3a87",
   "metadata": {},
   "outputs": [
    {
     "data": {
      "text/plain": [
       "['BuildCraft-BuildCraft/BuildCraft-BuildCraft.csv',\n",
       " 'RS485-LogisticsPipes/RS485-LogisticsPipes.csv',\n",
       " 'datastax-java-driver/datastax-java-driver.csv']"
      ]
     },
     "execution_count": 27,
     "metadata": {},
     "output_type": "execute_result"
    }
   ],
   "source": [
    "discard_list"
   ]
  },
  {
   "cell_type": "code",
   "execution_count": null,
   "id": "2288991d",
   "metadata": {},
   "outputs": [],
   "source": []
  }
 ],
 "metadata": {
  "kernelspec": {
   "display_name": "Python 3 (ipykernel)",
   "language": "python",
   "name": "python3"
  },
  "language_info": {
   "codemirror_mode": {
    "name": "ipython",
    "version": 3
   },
   "file_extension": ".py",
   "mimetype": "text/x-python",
   "name": "python",
   "nbconvert_exporter": "python",
   "pygments_lexer": "ipython3",
   "version": "3.9.7"
  }
 },
 "nbformat": 4,
 "nbformat_minor": 5
}
