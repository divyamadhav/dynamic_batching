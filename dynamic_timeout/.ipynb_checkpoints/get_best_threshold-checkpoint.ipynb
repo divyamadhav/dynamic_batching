{
 "cells": [
  {
   "cell_type": "code",
   "execution_count": 1,
   "id": "93e81a8c",
   "metadata": {},
   "outputs": [],
   "source": [
    "import pandas as pd\n",
    "import sys\n",
    "import csv\n",
    "from statistics import median"
   ]
  },
  {
   "cell_type": "code",
   "execution_count": 2,
   "id": "c4f55fd5",
   "metadata": {},
   "outputs": [],
   "source": [
    "project_ytest_lib = {}"
   ]
  },
  {
   "cell_type": "code",
   "execution_count": 3,
   "id": "00797ca3",
   "metadata": {},
   "outputs": [],
   "source": [
    "def output_values(Y_data):\n",
    "    Y_t = []\n",
    "    for e in Y_data:\n",
    "        if e == 'passed':\n",
    "            Y_t.append(1)\n",
    "        else:\n",
    "            Y_t.append(0) \n",
    "    return Y_t"
   ]
  },
  {
   "cell_type": "code",
   "execution_count": 4,
   "id": "ddd87ce9",
   "metadata": {},
   "outputs": [],
   "source": [
    "def get_best_confidence(data):\n",
    "    \n",
    "    #typecasting\n",
    "    data['project_reqd_builds'] = pd.to_numeric(data['project_reqd_builds'], downcast=\"float\", errors='coerce')   \n",
    "    \n",
    "    #setting parameters\n",
    "    project_list = set(data['project'].tolist())\n",
    "    batching_alg = set(data['algorithm'].tolist())\n",
    "    \n",
    "    \n",
    "    #result file\n",
    "    result_file = open('dynamic_best_confidence.csv', 'w')\n",
    "    res_headers = ['project', 'method', 'algorithm', 'batch_size', 'builds_saved', 'testall_size', 'confidence']\n",
    "    res_writer = csv.writer(result_file)\n",
    "    res_writer.writerow(res_headers)\n",
    "    \n",
    "    \n",
    "    #get best confidences\n",
    "\n",
    "    for p in project_list:\n",
    "        \n",
    "        p_name = p.split('/')[1]\n",
    "        alg_scores = {}\n",
    "        p_data = data[data['project'] == p]\n",
    "        \n",
    "        y_test = pd.read_csv('../data/25_1_travis_data/' + p)['tr_status'].tolist()\n",
    "        y_test = output_values(y_test)\n",
    "        \n",
    "        for alg in batching_alg:\n",
    "\n",
    "            alg_data = p_data[p_data['algorithm'] == alg]\n",
    "            \n",
    "\n",
    "                \n",
    "            total = alg_data['testall_size'].tolist()[0]\n",
    "            reqd_list = alg_data['project_reqd_builds'].tolist()\n",
    "\n",
    "            min_distance = sys.maxsize\n",
    "\n",
    "            best = [p_name, 'ssr', alg, -1, 0, 0, 0]\n",
    "            best_i = 0\n",
    "\n",
    "            for i in range(len(reqd_list)):\n",
    "                distance = reqd_list[i]\n",
    "                if distance < min_distance:\n",
    "                    best[4] = 100-reqd_list[i]\n",
    "                    best[5] = total\n",
    "                    best[6] = i+2\n",
    "                    best_i = i\n",
    "                    min_distance = distance\n",
    "\n",
    "            res_writer.writerow(best)\n",
    "    "
   ]
  },
  {
   "cell_type": "code",
   "execution_count": 5,
   "id": "afed1c51",
   "metadata": {},
   "outputs": [],
   "source": [
    "data = pd.read_csv('all_combined_results.csv')"
   ]
  },
  {
   "cell_type": "code",
   "execution_count": 6,
   "id": "929a90fa",
   "metadata": {},
   "outputs": [
    {
     "data": {
      "text/plain": [
       "3021"
      ]
     },
     "execution_count": 6,
     "metadata": {},
     "output_type": "execute_result"
    }
   ],
   "source": [
    "len(data)"
   ]
  },
  {
   "cell_type": "code",
   "execution_count": 7,
   "id": "58071974",
   "metadata": {},
   "outputs": [],
   "source": [
    "data = data[data['project'] != 'BuildCraft-BuildCraft/BuildCraft-BuildCraft.csv']\n",
    "data = data[data['project'] != 'RS485-LogisticsPipes/RS485-LogisticsPipes.csv']\n",
    "data = data[data['project'] != 'datastax-java-driver/datastax-java-driver.csv']"
   ]
  },
  {
   "cell_type": "code",
   "execution_count": 8,
   "id": "ada62801",
   "metadata": {},
   "outputs": [
    {
     "data": {
      "text/plain": [
       "2850"
      ]
     },
     "execution_count": 8,
     "metadata": {},
     "output_type": "execute_result"
    }
   ],
   "source": [
    "len(data)"
   ]
  },
  {
   "cell_type": "code",
   "execution_count": 9,
   "id": "2e051807",
   "metadata": {},
   "outputs": [
    {
     "name": "stderr",
     "output_type": "stream",
     "text": [
      "/var/folders/09/2vzp5xpd2ldd4ggk4xzjt1qr0000gn/T/ipykernel_16840/3253220054.py:1: DtypeWarning: Columns (60) have mixed types.Specify dtype option on import or set low_memory=False.\n",
      "  get_best_confidence(data)\n",
      "/var/folders/09/2vzp5xpd2ldd4ggk4xzjt1qr0000gn/T/ipykernel_16840/3253220054.py:1: DtypeWarning: Columns (4,7,19) have mixed types.Specify dtype option on import or set low_memory=False.\n",
      "  get_best_confidence(data)\n",
      "/var/folders/09/2vzp5xpd2ldd4ggk4xzjt1qr0000gn/T/ipykernel_16840/3253220054.py:1: DtypeWarning: Columns (4,7,19,50,52,60) have mixed types.Specify dtype option on import or set low_memory=False.\n",
      "  get_best_confidence(data)\n"
     ]
    }
   ],
   "source": [
    "get_best_confidence(data)"
   ]
  },
  {
   "cell_type": "code",
   "execution_count": null,
   "id": "06289ed3",
   "metadata": {},
   "outputs": [],
   "source": []
  },
  {
   "cell_type": "code",
   "execution_count": null,
   "id": "27c5f543",
   "metadata": {},
   "outputs": [],
   "source": []
  },
  {
   "cell_type": "code",
   "execution_count": null,
   "id": "66f8c95a",
   "metadata": {},
   "outputs": [],
   "source": []
  },
  {
   "cell_type": "code",
   "execution_count": null,
   "id": "cfe5ce82",
   "metadata": {},
   "outputs": [],
   "source": []
  },
  {
   "cell_type": "code",
   "execution_count": null,
   "id": "75122878",
   "metadata": {},
   "outputs": [],
   "source": []
  },
  {
   "cell_type": "code",
   "execution_count": null,
   "id": "3fbc2281",
   "metadata": {},
   "outputs": [],
   "source": []
  },
  {
   "cell_type": "code",
   "execution_count": null,
   "id": "f82c4862",
   "metadata": {},
   "outputs": [],
   "source": []
  },
  {
   "cell_type": "code",
   "execution_count": null,
   "id": "3f0a9efc",
   "metadata": {},
   "outputs": [],
   "source": []
  },
  {
   "cell_type": "code",
   "execution_count": null,
   "id": "5aa4a0b7",
   "metadata": {},
   "outputs": [],
   "source": []
  },
  {
   "cell_type": "code",
   "execution_count": null,
   "id": "b24eebbe",
   "metadata": {},
   "outputs": [],
   "source": [
    "# result_file = open('sbs_delay_lists.csv', 'w')\n",
    "# res_headers = ['project', 'method', 'algorithm', 'batch_size', 'median_sbs_delays', 'median_batch_delays', 'confidence']\n",
    "# res_writer = csv.writer(result_file)\n",
    "# res_writer.writerow(res_headers)"
   ]
  },
  {
   "cell_type": "code",
   "execution_count": null,
   "id": "392b6b44",
   "metadata": {},
   "outputs": [],
   "source": [
    "# lines = []"
   ]
  },
  {
   "cell_type": "code",
   "execution_count": null,
   "id": "527bec72",
   "metadata": {},
   "outputs": [],
   "source": [
    "# for p in project_list:\n",
    "#     p_name = p + '.csv'\n",
    "#     alg_scores = {}\n",
    "\n",
    "#     p_data = data[data['project'] == p]\n",
    "#     #print(p_data)\n",
    "#     for alg in batching_alg:\n",
    "\n",
    "#         alg_data = p_data[p_data['algorithm'] == alg]\n",
    "#         #print(alg_data)\n",
    "\n",
    "#         for b in batchsizes:\n",
    "\n",
    "#             if alg == 'BATCH4':\n",
    "#                 if b != 4:\n",
    "#                     continue\n",
    "\n",
    "#             if alg == 'BATCHSTOP4':\n",
    "#                 if b < 4:\n",
    "#                     continue\n",
    "\n",
    "#             batch_data = alg_data[ alg_data['batch_size'] == b]\n",
    "\n",
    "#             reqd_list = batch_data['project_reqd_builds'].tolist()\n",
    "#             delay_list = batch_data['total_sbs_delay'].tolist()\n",
    "#             batch_delay_list = batch_data['total_batch_delay'].tolist()\n",
    "#             ssr_delays = batch_data['project_delays'].tolist()\n",
    "#             min_distance = sys.maxsize\n",
    "\n",
    "#             best = [p_name, 'ssr', alg, b, 0, 0]\n",
    "#             best_i = 0\n",
    "\n",
    "#             for i in range(len(reqd_list)):\n",
    "#                 distance = ((reqd_list[i]**2)+((delay_list[i]+batch_delay_list[i])**2))**0.5\n",
    "#                 if distance < min_distance:\n",
    "#                     best[4] = ssr_delays[i]\n",
    "#                     #best[5] = median(ssr_delays[i])\n",
    "#                     best[5] = i+2\n",
    "#                     best_i = i\n",
    "#                     min_distance = distance\n",
    "\n",
    "#             lines.append(best)\n",
    "#             if alg == 'BATCH4':\n",
    "#                 print(best)"
   ]
  },
  {
   "cell_type": "code",
   "execution_count": null,
   "id": "44e18320",
   "metadata": {},
   "outputs": [],
   "source": [
    "# ssr_delay = pd.DataFrame(lines, columns=['project', 'method', 'algorithm', 'batch_size', 'sbs_delays', 'confidence'])"
   ]
  },
  {
   "cell_type": "code",
   "execution_count": null,
   "id": "f91c2520",
   "metadata": {},
   "outputs": [],
   "source": [
    "# ssr_delay.to_csv('sbs_delay_list.csv')"
   ]
  },
  {
   "cell_type": "code",
   "execution_count": null,
   "id": "b6ee3926",
   "metadata": {},
   "outputs": [],
   "source": []
  }
 ],
 "metadata": {
  "kernelspec": {
   "display_name": "Python 3 (ipykernel)",
   "language": "python",
   "name": "python3"
  },
  "language_info": {
   "codemirror_mode": {
    "name": "ipython",
    "version": 3
   },
   "file_extension": ".py",
   "mimetype": "text/x-python",
   "name": "python",
   "nbconvert_exporter": "python",
   "pygments_lexer": "ipython3",
   "version": "3.9.7"
  }
 },
 "nbformat": 4,
 "nbformat_minor": 5
}
