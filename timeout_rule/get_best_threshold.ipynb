{
 "cells": [
  {
   "cell_type": "code",
   "execution_count": 2,
   "id": "93e81a8c",
   "metadata": {},
   "outputs": [],
   "source": [
    "import pandas as pd\n",
    "import sys\n",
    "import csv\n",
    "from statistics import median"
   ]
  },
  {
   "cell_type": "code",
   "execution_count": 3,
   "id": "c4f55fd5",
   "metadata": {},
   "outputs": [],
   "source": [
    "project_ytest_lib = {}"
   ]
  },
  {
   "cell_type": "code",
   "execution_count": 4,
   "id": "00797ca3",
   "metadata": {},
   "outputs": [],
   "source": [
    "def output_values(Y_data):\n",
    "    Y_t = []\n",
    "    for e in Y_data:\n",
    "        if e == 'passed':\n",
    "            Y_t.append(1)\n",
    "        else:\n",
    "            Y_t.append(0) \n",
    "    return Y_t"
   ]
  },
  {
   "cell_type": "code",
   "execution_count": 19,
   "id": "ddd87ce9",
   "metadata": {},
   "outputs": [],
   "source": [
    "def get_best_confidence(data):\n",
    "    \n",
    "    #typecasting\n",
    "    data['project_reqd_builds'] = pd.to_numeric(data['project_reqd_builds'], downcast=\"float\", errors='coerce')   \n",
    "    \n",
    "    #setting parameters\n",
    "    project_list = set(data['project'].tolist())\n",
    "    batching_alg = set(data['algorithm'].tolist())\n",
    "    batchsizes = [1,2,4,8,16]\n",
    "    \n",
    "    #result file\n",
    "    result_file = open('best_confidence.csv', 'w')\n",
    "    res_headers = ['project', 'method', 'algorithm', 'batch_size', 'builds_saved', 'testall_size', 'confidence']\n",
    "    res_writer = csv.writer(result_file)\n",
    "    res_writer.writerow(res_headers)\n",
    "    \n",
    "    \n",
    "    #get best confidences\n",
    "\n",
    "    for p in project_list:\n",
    "        \n",
    "        p_name = p.split('/')[1]\n",
    "        alg_scores = {}\n",
    "        p_data = data[data['project'] == p]\n",
    "        \n",
    "        y_test = pd.read_csv('../data/25_1_travis_data/' + p)['tr_status'].tolist()\n",
    "        y_test = output_values(y_test)\n",
    "        \n",
    "        for alg in batching_alg:\n",
    "\n",
    "            alg_data = p_data[p_data['algorithm'] == alg]\n",
    "\n",
    "            for b in batchsizes:\n",
    "\n",
    "                if alg == 'BATCH4':\n",
    "                    if b != 4:\n",
    "                        continue\n",
    "\n",
    "                if alg == 'BATCHSTOP4':\n",
    "                    if b < 4:\n",
    "                        continue\n",
    "                        \n",
    "\n",
    "                batch_data = alg_data[ alg_data['batch_size'] == b]\n",
    "                \n",
    "                total = batch_data['testall_size'].tolist()[0]\n",
    "                reqd_list = batch_data['project_reqd_builds'].tolist()\n",
    "                \n",
    "                min_distance = sys.maxsize\n",
    "\n",
    "                best = [p_name, 'ssr', alg, b, 0, 0, 0]\n",
    "                best_i = 0\n",
    "\n",
    "                for i in range(len(reqd_list)):\n",
    "                    distance = reqd_list[i]\n",
    "                    if distance < min_distance:\n",
    "                        best[4] = 100-reqd_list[i]\n",
    "                        best[5] = total\n",
    "                        best[6] = i+2\n",
    "                        best_i = i\n",
    "                        min_distance = distance\n",
    "\n",
    "                res_writer.writerow(best)\n",
    "    "
   ]
  },
  {
   "cell_type": "code",
   "execution_count": 20,
   "id": "afed1c51",
   "metadata": {},
   "outputs": [],
   "source": [
    "data = pd.read_csv('combined_results.csv')"
   ]
  },
  {
   "cell_type": "code",
   "execution_count": 21,
   "id": "2e051807",
   "metadata": {},
   "outputs": [],
   "source": [
    "get_best_confidence(data)"
   ]
  },
  {
   "cell_type": "code",
   "execution_count": 21,
   "id": "06289ed3",
   "metadata": {},
   "outputs": [],
   "source": []
  },
  {
   "cell_type": "code",
   "execution_count": 22,
   "id": "27c5f543",
   "metadata": {},
   "outputs": [
    {
     "data": {
      "text/plain": [
       "92"
      ]
     },
     "execution_count": 22,
     "metadata": {},
     "output_type": "execute_result"
    }
   ],
   "source": []
  },
  {
   "cell_type": "code",
   "execution_count": 23,
   "id": "66f8c95a",
   "metadata": {},
   "outputs": [],
   "source": []
  },
  {
   "cell_type": "code",
   "execution_count": null,
   "id": "cfe5ce82",
   "metadata": {},
   "outputs": [],
   "source": []
  },
  {
   "cell_type": "code",
   "execution_count": null,
   "id": "75122878",
   "metadata": {},
   "outputs": [],
   "source": []
  },
  {
   "cell_type": "code",
   "execution_count": null,
   "id": "3fbc2281",
   "metadata": {},
   "outputs": [],
   "source": []
  },
  {
   "cell_type": "code",
   "execution_count": null,
   "id": "f82c4862",
   "metadata": {},
   "outputs": [],
   "source": []
  },
  {
   "cell_type": "code",
   "execution_count": null,
   "id": "3f0a9efc",
   "metadata": {},
   "outputs": [],
   "source": []
  },
  {
   "cell_type": "code",
   "execution_count": null,
   "id": "5aa4a0b7",
   "metadata": {},
   "outputs": [],
   "source": []
  },
  {
   "cell_type": "code",
   "execution_count": 24,
   "id": "b24eebbe",
   "metadata": {},
   "outputs": [
    {
     "data": {
      "text/plain": [
       "86"
      ]
     },
     "execution_count": 24,
     "metadata": {},
     "output_type": "execute_result"
    }
   ],
   "source": [
    "result_file = open('sbs_delay_lists.csv', 'w')\n",
    "res_headers = ['project', 'method', 'algorithm', 'batch_size', 'median_sbs_delays', 'median_batch_delays', 'confidence']\n",
    "res_writer = csv.writer(result_file)\n",
    "res_writer.writerow(res_headers)"
   ]
  },
  {
   "cell_type": "code",
   "execution_count": 25,
   "id": "392b6b44",
   "metadata": {},
   "outputs": [],
   "source": [
    "lines = []"
   ]
  },
  {
   "cell_type": "code",
   "execution_count": 26,
   "id": "527bec72",
   "metadata": {},
   "outputs": [
    {
     "name": "stdout",
     "output_type": "stream",
     "text": [
      "['cloudify.csv', 'ssr', 'BATCH4', 4, '[]', 189]\n"
     ]
    }
   ],
   "source": [
    "for p in project_list:\n",
    "    p_name = p + '.csv'\n",
    "    alg_scores = {}\n",
    "\n",
    "    p_data = data[data['project'] == p]\n",
    "    #print(p_data)\n",
    "    for alg in batching_alg:\n",
    "\n",
    "        alg_data = p_data[p_data['algorithm'] == alg]\n",
    "        #print(alg_data)\n",
    "\n",
    "        for b in batchsizes:\n",
    "\n",
    "            if alg == 'BATCH4':\n",
    "                if b != 4:\n",
    "                    continue\n",
    "\n",
    "            if alg == 'BATCHSTOP4':\n",
    "                if b < 4:\n",
    "                    continue\n",
    "\n",
    "            batch_data = alg_data[ alg_data['batch_size'] == b]\n",
    "\n",
    "            reqd_list = batch_data['project_reqd_builds'].tolist()\n",
    "            delay_list = batch_data['total_sbs_delay'].tolist()\n",
    "            batch_delay_list = batch_data['total_batch_delay'].tolist()\n",
    "            ssr_delays = batch_data['project_delays'].tolist()\n",
    "            min_distance = sys.maxsize\n",
    "\n",
    "            best = [p_name, 'ssr', alg, b, 0, 0]\n",
    "            best_i = 0\n",
    "\n",
    "            for i in range(len(reqd_list)):\n",
    "                distance = ((reqd_list[i]**2)+((delay_list[i]+batch_delay_list[i])**2))**0.5\n",
    "                if distance < min_distance:\n",
    "                    best[4] = ssr_delays[i]\n",
    "                    #best[5] = median(ssr_delays[i])\n",
    "                    best[5] = i+2\n",
    "                    best_i = i\n",
    "                    min_distance = distance\n",
    "\n",
    "            lines.append(best)\n",
    "            if alg == 'BATCH4':\n",
    "                print(best)"
   ]
  },
  {
   "cell_type": "code",
   "execution_count": 27,
   "id": "44e18320",
   "metadata": {},
   "outputs": [],
   "source": [
    "ssr_delay = pd.DataFrame(lines, columns=['project', 'method', 'algorithm', 'batch_size', 'sbs_delays', 'confidence'])"
   ]
  },
  {
   "cell_type": "code",
   "execution_count": 28,
   "id": "f91c2520",
   "metadata": {},
   "outputs": [],
   "source": [
    "ssr_delay.to_csv('sbs_delay_list.csv')"
   ]
  },
  {
   "cell_type": "code",
   "execution_count": null,
   "id": "b6ee3926",
   "metadata": {},
   "outputs": [],
   "source": []
  }
 ],
 "metadata": {
  "kernelspec": {
   "display_name": "Python 3 (ipykernel)",
   "language": "python",
   "name": "python3"
  },
  "language_info": {
   "codemirror_mode": {
    "name": "ipython",
    "version": 3
   },
   "file_extension": ".py",
   "mimetype": "text/x-python",
   "name": "python",
   "nbconvert_exporter": "python",
   "pygments_lexer": "ipython3",
   "version": "3.9.7"
  }
 },
 "nbformat": 4,
 "nbformat_minor": 5
}
