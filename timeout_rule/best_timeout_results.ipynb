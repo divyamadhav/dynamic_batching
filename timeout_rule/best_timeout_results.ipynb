{
 "cells": [
  {
   "cell_type": "code",
   "execution_count": 1,
   "id": "8f5bce93",
   "metadata": {},
   "outputs": [],
   "source": [
    "import pandas as pd\n",
    "from statistics import median, mean"
   ]
  },
  {
   "cell_type": "code",
   "execution_count": 4,
   "id": "b0ee1e65",
   "metadata": {},
   "outputs": [],
   "source": [
    "import sys\n",
    "sys.path.append('..')\n",
    "from projects import project_list"
   ]
  },
  {
   "cell_type": "code",
   "execution_count": 35,
   "id": "dce59c95",
   "metadata": {},
   "outputs": [],
   "source": [
    "data = pd.read_csv('best_confidence.csv')\n",
    "data = data[data['batch_size'] != 1]\n",
    "batch_bisect = data[ data['algorithm'] == 'BATCHBISECT']\n",
    "\n",
    "completed = set(batch_bisect['project'].tolist())"
   ]
  },
  {
   "cell_type": "code",
   "execution_count": 36,
   "id": "988192e8",
   "metadata": {},
   "outputs": [],
   "source": [
    "final = []"
   ]
  },
  {
   "cell_type": "code",
   "execution_count": 37,
   "id": "4b4d3a44",
   "metadata": {},
   "outputs": [],
   "source": [
    "for p in project_list:\n",
    "    p_name = p.split('/')[1]\n",
    "    if p_name in completed:\n",
    "        p_data = batch_bisect[ batch_bisect['project'] == p_name]\n",
    "    else:\n",
    "        continue\n",
    "    \n",
    "    builds_list = p_data['builds_saved'].tolist()\n",
    "    batch_sizes = p_data['batch_size'].tolist()\n",
    "    \n",
    "    batch = batch_sizes[builds_list.index(max(builds_list))]\n",
    "    saved = max(builds_list)\n",
    "    final.append([p, 0, batch, saved])"
   ]
  },
  {
   "cell_type": "code",
   "execution_count": 38,
   "id": "38edaf12",
   "metadata": {},
   "outputs": [],
   "source": [
    "df = pd.DataFrame(final, columns =['project', 'ci_skip', 'batch_size', 'builds_saved'])"
   ]
  },
  {
   "cell_type": "code",
   "execution_count": 41,
   "id": "5a2177a4",
   "metadata": {},
   "outputs": [],
   "source": [
    "df.to_csv('bb_final_timeout_rule.csv')"
   ]
  },
  {
   "cell_type": "code",
   "execution_count": null,
   "id": "ec670fe1",
   "metadata": {},
   "outputs": [],
   "source": []
  }
 ],
 "metadata": {
  "kernelspec": {
   "display_name": "Python 3 (ipykernel)",
   "language": "python",
   "name": "python3"
  },
  "language_info": {
   "codemirror_mode": {
    "name": "ipython",
    "version": 3
   },
   "file_extension": ".py",
   "mimetype": "text/x-python",
   "name": "python",
   "nbconvert_exporter": "python",
   "pygments_lexer": "ipython3",
   "version": "3.9.7"
  }
 },
 "nbformat": 4,
 "nbformat_minor": 5
}
