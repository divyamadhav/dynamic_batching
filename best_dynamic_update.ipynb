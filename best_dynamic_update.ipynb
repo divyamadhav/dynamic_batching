{
 "cells": [
  {
   "cell_type": "code",
   "execution_count": 1,
   "id": "6ce7296d",
   "metadata": {},
   "outputs": [],
   "source": [
    "import pandas as pd\n",
    "from statistics import mean, median\n",
    "from projects import project_list\n",
    "from collections import Counter"
   ]
  },
  {
   "cell_type": "code",
   "execution_count": 2,
   "id": "cdb35578",
   "metadata": {},
   "outputs": [],
   "source": [
    "data = pd.read_csv('standard_dynamic_batching.csv')\n",
    "data = data[~(data['update_method'] == 'half_exp')]\n",
    "algorithms = ['BATCHBISECT', 'BATCHSTOP4', 'BATCHDIVIDE4']"
   ]
  },
  {
   "cell_type": "code",
   "execution_count": 3,
   "id": "87db4665",
   "metadata": {},
   "outputs": [],
   "source": [
    "df = pd.DataFrame()\n",
    "lines = []"
   ]
  },
  {
   "cell_type": "code",
   "execution_count": 4,
   "id": "2606da3d",
   "metadata": {},
   "outputs": [],
   "source": [
    "for p in project_list:\n",
    "    \n",
    "    pname = p.split('/')[1]\n",
    "    p_data = data[ data.project == pname]\n",
    "    if len(p_data) == 0:\n",
    "        continue\n",
    "    \n",
    "    for alg in algorithms:\n",
    "        alg_data = p_data[ p_data.algorithm == alg]\n",
    "        saves = alg_data['builds_saved'].tolist()\n",
    "        a = saves.index(max(saves))\n",
    "        \n",
    "        row = alg_data.iloc[a]\n",
    "        df = df.append(row)"
   ]
  },
  {
   "cell_type": "code",
   "execution_count": 5,
   "id": "ab74657f",
   "metadata": {},
   "outputs": [
    {
     "data": {
      "text/plain": [
       "{'exponential',\n",
       " 'linear',\n",
       " 'random_exponential',\n",
       " 'random_linear',\n",
       " 'random_random',\n",
       " 'stagger'}"
      ]
     },
     "execution_count": 5,
     "metadata": {},
     "output_type": "execute_result"
    }
   ],
   "source": [
    "set(df['update_method'].tolist())"
   ]
  },
  {
   "cell_type": "code",
   "execution_count": 6,
   "id": "dad14def",
   "metadata": {},
   "outputs": [],
   "source": [
    "df.to_csv('best_dynamic_batching.csv')"
   ]
  },
  {
   "cell_type": "code",
   "execution_count": 7,
   "id": "7ccbbed4",
   "metadata": {},
   "outputs": [
    {
     "data": {
      "text/plain": [
       "0.11333333333333333"
      ]
     },
     "execution_count": 7,
     "metadata": {},
     "output_type": "execute_result"
    }
   ],
   "source": [
    "17/150"
   ]
  },
  {
   "cell_type": "code",
   "execution_count": 8,
   "id": "ecfb7c67",
   "metadata": {},
   "outputs": [
    {
     "name": "stdout",
     "output_type": "stream",
     "text": [
      "BATCHBISECT\n",
      "Counter({'linear*1.0': 17, 'exponential*3.0': 8, 'stagger*2.0': 5, 'linear*2.0': 5, 'exponential*2.0': 3, 'random_linear*-1.0': 3, 'stagger*3.0': 3, 'linear*4.0': 2, 'random_random*-1.0': 2, 'random_exponential*-1.0': 1, 'linear*3.0': 1})\n",
      "\n",
      "BATCHSTOP4\n",
      "Counter({'linear*4.0': 13, 'linear*1.0': 11, 'linear*2.0': 11, 'exponential*3.0': 7, 'random_exponential*-1.0': 4, 'random_linear*-1.0': 3, 'stagger*3.0': 1})\n",
      "\n",
      "BATCHDIVIDE4\n",
      "Counter({'exponential*3.0': 34, 'linear*1.0': 11, 'random_linear*-1.0': 2, 'linear*2.0': 2, 'random_exponential*-1.0': 1})\n",
      "\n"
     ]
    }
   ],
   "source": [
    "for alg in algorithms:\n",
    "    alg_data = df[ df.algorithm == alg]\n",
    "    \n",
    "    best_methods = alg_data['update_method'].tolist()\n",
    "    best_factors = alg_data['factor'].tolist()\n",
    "    best_techniques = []\n",
    "    \n",
    "    for i in range(len(best_methods)):\n",
    "        best_techniques.append(best_methods[i]+'*'+str(best_factors[i]))\n",
    "    \n",
    "    print(alg)\n",
    "    print(Counter(best_techniques))\n",
    "    print()"
   ]
  },
  {
   "cell_type": "code",
   "execution_count": 5,
   "id": "ed05da07",
   "metadata": {},
   "outputs": [],
   "source": [
    "linear = 17+5+2+1+13+11+11+11+2\n",
    "exponential = 8+3+7+34\n",
    "stagger = 5+3+1\n",
    "random = 3+2+1+4+3+2+1"
   ]
  },
  {
   "cell_type": "code",
   "execution_count": 7,
   "id": "4ac177c4",
   "metadata": {},
   "outputs": [
    {
     "data": {
      "text/plain": [
       "(73, 52, 9, 16)"
      ]
     },
     "execution_count": 7,
     "metadata": {},
     "output_type": "execute_result"
    }
   ],
   "source": [
    "linear, exponential, stagger, random"
   ]
  },
  {
   "cell_type": "code",
   "execution_count": 8,
   "id": "a9ce4820",
   "metadata": {},
   "outputs": [
    {
     "data": {
      "text/plain": [
       "(0.4866666666666667, 0.3466666666666667, 0.06, 0.10666666666666667)"
      ]
     },
     "execution_count": 8,
     "metadata": {},
     "output_type": "execute_result"
    }
   ],
   "source": [
    "linear/150, exponential/150, stagger/150, random/150"
   ]
  },
  {
   "cell_type": "code",
   "execution_count": 9,
   "id": "27a43f06",
   "metadata": {},
   "outputs": [],
   "source": [
    "f1 = 17+11+11\n",
    "f2 = 5 + 5+ 3+11+2\n",
    "f3=8+3+1+7+1+34\n",
    "f4=2+13\n",
    "fr=3+2+1+4+3+2+1"
   ]
  },
  {
   "cell_type": "code",
   "execution_count": 10,
   "id": "7ddb414f",
   "metadata": {},
   "outputs": [
    {
     "data": {
      "text/plain": [
       "(39, 26, 54, 15, 16)"
      ]
     },
     "execution_count": 10,
     "metadata": {},
     "output_type": "execute_result"
    }
   ],
   "source": [
    "f1, f2, f3, f4, fr"
   ]
  },
  {
   "cell_type": "code",
   "execution_count": 4,
   "id": "462d1f13",
   "metadata": {},
   "outputs": [
    {
     "data": {
      "text/plain": [
       "(0.26, 0.17333333333333334, 0.36, 0.1, 0.10666666666666667)"
      ]
     },
     "execution_count": 4,
     "metadata": {},
     "output_type": "execute_result"
    }
   ],
   "source": [
    "f1/150, f2/150, f3/150, f4/150, fr/150"
   ]
  },
  {
   "cell_type": "code",
   "execution_count": 19,
   "id": "c60a68ac",
   "metadata": {},
   "outputs": [
    {
     "data": {
      "text/plain": [
       "73"
      ]
     },
     "execution_count": 19,
     "metadata": {},
     "output_type": "execute_result"
    }
   ],
   "source": [
    "linear"
   ]
  },
  {
   "cell_type": "code",
   "execution_count": 34,
   "id": "299ec4b5",
   "metadata": {},
   "outputs": [],
   "source": [
    "df = pd.read_csv('ci_skipped_dynamic_batching.csv')"
   ]
  },
  {
   "cell_type": "code",
   "execution_count": 35,
   "id": "60b78346",
   "metadata": {},
   "outputs": [],
   "source": [
    "projects = set(df['project'].tolist())"
   ]
  },
  {
   "cell_type": "code",
   "execution_count": 36,
   "id": "c8fdd4b9",
   "metadata": {},
   "outputs": [
    {
     "name": "stdout",
     "output_type": "stream",
     "text": [
      "BATCHSTOP4\n",
      "BATCHSTOP4\n",
      "BATCHSTOP4\n",
      "BATCHSTOP4\n",
      "BATCHSTOP4\n",
      "BATCHSTOP4\n",
      "BATCHSTOP4\n",
      "BATCHSTOP4\n",
      "BATCHSTOP4\n",
      "BATCHSTOP4\n",
      "BATCHSTOP4\n",
      "BATCHSTOP4\n",
      "BATCHSTOP4\n",
      "BATCHSTOP4\n",
      "BATCHSTOP4\n",
      "BATCHSTOP4\n",
      "BATCHSTOP4\n",
      "BATCHSTOP4\n",
      "BATCHSTOP4\n",
      "BATCHDIVIDE4\n",
      "BATCHSTOP4\n",
      "BATCHSTOP4\n",
      "BATCHSTOP4\n",
      "BATCHSTOP4\n",
      "BATCHSTOP4\n",
      "BATCHSTOP4\n",
      "BATCHSTOP4\n",
      "BATCHSTOP4\n",
      "BATCHSTOP4\n",
      "BATCHSTOP4\n",
      "BATCHSTOP4\n",
      "BATCHSTOP4\n",
      "BATCHSTOP4\n",
      "BATCHSTOP4\n",
      "BATCHSTOP4\n",
      "BATCHSTOP4\n",
      "BATCHSTOP4\n",
      "BATCHSTOP4\n",
      "BATCHDIVIDE4\n",
      "BATCHSTOP4\n",
      "BATCHSTOP4\n",
      "BATCHSTOP4\n",
      "BATCHSTOP4\n",
      "BATCHSTOP4\n",
      "BATCHSTOP4\n",
      "BATCHSTOP4\n",
      "BATCHSTOP4\n",
      "BATCHSTOP4\n",
      "BATCHSTOP4\n",
      "BATCHSTOP4\n"
     ]
    }
   ],
   "source": [
    "for p in projects:\n",
    "    p_data = df[ df.project == p]\n",
    "    builds = p_data['builds_saved'].tolist()\n",
    "    algs = p_data['algorithm'].tolist()\n",
    "    #print(p_data)\n",
    "    print(algs[builds.index(max(builds))])"
   ]
  },
  {
   "cell_type": "code",
   "execution_count": null,
   "id": "f82a493f",
   "metadata": {},
   "outputs": [],
   "source": []
  },
  {
   "cell_type": "code",
   "execution_count": null,
   "id": "684b6ff9",
   "metadata": {},
   "outputs": [],
   "source": []
  }
 ],
 "metadata": {
  "kernelspec": {
   "display_name": "Python 3 (ipykernel)",
   "language": "python",
   "name": "python3"
  },
  "language_info": {
   "codemirror_mode": {
    "name": "ipython",
    "version": 3
   },
   "file_extension": ".py",
   "mimetype": "text/x-python",
   "name": "python",
   "nbconvert_exporter": "python",
   "pygments_lexer": "ipython3",
   "version": "3.9.7"
  }
 },
 "nbformat": 4,
 "nbformat_minor": 5
}
