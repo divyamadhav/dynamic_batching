{
 "cells": [
  {
   "cell_type": "code",
   "execution_count": 15,
   "id": "be5c776e",
   "metadata": {},
   "outputs": [],
   "source": [
    "import pandas as pd\n",
    "import requests\n",
    "import json\n",
    "import time\n",
    "from git import Repo\n",
    "import re\n",
    "from pathlib import Path\n",
    "import git\n",
    "import sys\n",
    "import os\n",
    "sys.path.append(\"../\")\n",
    "from projects import project_list"
   ]
  },
  {
   "cell_type": "code",
   "execution_count": 21,
   "id": "1d29708c",
   "metadata": {},
   "outputs": [
    {
     "name": "stdout",
     "output_type": "stream",
     "text": [
      "16 open-keychain-open-keychain open/keychain-open-keychain\n",
      "17 yegor256-takes yegor256/takes\n",
      "18 keycloak-keycloak keycloak/keycloak\n",
      "19 RS485-LogisticsPipes RS485/LogisticsPipes\n",
      "20 rackerlabs-blueflood rackerlabs/blueflood\n",
      "21 xetorthio-jedis xetorthio/jedis\n",
      "22 orbeon-orbeon-forms orbeon/orbeon-forms\n",
      "23 linkedin-gobblin linkedin/gobblin\n",
      "24 JabRef-jabref JabRef/jabref\n",
      "25 datastax-java-driver datastax/java-driver\n",
      "26 jOOQ-jOOQ jOOQ/jOOQ\n",
      "27 structr-structr structr/structr\n",
      "28 floragunncom-search-guard floragunncom/search-guard\n",
      "29 SpongePowered-SpongeForge SpongePowered/SpongeForge\n",
      "30 sakaiproject-sakai sakaiproject/sakai\n",
      "31 dreamhead-moco dreamhead/moco\n",
      "32 nutzam-nutz nutzam/nutz\n",
      "33 CloudSlang-cloud-slang CloudSlang/cloud-slang\n",
      "34 geotools-geotools geotools/geotools\n",
      "35 CloudifySource-cloudify CloudifySource/cloudify\n",
      "36 SpongePowered-SpongeCommon SpongePowered/SpongeCommon\n",
      "37 apache-zeppelin apache/zeppelin\n",
      "38 typetools-checker-framework typetools/checker-framework\n",
      "39 geoserver-geoserver geoserver/geoserver\n",
      "40 ngageoint-geowave ngageoint/geowave\n",
      "41 sparklemotion-nokogiri sparklemotion/nokogiri\n",
      "42 Graylog2-graylog2-server Graylog2/graylog2-server\n",
      "43 cloudfoundry-uaa cloudfoundry/uaa\n",
      "44 apache-jackrabbit-oak apache/jackrabbit-oak\n",
      "45 apache-pdfbox apache/pdfbox\n",
      "46 apache-sling apache/sling\n",
      "47 SonarSource-sonar-java SonarSource/sonar-java\n",
      "48 killbill-killbill killbill/killbill\n",
      "49 checkstyle-checkstyle checkstyle/checkstyle\n"
     ]
    }
   ],
   "source": [
    "for p in project_list[16:]:\n",
    "    p_name = '/'.join(p.split('/')[0].split('-', 1))\n",
    "    repo_name = '-'.join(p_name.split('/'))\n",
    "    url = \"https://github.com/\" + p_name\n",
    "    \n",
    "    print(project_list.index(p), repo_name, p_name)\n",
    "    if repo_name == 'open-keychain-open-keychain':\n",
    "        url = \"https://github.com/open-keychain/open-keychain\"\n",
    "        \n",
    "    os.mkdir(repo_name)\n",
    "    Repo.clone_from(url, repo_name)"
   ]
  },
  {
   "cell_type": "code",
   "execution_count": 23,
   "id": "c8713693",
   "metadata": {},
   "outputs": [
    {
     "name": "stdout",
     "output_type": "stream",
     "text": [
      "0 BuildCraft-BuildCraft/BuildCraft-BuildCraft.csv\n",
      "1 apache-tajo/apache-tajo.csv\n",
      "2 osmdroid-osmdroid/osmdroid-osmdroid.csv\n",
      "3 DSpace-DSpace/DSpace-DSpace.csv\n",
      "4 apache-nifi/apache-nifi.csv\n",
      "5 caelum-vraptor4/caelum-vraptor4.csv\n",
      "6 grails-grails-core/grails-grails-core.csv\n",
      "7 square-wire/square-wire.csv\n",
      "8 puniverse-quasar/puniverse-quasar.csv\n",
      "9 dropwizard-dropwizard/dropwizard-dropwizard.csv\n",
      "10 essentials-Essentials/essentials-Essentials.csv\n",
      "11 mybatis-mybatis-3/mybatis-mybatis-3.csv\n",
      "12 naver-pinpoint/naver-pinpoint.csv\n",
      "13 FasterXML-jackson-databind/FasterXML-jackson-databind.csv\n",
      "14 samtools-htsjdk/samtools-htsjdk.csv\n",
      "15 deeplearning4j-deeplearning4j/deeplearning4j-deeplearning4j.csv\n",
      "16 open-keychain-open-keychain/open-keychain-open-keychain.csv\n",
      "17 yegor256-takes/yegor256-takes.csv\n",
      "18 keycloak-keycloak/keycloak-keycloak.csv\n",
      "19 RS485-LogisticsPipes/RS485-LogisticsPipes.csv\n",
      "20 rackerlabs-blueflood/rackerlabs-blueflood.csv\n",
      "21 xetorthio-jedis/xetorthio-jedis.csv\n",
      "22 orbeon-orbeon-forms/orbeon-orbeon-forms.csv\n",
      "23 linkedin-gobblin/linkedin-gobblin.csv\n",
      "24 JabRef-jabref/JabRef-jabref.csv\n",
      "25 datastax-java-driver/datastax-java-driver.csv\n",
      "26 jOOQ-jOOQ/jOOQ-jOOQ.csv\n",
      "27 structr-structr/structr-structr.csv\n",
      "28 floragunncom-search-guard/floragunncom-search-guard.csv\n",
      "29 SpongePowered-SpongeForge/SpongePowered-SpongeForge.csv\n",
      "30 sakaiproject-sakai/sakaiproject-sakai.csv\n",
      "31 dreamhead-moco/dreamhead-moco.csv\n",
      "32 nutzam-nutz/nutzam-nutz.csv\n",
      "33 CloudSlang-cloud-slang/CloudSlang-cloud-slang.csv\n",
      "34 geotools-geotools/geotools-geotools.csv\n",
      "35 CloudifySource-cloudify/CloudifySource-cloudify.csv\n",
      "36 SpongePowered-SpongeCommon/SpongePowered-SpongeCommon.csv\n",
      "37 apache-zeppelin/apache-zeppelin.csv\n",
      "38 typetools-checker-framework/typetools-checker-framework.csv\n",
      "39 geoserver-geoserver/geoserver-geoserver.csv\n",
      "40 ngageoint-geowave/ngageoint-geowave.csv\n",
      "41 sparklemotion-nokogiri/sparklemotion-nokogiri.csv\n",
      "42 Graylog2-graylog2-server/Graylog2-graylog2-server.csv\n",
      "43 cloudfoundry-uaa/cloudfoundry-uaa.csv\n",
      "44 apache-jackrabbit-oak/apache-jackrabbit-oak.csv\n",
      "45 apache-pdfbox/apache-pdfbox.csv\n",
      "46 apache-sling/apache-sling.csv\n",
      "47 SonarSource-sonar-java/SonarSource-sonar-java.csv\n",
      "48 killbill-killbill/killbill-killbill.csv\n",
      "49 checkstyle-checkstyle/checkstyle-checkstyle.csv\n"
     ]
    }
   ],
   "source": [
    "for p in project_list:\n",
    "    print(project_list.index(p), p)"
   ]
  },
  {
   "cell_type": "code",
   "execution_count": null,
   "id": "a9455d8a",
   "metadata": {},
   "outputs": [],
   "source": []
  }
 ],
 "metadata": {
  "kernelspec": {
   "display_name": "Python 3 (ipykernel)",
   "language": "python",
   "name": "python3"
  },
  "language_info": {
   "codemirror_mode": {
    "name": "ipython",
    "version": 3
   },
   "file_extension": ".py",
   "mimetype": "text/x-python",
   "name": "python",
   "nbconvert_exporter": "python",
   "pygments_lexer": "ipython3",
   "version": "3.9.7"
  }
 },
 "nbformat": 4,
 "nbformat_minor": 5
}
