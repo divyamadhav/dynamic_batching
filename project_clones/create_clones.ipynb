{
 "cells": [
  {
   "cell_type": "code",
   "execution_count": 7,
   "id": "be5c776e",
   "metadata": {},
   "outputs": [],
   "source": [
    "import pandas as pd\n",
    "import requests\n",
    "import json\n",
    "import time\n",
    "from git import Repo\n",
    "import re\n",
    "from pathlib import Path\n",
    "import git\n",
    "import sys\n",
    "import os\n",
    "sys.path.append(\"../\")\n",
    "from projects import project_list"
   ]
  },
  {
   "cell_type": "code",
   "execution_count": 8,
   "id": "1d29708c",
   "metadata": {},
   "outputs": [
    {
     "name": "stdout",
     "output_type": "stream",
     "text": [
      "0 junit-team-junit5 junit/team-junit5\n",
      "1 ratpack-ratpack ratpack/ratpack\n",
      "2 p6spy-p6spy p6spy/p6spy\n"
     ]
    }
   ],
   "source": [
    "for p in project_list[:3]:\n",
    "    p_name = '/'.join(p.split('/')[0].split('-', 1))\n",
    "    repo_name = '-'.join(p_name.split('/'))\n",
    "    url = \"https://github.com/\" + p_name\n",
    "    \n",
    "    print(project_list.index(p), repo_name, p_name)\n",
    "    if repo_name == 'junit-team-junit5':\n",
    "        url = \"https://github.com/junit-team/junit5\"\n",
    "        \n",
    "    os.mkdir(repo_name)\n",
    "    Repo.clone_from(url, repo_name)"
   ]
  },
  {
   "cell_type": "code",
   "execution_count": 9,
   "id": "c8713693",
   "metadata": {},
   "outputs": [
    {
     "name": "stdout",
     "output_type": "stream",
     "text": [
      "0 junit-team-junit5/junit-team-junit5.csv\n",
      "1 ratpack-ratpack/ratpack-ratpack.csv\n",
      "2 p6spy-p6spy/p6spy-p6spy.csv\n",
      "3 BuildCraft-BuildCraft/BuildCraft-BuildCraft.csv\n",
      "4 apache-tajo/apache-tajo.csv\n",
      "5 osmdroid-osmdroid/osmdroid-osmdroid.csv\n",
      "6 DSpace-DSpace/DSpace-DSpace.csv\n",
      "7 apache-nifi/apache-nifi.csv\n",
      "8 caelum-vraptor4/caelum-vraptor4.csv\n",
      "9 grails-grails-core/grails-grails-core.csv\n",
      "10 square-wire/square-wire.csv\n",
      "11 puniverse-quasar/puniverse-quasar.csv\n",
      "12 dropwizard-dropwizard/dropwizard-dropwizard.csv\n",
      "13 essentials-Essentials/essentials-Essentials.csv\n",
      "14 mybatis-mybatis-3/mybatis-mybatis-3.csv\n",
      "15 naver-pinpoint/naver-pinpoint.csv\n",
      "16 FasterXML-jackson-databind/FasterXML-jackson-databind.csv\n",
      "17 samtools-htsjdk/samtools-htsjdk.csv\n",
      "18 deeplearning4j-deeplearning4j/deeplearning4j-deeplearning4j.csv\n",
      "19 open-keychain-open-keychain/open-keychain-open-keychain.csv\n",
      "20 yegor256-takes/yegor256-takes.csv\n",
      "21 keycloak-keycloak/keycloak-keycloak.csv\n",
      "22 RS485-LogisticsPipes/RS485-LogisticsPipes.csv\n",
      "23 rackerlabs-blueflood/rackerlabs-blueflood.csv\n",
      "24 xetorthio-jedis/xetorthio-jedis.csv\n",
      "25 orbeon-orbeon-forms/orbeon-orbeon-forms.csv\n",
      "26 linkedin-gobblin/linkedin-gobblin.csv\n",
      "27 JabRef-jabref/JabRef-jabref.csv\n",
      "28 datastax-java-driver/datastax-java-driver.csv\n",
      "29 jOOQ-jOOQ/jOOQ-jOOQ.csv\n",
      "30 structr-structr/structr-structr.csv\n",
      "31 floragunncom-search-guard/floragunncom-search-guard.csv\n",
      "32 SpongePowered-SpongeForge/SpongePowered-SpongeForge.csv\n",
      "33 sakaiproject-sakai/sakaiproject-sakai.csv\n",
      "34 dreamhead-moco/dreamhead-moco.csv\n",
      "35 nutzam-nutz/nutzam-nutz.csv\n",
      "36 CloudSlang-cloud-slang/CloudSlang-cloud-slang.csv\n",
      "37 geotools-geotools/geotools-geotools.csv\n",
      "38 CloudifySource-cloudify/CloudifySource-cloudify.csv\n",
      "39 SpongePowered-SpongeCommon/SpongePowered-SpongeCommon.csv\n",
      "40 apache-zeppelin/apache-zeppelin.csv\n",
      "41 typetools-checker-framework/typetools-checker-framework.csv\n",
      "42 geoserver-geoserver/geoserver-geoserver.csv\n",
      "43 ngageoint-geowave/ngageoint-geowave.csv\n",
      "44 sparklemotion-nokogiri/sparklemotion-nokogiri.csv\n",
      "45 Graylog2-graylog2-server/Graylog2-graylog2-server.csv\n",
      "46 cloudfoundry-uaa/cloudfoundry-uaa.csv\n",
      "47 apache-jackrabbit-oak/apache-jackrabbit-oak.csv\n",
      "48 apache-pdfbox/apache-pdfbox.csv\n",
      "49 apache-sling/apache-sling.csv\n",
      "50 SonarSource-sonar-java/SonarSource-sonar-java.csv\n",
      "51 killbill-killbill/killbill-killbill.csv\n",
      "52 checkstyle-checkstyle/checkstyle-checkstyle.csv\n"
     ]
    }
   ],
   "source": [
    "for p in project_list:\n",
    "    print(project_list.index(p), p)"
   ]
  },
  {
   "cell_type": "code",
   "execution_count": null,
   "id": "a9455d8a",
   "metadata": {},
   "outputs": [],
   "source": []
  }
 ],
 "metadata": {
  "kernelspec": {
   "display_name": "Python 3 (ipykernel)",
   "language": "python",
   "name": "python3"
  },
  "language_info": {
   "codemirror_mode": {
    "name": "ipython",
    "version": 3
   },
   "file_extension": ".py",
   "mimetype": "text/x-python",
   "name": "python",
   "nbconvert_exporter": "python",
   "pygments_lexer": "ipython3",
   "version": "3.9.7"
  }
 },
 "nbformat": 4,
 "nbformat_minor": 5
}
