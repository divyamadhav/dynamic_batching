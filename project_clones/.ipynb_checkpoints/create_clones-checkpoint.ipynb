{
 "cells": [
  {
   "cell_type": "code",
   "execution_count": 15,
   "id": "be5c776e",
   "metadata": {},
   "outputs": [],
   "source": [
    "import pandas as pd\n",
    "import requests\n",
    "import json\n",
    "import time\n",
    "from git import Repo\n",
    "import re\n",
    "from pathlib import Path\n",
    "import git\n",
    "import sys\n",
    "import os\n",
    "sys.path.append(\"../\")\n",
    "from projects import project_list"
   ]
  },
  {
   "cell_type": "code",
   "execution_count": 21,
   "id": "1d29708c",
   "metadata": {},
   "outputs": [
    {
     "name": "stdout",
     "output_type": "stream",
     "text": [
      "16 open-keychain-open-keychain open/keychain-open-keychain\n",
      "17 yegor256-takes yegor256/takes\n",
      "18 keycloak-keycloak keycloak/keycloak\n",
      "19 RS485-LogisticsPipes RS485/LogisticsPipes\n",
      "20 rackerlabs-blueflood rackerlabs/blueflood\n",
      "21 xetorthio-jedis xetorthio/jedis\n",
      "22 orbeon-orbeon-forms orbeon/orbeon-forms\n",
      "23 linkedin-gobblin linkedin/gobblin\n",
      "24 JabRef-jabref JabRef/jabref\n",
      "25 datastax-java-driver datastax/java-driver\n",
      "26 jOOQ-jOOQ jOOQ/jOOQ\n",
      "27 structr-structr structr/structr\n",
      "28 floragunncom-search-guard floragunncom/search-guard\n",
      "29 SpongePowered-SpongeForge SpongePowered/SpongeForge\n",
      "30 sakaiproject-sakai sakaiproject/sakai\n",
      "31 dreamhead-moco dreamhead/moco\n",
      "32 nutzam-nutz nutzam/nutz\n",
      "33 CloudSlang-cloud-slang CloudSlang/cloud-slang\n",
      "34 geotools-geotools geotools/geotools\n",
      "35 CloudifySource-cloudify CloudifySource/cloudify\n",
      "36 SpongePowered-SpongeCommon SpongePowered/SpongeCommon\n",
      "37 apache-zeppelin apache/zeppelin\n",
      "38 typetools-checker-framework typetools/checker-framework\n",
      "39 geoserver-geoserver geoserver/geoserver\n",
      "40 ngageoint-geowave ngageoint/geowave\n",
      "41 sparklemotion-nokogiri sparklemotion/nokogiri\n",
      "42 Graylog2-graylog2-server Graylog2/graylog2-server\n",
      "43 cloudfoundry-uaa cloudfoundry/uaa\n",
      "44 apache-jackrabbit-oak apache/jackrabbit-oak\n",
      "45 apache-pdfbox apache/pdfbox\n",
      "46 apache-sling apache/sling\n",
      "47 SonarSource-sonar-java SonarSource/sonar-java\n",
      "48 killbill-killbill killbill/killbill\n",
      "49 checkstyle-checkstyle checkstyle/checkstyle\n"
     ]
    }
   ],
   "source": [
    "for p in project_list[16:]:\n",
    "    p_name = '/'.join(p.split('/')[0].split('-', 1))\n",
    "    repo_name = '-'.join(p_name.split('/'))\n",
    "    url = \"https://github.com/\" + p_name\n",
    "    \n",
    "    print(project_list.index(p), repo_name, p_name)\n",
    "    if repo_name == 'open-keychain-open-keychain':\n",
    "        url = \"https://github.com/open-keychain/open-keychain\"\n",
    "        \n",
    "    os.mkdir(repo_name)\n",
    "    Repo.clone_from(url, repo_name)"
   ]
  },
  {
   "cell_type": "code",
   "execution_count": null,
   "id": "c8713693",
   "metadata": {},
   "outputs": [],
   "source": []
  }
 ],
 "metadata": {
  "kernelspec": {
   "display_name": "Python 3 (ipykernel)",
   "language": "python",
   "name": "python3"
  },
  "language_info": {
   "codemirror_mode": {
    "name": "ipython",
    "version": 3
   },
   "file_extension": ".py",
   "mimetype": "text/x-python",
   "name": "python",
   "nbconvert_exporter": "python",
   "pygments_lexer": "ipython3",
   "version": "3.9.7"
  }
 },
 "nbformat": 4,
 "nbformat_minor": 5
}
