{
 "cells": [
  {
   "cell_type": "code",
   "execution_count": 21,
   "id": "70aa984d",
   "metadata": {},
   "outputs": [],
   "source": [
    "import pandas as pd\n",
    "from projects import project_list\n",
    "from batching_algs import *\n",
    "from collections import Counter\n",
    "import csv"
   ]
  },
  {
   "cell_type": "code",
   "execution_count": 22,
   "id": "ddb80982",
   "metadata": {},
   "outputs": [],
   "source": [
    "algorithms = {'BATCHBISECT':batchbisect, 'BATCHSTOP4':batchstop4, 'BATCHDIVIDE4':batchdivide4}"
   ]
  },
  {
   "cell_type": "code",
   "execution_count": 23,
   "id": "7eb4d6bb",
   "metadata": {},
   "outputs": [
    {
     "data": {
      "text/plain": [
       "91"
      ]
     },
     "execution_count": 23,
     "metadata": {},
     "output_type": "execute_result"
    }
   ],
   "source": [
    "r_file_name = 'mfu.csv'\n",
    "result_file = open(r_file_name, 'w')\n",
    "result_headers = ['project', 'algorithm', 'batch_size', 'update_method', 'factor', 'num_of_builds', 'builds_saved', 'testall_size']\n",
    "writer = csv.writer(result_file)\n",
    "writer.writerow(result_headers)"
   ]
  },
  {
   "cell_type": "code",
   "execution_count": 24,
   "id": "246fc4ec",
   "metadata": {},
   "outputs": [],
   "source": [
    "def output_values(tr_results):\n",
    "    l = []\n",
    "    i = 0\n",
    "    while i < len(tr_results):\n",
    "        if tr_results[i] == 'passed':\n",
    "            l.append(1)\n",
    "        else:\n",
    "            l.append(0)\n",
    "        i += 1\n",
    "    \n",
    "    return l"
   ]
  },
  {
   "cell_type": "code",
   "execution_count": 25,
   "id": "3481df41",
   "metadata": {},
   "outputs": [],
   "source": [
    "def mfu(results, factor, algorithm):\n",
    "    \n",
    "    max_batch_size = 16\n",
    "    min_batch_size = 1\n",
    "    batch_sizes = []\n",
    "    \n",
    "    i = 0\n",
    "    builds = 0\n",
    "    length = len(results)\n",
    "    \n",
    "    cur_batch_size = max_batch_size\n",
    "    \n",
    "    while i < length:\n",
    "        \n",
    "        batch = results[i:i+cur_batch_size]\n",
    "        i = i+cur_batch_size\n",
    "        batch_sizes.append(cur_batch_size)\n",
    "        \n",
    "        batch_total = algorithm(batch)\n",
    "        builds += batch_total\n",
    "        \n",
    "        if 0 in batch:\n",
    "            res = 0\n",
    "        else:\n",
    "            res = 1\n",
    "        \n",
    "        fails_per = 100*batch.count(0)/len(batch)\n",
    "        #print(cur_batch_size, batch, batch_total, fails_per)\n",
    "        \n",
    "        if res == 0:\n",
    "        \n",
    "            if cur_batch_size <= factor:\n",
    "                cur_batch_size = min_batch_size\n",
    "\n",
    "            elif fails_per < 20:\n",
    "                cur_batch_size -= factor\n",
    "\n",
    "            elif fails_per < 50:\n",
    "                cur_batch_size //= factor\n",
    "\n",
    "            else:\n",
    "                cur_batch_size = Counter(batch_sizes).most_common(1)[0][0]\n",
    "        \n",
    "        else:\n",
    "            \n",
    "            if cur_batch_size >= 16:\n",
    "                cur_batch_size = max_batch_size\n",
    "            else:\n",
    "                cur_batch_size = min(cur_batch_size * factor, 16)\n",
    "        \n",
    "    \n",
    "    builds_saved = 100-(100*builds/length)\n",
    "    return builds, builds_saved"
   ]
  },
  {
   "cell_type": "code",
   "execution_count": 26,
   "id": "7da27d28",
   "metadata": {},
   "outputs": [
    {
     "name": "stdout",
     "output_type": "stream",
     "text": [
      "junit-team-junit5/junit-team-junit5.csv\n",
      "ratpack-ratpack/ratpack-ratpack.csv\n",
      "p6spy-p6spy/p6spy-p6spy.csv\n",
      "BuildCraft-BuildCraft/BuildCraft-BuildCraft.csv\n",
      "apache-tajo/apache-tajo.csv\n",
      "osmdroid-osmdroid/osmdroid-osmdroid.csv\n",
      "DSpace-DSpace/DSpace-DSpace.csv\n",
      "apache-nifi/apache-nifi.csv\n",
      "caelum-vraptor4/caelum-vraptor4.csv\n",
      "grails-grails-core/grails-grails-core.csv\n",
      "square-wire/square-wire.csv\n",
      "puniverse-quasar/puniverse-quasar.csv\n",
      "dropwizard-dropwizard/dropwizard-dropwizard.csv\n",
      "essentials-Essentials/essentials-Essentials.csv\n",
      "mybatis-mybatis-3/mybatis-mybatis-3.csv\n",
      "naver-pinpoint/naver-pinpoint.csv\n",
      "FasterXML-jackson-databind/FasterXML-jackson-databind.csv\n",
      "samtools-htsjdk/samtools-htsjdk.csv\n",
      "deeplearning4j-deeplearning4j/deeplearning4j-deeplearning4j.csv\n",
      "open-keychain-open-keychain/open-keychain-open-keychain.csv\n",
      "yegor256-takes/yegor256-takes.csv\n",
      "keycloak-keycloak/keycloak-keycloak.csv\n",
      "RS485-LogisticsPipes/RS485-LogisticsPipes.csv\n",
      "rackerlabs-blueflood/rackerlabs-blueflood.csv\n",
      "xetorthio-jedis/xetorthio-jedis.csv\n",
      "orbeon-orbeon-forms/orbeon-orbeon-forms.csv\n",
      "linkedin-gobblin/linkedin-gobblin.csv\n",
      "JabRef-jabref/JabRef-jabref.csv\n",
      "datastax-java-driver/datastax-java-driver.csv\n",
      "jOOQ-jOOQ/jOOQ-jOOQ.csv\n",
      "structr-structr/structr-structr.csv\n",
      "floragunncom-search-guard/floragunncom-search-guard.csv\n",
      "SpongePowered-SpongeForge/SpongePowered-SpongeForge.csv\n",
      "sakaiproject-sakai/sakaiproject-sakai.csv\n",
      "dreamhead-moco/dreamhead-moco.csv\n",
      "nutzam-nutz/nutzam-nutz.csv\n",
      "CloudSlang-cloud-slang/CloudSlang-cloud-slang.csv\n",
      "geotools-geotools/geotools-geotools.csv\n",
      "CloudifySource-cloudify/CloudifySource-cloudify.csv\n",
      "SpongePowered-SpongeCommon/SpongePowered-SpongeCommon.csv\n",
      "apache-zeppelin/apache-zeppelin.csv\n",
      "typetools-checker-framework/typetools-checker-framework.csv\n",
      "geoserver-geoserver/geoserver-geoserver.csv\n",
      "ngageoint-geowave/ngageoint-geowave.csv\n",
      "sparklemotion-nokogiri/sparklemotion-nokogiri.csv\n",
      "Graylog2-graylog2-server/Graylog2-graylog2-server.csv\n",
      "cloudfoundry-uaa/cloudfoundry-uaa.csv\n",
      "apache-jackrabbit-oak/apache-jackrabbit-oak.csv\n",
      "apache-pdfbox/apache-pdfbox.csv\n",
      "apache-sling/apache-sling.csv\n",
      "SonarSource-sonar-java/SonarSource-sonar-java.csv\n",
      "killbill-killbill/killbill-killbill.csv\n",
      "checkstyle-checkstyle/checkstyle-checkstyle.csv\n"
     ]
    }
   ],
   "source": [
    "for p in project_list:\n",
    "    print(p)\n",
    "    pname = p.split('/')[1]\n",
    "    \n",
    "    try:\n",
    "        data = pd.read_csv('ci_skip_data/extracted_project_travis/' + pname)\n",
    "    except:\n",
    "        continue\n",
    "    \n",
    "    branch_type = data['git_branch'].tolist()\n",
    "    if 'master' in branch_type:\n",
    "        data = data[ data['git_branch'] == 'master']\n",
    "    else:\n",
    "        data = data[ data['git_branch'] == 'trunk']\n",
    "    \n",
    "    data = data[ data.verdict == 0]\n",
    "    data = data.iloc[100:]\n",
    "    \n",
    "    if len(data) == 0:\n",
    "        continue\n",
    "    \n",
    "    results = output_values(data['tr_status'].tolist())\n",
    "    \n",
    "    for alg in algorithms:\n",
    "        builds, saved = mfu(results, 2, algorithms[alg])\n",
    "        writer.writerow([pname, str(alg), '-1', 'stagger_mfu', 2, builds, saved, len(results)])\n",
    "        builds, saved = mfu(results, 3, algorithms[alg])\n",
    "        writer.writerow([pname, str(alg), '-1', 'stagger_mfu', 2, builds, saved, len(results)])\n",
    "    "
   ]
  },
  {
   "cell_type": "code",
   "execution_count": null,
   "id": "d334eefe",
   "metadata": {},
   "outputs": [],
   "source": []
  },
  {
   "cell_type": "code",
   "execution_count": null,
   "id": "45222241",
   "metadata": {},
   "outputs": [],
   "source": []
  }
 ],
 "metadata": {
  "kernelspec": {
   "display_name": "Python 3 (ipykernel)",
   "language": "python",
   "name": "python3"
  },
  "language_info": {
   "codemirror_mode": {
    "name": "ipython",
    "version": 3
   },
   "file_extension": ".py",
   "mimetype": "text/x-python",
   "name": "python",
   "nbconvert_exporter": "python",
   "pygments_lexer": "ipython3",
   "version": "3.9.7"
  }
 },
 "nbformat": 4,
 "nbformat_minor": 5
}
